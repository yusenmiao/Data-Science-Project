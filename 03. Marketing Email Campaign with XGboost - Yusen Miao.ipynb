{
 "cells": [
  {
   "cell_type": "markdown",
   "metadata": {},
   "source": [
    "## Background\n",
    "The marketing team of an e-commerce site has launched an email campaign. This site has email\n",
    "addresses from all the users who created an account in the past.\n",
    "They have chosen a random sample of users and emailed them. The email let the user know\n",
    "about a new feature implemented on the site. From the marketing team perspective, a success\n",
    "is if the user clicks on the link inside of the email. This link takes the user to the company site.\n",
    "You are in charge of figuring out how the email campaign performed"
   ]
  },
  {
   "cell_type": "code",
   "execution_count": 1,
   "metadata": {},
   "outputs": [],
   "source": [
    "import numpy as np\n",
    "import pandas as pd\n",
    "import matplotlib.pyplot as plt\n",
    "import seaborn as sns\n",
    "from sklearn.metrics import auc, roc_curve, classification_report,precision_score,recall_score\n",
    "\n",
    "from sklearn.preprocessing import LabelEncoder\n",
    "from sklearn.feature_selection import chi2,f_classif\n",
    "\n",
    "from sklearn.model_selection import train_test_split\n",
    "import xgboost as xgb\n",
    "\n",
    "import warnings\n",
    "warnings.simplefilter('ignore')"
   ]
  },
  {
   "cell_type": "markdown",
   "metadata": {},
   "source": [
    "# 1. Load Dataset"
   ]
  },
  {
   "cell_type": "code",
   "execution_count": 2,
   "metadata": {},
   "outputs": [
    {
     "data": {
      "text/html": [
       "<div>\n",
       "<style scoped>\n",
       "    .dataframe tbody tr th:only-of-type {\n",
       "        vertical-align: middle;\n",
       "    }\n",
       "\n",
       "    .dataframe tbody tr th {\n",
       "        vertical-align: top;\n",
       "    }\n",
       "\n",
       "    .dataframe thead th {\n",
       "        text-align: right;\n",
       "    }\n",
       "</style>\n",
       "<table border=\"1\" class=\"dataframe\">\n",
       "  <thead>\n",
       "    <tr style=\"text-align: right;\">\n",
       "      <th></th>\n",
       "      <th>email_id</th>\n",
       "      <th>email_text</th>\n",
       "      <th>email_version</th>\n",
       "      <th>hour</th>\n",
       "      <th>weekday</th>\n",
       "      <th>user_country</th>\n",
       "      <th>user_past_purchases</th>\n",
       "    </tr>\n",
       "  </thead>\n",
       "  <tbody>\n",
       "    <tr>\n",
       "      <th>0</th>\n",
       "      <td>85120</td>\n",
       "      <td>short_email</td>\n",
       "      <td>personalized</td>\n",
       "      <td>2</td>\n",
       "      <td>Sunday</td>\n",
       "      <td>US</td>\n",
       "      <td>5</td>\n",
       "    </tr>\n",
       "    <tr>\n",
       "      <th>1</th>\n",
       "      <td>966622</td>\n",
       "      <td>long_email</td>\n",
       "      <td>personalized</td>\n",
       "      <td>12</td>\n",
       "      <td>Sunday</td>\n",
       "      <td>UK</td>\n",
       "      <td>2</td>\n",
       "    </tr>\n",
       "    <tr>\n",
       "      <th>2</th>\n",
       "      <td>777221</td>\n",
       "      <td>long_email</td>\n",
       "      <td>personalized</td>\n",
       "      <td>11</td>\n",
       "      <td>Wednesday</td>\n",
       "      <td>US</td>\n",
       "      <td>2</td>\n",
       "    </tr>\n",
       "    <tr>\n",
       "      <th>3</th>\n",
       "      <td>493711</td>\n",
       "      <td>short_email</td>\n",
       "      <td>generic</td>\n",
       "      <td>6</td>\n",
       "      <td>Monday</td>\n",
       "      <td>UK</td>\n",
       "      <td>1</td>\n",
       "    </tr>\n",
       "    <tr>\n",
       "      <th>4</th>\n",
       "      <td>106887</td>\n",
       "      <td>long_email</td>\n",
       "      <td>generic</td>\n",
       "      <td>14</td>\n",
       "      <td>Monday</td>\n",
       "      <td>US</td>\n",
       "      <td>6</td>\n",
       "    </tr>\n",
       "  </tbody>\n",
       "</table>\n",
       "</div>"
      ],
      "text/plain": [
       "   email_id   email_text email_version  hour    weekday user_country  \\\n",
       "0     85120  short_email  personalized     2     Sunday           US   \n",
       "1    966622   long_email  personalized    12     Sunday           UK   \n",
       "2    777221   long_email  personalized    11  Wednesday           US   \n",
       "3    493711  short_email       generic     6     Monday           UK   \n",
       "4    106887   long_email       generic    14     Monday           US   \n",
       "\n",
       "   user_past_purchases  \n",
       "0                    5  \n",
       "1                    2  \n",
       "2                    2  \n",
       "3                    1  \n",
       "4                    6  "
      ]
     },
     "execution_count": 2,
     "metadata": {},
     "output_type": "execute_result"
    }
   ],
   "source": [
    "# import email_table.csv\n",
    "df_original = pd.read_csv('email_table.csv')\n",
    "df_original.head()"
   ]
  },
  {
   "cell_type": "code",
   "execution_count": 3,
   "metadata": {},
   "outputs": [
    {
     "data": {
      "text/html": [
       "<div>\n",
       "<style scoped>\n",
       "    .dataframe tbody tr th:only-of-type {\n",
       "        vertical-align: middle;\n",
       "    }\n",
       "\n",
       "    .dataframe tbody tr th {\n",
       "        vertical-align: top;\n",
       "    }\n",
       "\n",
       "    .dataframe thead th {\n",
       "        text-align: right;\n",
       "    }\n",
       "</style>\n",
       "<table border=\"1\" class=\"dataframe\">\n",
       "  <thead>\n",
       "    <tr style=\"text-align: right;\">\n",
       "      <th></th>\n",
       "      <th>email_id</th>\n",
       "      <th>email_text</th>\n",
       "      <th>email_version</th>\n",
       "      <th>hour</th>\n",
       "      <th>weekday</th>\n",
       "      <th>user_country</th>\n",
       "      <th>user_past_purchases</th>\n",
       "    </tr>\n",
       "  </thead>\n",
       "  <tbody>\n",
       "    <tr>\n",
       "      <th>0</th>\n",
       "      <td>85120</td>\n",
       "      <td>short_email</td>\n",
       "      <td>personalized</td>\n",
       "      <td>2</td>\n",
       "      <td>Sunday</td>\n",
       "      <td>US</td>\n",
       "      <td>5</td>\n",
       "    </tr>\n",
       "    <tr>\n",
       "      <th>1</th>\n",
       "      <td>966622</td>\n",
       "      <td>long_email</td>\n",
       "      <td>personalized</td>\n",
       "      <td>12</td>\n",
       "      <td>Sunday</td>\n",
       "      <td>UK</td>\n",
       "      <td>2</td>\n",
       "    </tr>\n",
       "    <tr>\n",
       "      <th>2</th>\n",
       "      <td>777221</td>\n",
       "      <td>long_email</td>\n",
       "      <td>personalized</td>\n",
       "      <td>11</td>\n",
       "      <td>Wednesday</td>\n",
       "      <td>US</td>\n",
       "      <td>2</td>\n",
       "    </tr>\n",
       "    <tr>\n",
       "      <th>3</th>\n",
       "      <td>493711</td>\n",
       "      <td>short_email</td>\n",
       "      <td>generic</td>\n",
       "      <td>6</td>\n",
       "      <td>Monday</td>\n",
       "      <td>UK</td>\n",
       "      <td>1</td>\n",
       "    </tr>\n",
       "    <tr>\n",
       "      <th>4</th>\n",
       "      <td>106887</td>\n",
       "      <td>long_email</td>\n",
       "      <td>generic</td>\n",
       "      <td>14</td>\n",
       "      <td>Monday</td>\n",
       "      <td>US</td>\n",
       "      <td>6</td>\n",
       "    </tr>\n",
       "  </tbody>\n",
       "</table>\n",
       "</div>"
      ],
      "text/plain": [
       "   email_id   email_text email_version  hour    weekday user_country  \\\n",
       "0     85120  short_email  personalized     2     Sunday           US   \n",
       "1    966622   long_email  personalized    12     Sunday           UK   \n",
       "2    777221   long_email  personalized    11  Wednesday           US   \n",
       "3    493711  short_email       generic     6     Monday           UK   \n",
       "4    106887   long_email       generic    14     Monday           US   \n",
       "\n",
       "   user_past_purchases  \n",
       "0                    5  \n",
       "1                    2  \n",
       "2                    2  \n",
       "3                    1  \n",
       "4                    6  "
      ]
     },
     "execution_count": 3,
     "metadata": {},
     "output_type": "execute_result"
    }
   ],
   "source": [
    "df = df_original.copy()\n",
    "df.head()"
   ]
  },
  {
   "cell_type": "code",
   "execution_count": 4,
   "metadata": {},
   "outputs": [
    {
     "name": "stdout",
     "output_type": "stream",
     "text": [
      "<class 'pandas.core.frame.DataFrame'>\n",
      "RangeIndex: 100000 entries, 0 to 99999\n",
      "Data columns (total 7 columns):\n",
      " #   Column               Non-Null Count   Dtype\n",
      "---  ------               --------------   -----\n",
      " 0   email_id             100000 non-null  bool \n",
      " 1   email_text           100000 non-null  bool \n",
      " 2   email_version        100000 non-null  bool \n",
      " 3   hour                 100000 non-null  bool \n",
      " 4   weekday              100000 non-null  bool \n",
      " 5   user_country         100000 non-null  bool \n",
      " 6   user_past_purchases  100000 non-null  bool \n",
      "dtypes: bool(7)\n",
      "memory usage: 683.7 KB\n"
     ]
    }
   ],
   "source": [
    "# basic information\n",
    "df.isnull().info()"
   ]
  },
  {
   "cell_type": "code",
   "execution_count": 5,
   "metadata": {},
   "outputs": [
    {
     "data": {
      "text/plain": [
       "email_id               0\n",
       "email_text             0\n",
       "email_version          0\n",
       "hour                   0\n",
       "weekday                0\n",
       "user_country           0\n",
       "user_past_purchases    0\n",
       "dtype: int64"
      ]
     },
     "execution_count": 5,
     "metadata": {},
     "output_type": "execute_result"
    }
   ],
   "source": [
    "# check missing values\n",
    "df.isnull().sum()"
   ]
  },
  {
   "cell_type": "code",
   "execution_count": 6,
   "metadata": {},
   "outputs": [
    {
     "data": {
      "text/html": [
       "<div>\n",
       "<style scoped>\n",
       "    .dataframe tbody tr th:only-of-type {\n",
       "        vertical-align: middle;\n",
       "    }\n",
       "\n",
       "    .dataframe tbody tr th {\n",
       "        vertical-align: top;\n",
       "    }\n",
       "\n",
       "    .dataframe thead th {\n",
       "        text-align: right;\n",
       "    }\n",
       "</style>\n",
       "<table border=\"1\" class=\"dataframe\">\n",
       "  <thead>\n",
       "    <tr style=\"text-align: right;\">\n",
       "      <th></th>\n",
       "      <th>email_id</th>\n",
       "    </tr>\n",
       "  </thead>\n",
       "  <tbody>\n",
       "    <tr>\n",
       "      <th>0</th>\n",
       "      <td>284534</td>\n",
       "    </tr>\n",
       "    <tr>\n",
       "      <th>1</th>\n",
       "      <td>609056</td>\n",
       "    </tr>\n",
       "    <tr>\n",
       "      <th>2</th>\n",
       "      <td>220820</td>\n",
       "    </tr>\n",
       "    <tr>\n",
       "      <th>3</th>\n",
       "      <td>905936</td>\n",
       "    </tr>\n",
       "    <tr>\n",
       "      <th>4</th>\n",
       "      <td>164034</td>\n",
       "    </tr>\n",
       "  </tbody>\n",
       "</table>\n",
       "</div>"
      ],
      "text/plain": [
       "   email_id\n",
       "0    284534\n",
       "1    609056\n",
       "2    220820\n",
       "3    905936\n",
       "4    164034"
      ]
     },
     "execution_count": 6,
     "metadata": {},
     "output_type": "execute_result"
    }
   ],
   "source": [
    "# import email_opened_table.csv\n",
    "df_original_email_opened = pd.read_csv('email_opened_table.csv')\n",
    "df_email_opened = df_original_email_opened.copy()\n",
    "df_email_opened.head()"
   ]
  },
  {
   "cell_type": "code",
   "execution_count": 7,
   "metadata": {
    "scrolled": true
   },
   "outputs": [
    {
     "name": "stdout",
     "output_type": "stream",
     "text": [
      "<class 'pandas.core.frame.DataFrame'>\n",
      "RangeIndex: 10345 entries, 0 to 10344\n",
      "Data columns (total 1 columns):\n",
      " #   Column    Non-Null Count  Dtype\n",
      "---  ------    --------------  -----\n",
      " 0   email_id  10345 non-null  int64\n",
      "dtypes: int64(1)\n",
      "memory usage: 80.9 KB\n"
     ]
    }
   ],
   "source": [
    "# basic information\n",
    "df_email_opened.info()"
   ]
  },
  {
   "cell_type": "code",
   "execution_count": 8,
   "metadata": {},
   "outputs": [
    {
     "data": {
      "text/plain": [
       "email_id    0\n",
       "dtype: int64"
      ]
     },
     "execution_count": 8,
     "metadata": {},
     "output_type": "execute_result"
    }
   ],
   "source": [
    "# check missing values\n",
    "df_email_opened.isnull().sum()"
   ]
  },
  {
   "cell_type": "code",
   "execution_count": 9,
   "metadata": {},
   "outputs": [
    {
     "data": {
      "text/html": [
       "<div>\n",
       "<style scoped>\n",
       "    .dataframe tbody tr th:only-of-type {\n",
       "        vertical-align: middle;\n",
       "    }\n",
       "\n",
       "    .dataframe tbody tr th {\n",
       "        vertical-align: top;\n",
       "    }\n",
       "\n",
       "    .dataframe thead th {\n",
       "        text-align: right;\n",
       "    }\n",
       "</style>\n",
       "<table border=\"1\" class=\"dataframe\">\n",
       "  <thead>\n",
       "    <tr style=\"text-align: right;\">\n",
       "      <th></th>\n",
       "      <th>email_id</th>\n",
       "    </tr>\n",
       "  </thead>\n",
       "  <tbody>\n",
       "    <tr>\n",
       "      <th>0</th>\n",
       "      <td>609056</td>\n",
       "    </tr>\n",
       "    <tr>\n",
       "      <th>1</th>\n",
       "      <td>870980</td>\n",
       "    </tr>\n",
       "    <tr>\n",
       "      <th>2</th>\n",
       "      <td>935124</td>\n",
       "    </tr>\n",
       "    <tr>\n",
       "      <th>3</th>\n",
       "      <td>158501</td>\n",
       "    </tr>\n",
       "    <tr>\n",
       "      <th>4</th>\n",
       "      <td>177561</td>\n",
       "    </tr>\n",
       "  </tbody>\n",
       "</table>\n",
       "</div>"
      ],
      "text/plain": [
       "   email_id\n",
       "0    609056\n",
       "1    870980\n",
       "2    935124\n",
       "3    158501\n",
       "4    177561"
      ]
     },
     "execution_count": 9,
     "metadata": {},
     "output_type": "execute_result"
    }
   ],
   "source": [
    "# import link_clicked_table.csv\n",
    "df_original_link_clicked = pd.read_csv('link_clicked_table.csv')\n",
    "df_link_clicked = df_original_link_clicked.copy()\n",
    "df_link_clicked.head()"
   ]
  },
  {
   "cell_type": "code",
   "execution_count": 10,
   "metadata": {},
   "outputs": [
    {
     "name": "stdout",
     "output_type": "stream",
     "text": [
      "<class 'pandas.core.frame.DataFrame'>\n",
      "RangeIndex: 2119 entries, 0 to 2118\n",
      "Data columns (total 1 columns):\n",
      " #   Column    Non-Null Count  Dtype\n",
      "---  ------    --------------  -----\n",
      " 0   email_id  2119 non-null   int64\n",
      "dtypes: int64(1)\n",
      "memory usage: 16.7 KB\n"
     ]
    }
   ],
   "source": [
    "# basic information\n",
    "df_link_clicked.info()"
   ]
  },
  {
   "cell_type": "code",
   "execution_count": 11,
   "metadata": {},
   "outputs": [
    {
     "data": {
      "text/plain": [
       "email_id    0\n",
       "dtype: int64"
      ]
     },
     "execution_count": 11,
     "metadata": {},
     "output_type": "execute_result"
    }
   ],
   "source": [
    "# check missing values\n",
    "df_link_clicked.isnull().sum()"
   ]
  },
  {
   "cell_type": "code",
   "execution_count": 12,
   "metadata": {},
   "outputs": [
    {
     "name": "stdout",
     "output_type": "stream",
     "text": [
      "email_table.csv:  100000\n",
      "email_opened_table.csv:  10345\n",
      "link_clicked_table.csv:  2119\n"
     ]
    }
   ],
   "source": [
    "# check uniqueness of email_id in three tables\n",
    "print('email_table.csv: ', len(df['email_id'].unique()))\n",
    "print('email_opened_table.csv: ', len(df_email_opened['email_id'].unique()))\n",
    "print('link_clicked_table.csv: ', len(df_link_clicked['email_id'].unique()))"
   ]
  },
  {
   "cell_type": "markdown",
   "metadata": {},
   "source": [
    "# 2. Data Processing"
   ]
  },
  {
   "cell_type": "code",
   "execution_count": 13,
   "metadata": {},
   "outputs": [
    {
     "data": {
      "text/html": [
       "<div>\n",
       "<style scoped>\n",
       "    .dataframe tbody tr th:only-of-type {\n",
       "        vertical-align: middle;\n",
       "    }\n",
       "\n",
       "    .dataframe tbody tr th {\n",
       "        vertical-align: top;\n",
       "    }\n",
       "\n",
       "    .dataframe thead th {\n",
       "        text-align: right;\n",
       "    }\n",
       "</style>\n",
       "<table border=\"1\" class=\"dataframe\">\n",
       "  <thead>\n",
       "    <tr style=\"text-align: right;\">\n",
       "      <th></th>\n",
       "      <th>email_id</th>\n",
       "      <th>email_text</th>\n",
       "      <th>email_version</th>\n",
       "      <th>hour</th>\n",
       "      <th>weekday</th>\n",
       "      <th>user_country</th>\n",
       "      <th>user_past_purchases</th>\n",
       "      <th>opened</th>\n",
       "      <th>clicked</th>\n",
       "    </tr>\n",
       "  </thead>\n",
       "  <tbody>\n",
       "    <tr>\n",
       "      <th>0</th>\n",
       "      <td>85120</td>\n",
       "      <td>short_email</td>\n",
       "      <td>personalized</td>\n",
       "      <td>2</td>\n",
       "      <td>Sunday</td>\n",
       "      <td>US</td>\n",
       "      <td>5</td>\n",
       "      <td>0.0</td>\n",
       "      <td>0.0</td>\n",
       "    </tr>\n",
       "    <tr>\n",
       "      <th>1</th>\n",
       "      <td>966622</td>\n",
       "      <td>long_email</td>\n",
       "      <td>personalized</td>\n",
       "      <td>12</td>\n",
       "      <td>Sunday</td>\n",
       "      <td>UK</td>\n",
       "      <td>2</td>\n",
       "      <td>1.0</td>\n",
       "      <td>1.0</td>\n",
       "    </tr>\n",
       "    <tr>\n",
       "      <th>2</th>\n",
       "      <td>777221</td>\n",
       "      <td>long_email</td>\n",
       "      <td>personalized</td>\n",
       "      <td>11</td>\n",
       "      <td>Wednesday</td>\n",
       "      <td>US</td>\n",
       "      <td>2</td>\n",
       "      <td>0.0</td>\n",
       "      <td>0.0</td>\n",
       "    </tr>\n",
       "    <tr>\n",
       "      <th>3</th>\n",
       "      <td>493711</td>\n",
       "      <td>short_email</td>\n",
       "      <td>generic</td>\n",
       "      <td>6</td>\n",
       "      <td>Monday</td>\n",
       "      <td>UK</td>\n",
       "      <td>1</td>\n",
       "      <td>0.0</td>\n",
       "      <td>0.0</td>\n",
       "    </tr>\n",
       "    <tr>\n",
       "      <th>4</th>\n",
       "      <td>106887</td>\n",
       "      <td>long_email</td>\n",
       "      <td>generic</td>\n",
       "      <td>14</td>\n",
       "      <td>Monday</td>\n",
       "      <td>US</td>\n",
       "      <td>6</td>\n",
       "      <td>0.0</td>\n",
       "      <td>0.0</td>\n",
       "    </tr>\n",
       "  </tbody>\n",
       "</table>\n",
       "</div>"
      ],
      "text/plain": [
       "   email_id   email_text email_version  hour    weekday user_country  \\\n",
       "0     85120  short_email  personalized     2     Sunday           US   \n",
       "1    966622   long_email  personalized    12     Sunday           UK   \n",
       "2    777221   long_email  personalized    11  Wednesday           US   \n",
       "3    493711  short_email       generic     6     Monday           UK   \n",
       "4    106887   long_email       generic    14     Monday           US   \n",
       "\n",
       "   user_past_purchases  opened  clicked  \n",
       "0                    5     0.0      0.0  \n",
       "1                    2     1.0      1.0  \n",
       "2                    2     0.0      0.0  \n",
       "3                    1     0.0      0.0  \n",
       "4                    6     0.0      0.0  "
      ]
     },
     "execution_count": 13,
     "metadata": {},
     "output_type": "execute_result"
    }
   ],
   "source": [
    "# merge three table into one\n",
    "\n",
    "# create a new column for \"df_email_opened\"\n",
    "df_email_opened['opened'] = 1\n",
    "\n",
    "# create a new column for \"df__link_clicked\"\n",
    "df_link_clicked['clicked'] = 1\n",
    "\n",
    "# merge\n",
    "df = pd.merge(left = df, right = df_email_opened, how = 'left', on = 'email_id')\n",
    "df = pd.merge(left = df, right = df_link_clicked, how = 'left', on = 'email_id')\n",
    "\n",
    "# fill NA with 0\n",
    "df = df.fillna(value = 0)\n",
    "\n",
    "df.head()"
   ]
  },
  {
   "cell_type": "code",
   "execution_count": 14,
   "metadata": {},
   "outputs": [
    {
     "data": {
      "text/html": [
       "<div>\n",
       "<style scoped>\n",
       "    .dataframe tbody tr th:only-of-type {\n",
       "        vertical-align: middle;\n",
       "    }\n",
       "\n",
       "    .dataframe tbody tr th {\n",
       "        vertical-align: top;\n",
       "    }\n",
       "\n",
       "    .dataframe thead th {\n",
       "        text-align: right;\n",
       "    }\n",
       "</style>\n",
       "<table border=\"1\" class=\"dataframe\">\n",
       "  <thead>\n",
       "    <tr style=\"text-align: right;\">\n",
       "      <th></th>\n",
       "      <th>email_id</th>\n",
       "      <th>email_text</th>\n",
       "      <th>email_version</th>\n",
       "      <th>hour</th>\n",
       "      <th>weekday</th>\n",
       "      <th>user_country</th>\n",
       "      <th>user_past_purchases</th>\n",
       "      <th>opened</th>\n",
       "      <th>clicked</th>\n",
       "    </tr>\n",
       "  </thead>\n",
       "  <tbody>\n",
       "    <tr>\n",
       "      <th>0</th>\n",
       "      <td>85120</td>\n",
       "      <td>short_email</td>\n",
       "      <td>personalized</td>\n",
       "      <td>2</td>\n",
       "      <td>Sunday</td>\n",
       "      <td>US</td>\n",
       "      <td>5</td>\n",
       "      <td>0</td>\n",
       "      <td>0</td>\n",
       "    </tr>\n",
       "    <tr>\n",
       "      <th>1</th>\n",
       "      <td>966622</td>\n",
       "      <td>long_email</td>\n",
       "      <td>personalized</td>\n",
       "      <td>12</td>\n",
       "      <td>Sunday</td>\n",
       "      <td>UK</td>\n",
       "      <td>2</td>\n",
       "      <td>1</td>\n",
       "      <td>1</td>\n",
       "    </tr>\n",
       "    <tr>\n",
       "      <th>2</th>\n",
       "      <td>777221</td>\n",
       "      <td>long_email</td>\n",
       "      <td>personalized</td>\n",
       "      <td>11</td>\n",
       "      <td>Wednesday</td>\n",
       "      <td>US</td>\n",
       "      <td>2</td>\n",
       "      <td>0</td>\n",
       "      <td>0</td>\n",
       "    </tr>\n",
       "    <tr>\n",
       "      <th>3</th>\n",
       "      <td>493711</td>\n",
       "      <td>short_email</td>\n",
       "      <td>generic</td>\n",
       "      <td>6</td>\n",
       "      <td>Monday</td>\n",
       "      <td>UK</td>\n",
       "      <td>1</td>\n",
       "      <td>0</td>\n",
       "      <td>0</td>\n",
       "    </tr>\n",
       "    <tr>\n",
       "      <th>4</th>\n",
       "      <td>106887</td>\n",
       "      <td>long_email</td>\n",
       "      <td>generic</td>\n",
       "      <td>14</td>\n",
       "      <td>Monday</td>\n",
       "      <td>US</td>\n",
       "      <td>6</td>\n",
       "      <td>0</td>\n",
       "      <td>0</td>\n",
       "    </tr>\n",
       "  </tbody>\n",
       "</table>\n",
       "</div>"
      ],
      "text/plain": [
       "   email_id   email_text email_version  hour    weekday user_country  \\\n",
       "0     85120  short_email  personalized     2     Sunday           US   \n",
       "1    966622   long_email  personalized    12     Sunday           UK   \n",
       "2    777221   long_email  personalized    11  Wednesday           US   \n",
       "3    493711  short_email       generic     6     Monday           UK   \n",
       "4    106887   long_email       generic    14     Monday           US   \n",
       "\n",
       "   user_past_purchases  opened  clicked  \n",
       "0                    5       0        0  \n",
       "1                    2       1        1  \n",
       "2                    2       0        0  \n",
       "3                    1       0        0  \n",
       "4                    6       0        0  "
      ]
     },
     "execution_count": 14,
     "metadata": {},
     "output_type": "execute_result"
    }
   ],
   "source": [
    "# change column 'opened' and 'clicked' into integer\n",
    "df['opened'] = df['opened'].astype(int)\n",
    "df['clicked'] = df['clicked'].astype(int)\n",
    "df.head()"
   ]
  },
  {
   "cell_type": "markdown",
   "metadata": {},
   "source": [
    "# Question 01\n",
    "##### What percentage of users opened the email and what percentage clicked on the link within the email?"
   ]
  },
  {
   "cell_type": "code",
   "execution_count": 15,
   "metadata": {},
   "outputs": [
    {
     "name": "stdout",
     "output_type": "stream",
     "text": [
      "The percentage of users opened the email: 10.345%\n",
      "The percentage clicked on the link within the email: 2.119%\n"
     ]
    }
   ],
   "source": [
    "print(f\"The percentage of users opened the email: {df['opened'].mean()*100}%\")\n",
    "print(f\"The percentage clicked on the link within the email: {df['clicked'].mean()*100}%\")"
   ]
  },
  {
   "cell_type": "markdown",
   "metadata": {},
   "source": [
    "# Question 02\n",
    "#####  Did you find any interesting pattern on how the email campaign performed for different segments of users?"
   ]
  },
  {
   "cell_type": "markdown",
   "metadata": {},
   "source": [
    "## EDA\n",
    "\n",
    "* EDA help us understand the data"
   ]
  },
  {
   "cell_type": "code",
   "execution_count": 16,
   "metadata": {},
   "outputs": [
    {
     "data": {
      "text/plain": [
       "0    0.97881\n",
       "1    0.02119\n",
       "Name: clicked, dtype: float64"
      ]
     },
     "execution_count": 16,
     "metadata": {},
     "output_type": "execute_result"
    }
   ],
   "source": [
    "# check if our target variable is imbalanced \n",
    "clicked_dist = df['clicked'].value_counts(normalize=True)\n",
    "clicked_dist"
   ]
  },
  {
   "cell_type": "markdown",
   "metadata": {},
   "source": [
    "* As we can see above, it is **highly imbalanced**"
   ]
  },
  {
   "cell_type": "markdown",
   "metadata": {},
   "source": [
    "### Chi-Square test\n",
    " * Chi-Square help us find which feature have great impact on click rate"
   ]
  },
  {
   "cell_type": "code",
   "execution_count": 17,
   "metadata": {},
   "outputs": [],
   "source": [
    "# convert string to number for checking feature importance in the futrue\n",
    "email_text_encoder = LabelEncoder()\n",
    "email_version_encoder = LabelEncoder()\n",
    "user_countryl_encoder = LabelEncoder()\n",
    "\n",
    "df_ch2 = df.copy()\n",
    "\n",
    "df_ch2['email_text'] = email_text_encoder.fit_transform(df_ch2['email_text'])\n",
    "df_ch2['email_version'] = email_text_encoder.fit_transform(df_ch2['email_version'])\n",
    "df_ch2['user_country'] = email_text_encoder.fit_transform(df_ch2['user_country'])\n",
    "\n",
    "df_ch2['weekday'] = df_ch2['weekday'].map({\"Monday\":1,\"Tuesday\":2,\"Wednesday\":3,\"Thursday\":4,\"Friday\":5,\"Saturday\":6,\"Sunday\":7})"
   ]
  },
  {
   "cell_type": "code",
   "execution_count": 18,
   "metadata": {},
   "outputs": [
    {
     "data": {
      "text/html": [
       "<div>\n",
       "<style scoped>\n",
       "    .dataframe tbody tr th:only-of-type {\n",
       "        vertical-align: middle;\n",
       "    }\n",
       "\n",
       "    .dataframe tbody tr th {\n",
       "        vertical-align: top;\n",
       "    }\n",
       "\n",
       "    .dataframe thead th {\n",
       "        text-align: right;\n",
       "    }\n",
       "</style>\n",
       "<table border=\"1\" class=\"dataframe\">\n",
       "  <thead>\n",
       "    <tr style=\"text-align: right;\">\n",
       "      <th></th>\n",
       "      <th>email_id</th>\n",
       "      <th>email_text</th>\n",
       "      <th>email_version</th>\n",
       "      <th>hour</th>\n",
       "      <th>weekday</th>\n",
       "      <th>user_country</th>\n",
       "      <th>user_past_purchases</th>\n",
       "      <th>opened</th>\n",
       "      <th>clicked</th>\n",
       "    </tr>\n",
       "  </thead>\n",
       "  <tbody>\n",
       "    <tr>\n",
       "      <th>0</th>\n",
       "      <td>85120</td>\n",
       "      <td>1</td>\n",
       "      <td>1</td>\n",
       "      <td>2</td>\n",
       "      <td>7</td>\n",
       "      <td>3</td>\n",
       "      <td>5</td>\n",
       "      <td>0</td>\n",
       "      <td>0</td>\n",
       "    </tr>\n",
       "    <tr>\n",
       "      <th>1</th>\n",
       "      <td>966622</td>\n",
       "      <td>0</td>\n",
       "      <td>1</td>\n",
       "      <td>12</td>\n",
       "      <td>7</td>\n",
       "      <td>2</td>\n",
       "      <td>2</td>\n",
       "      <td>1</td>\n",
       "      <td>1</td>\n",
       "    </tr>\n",
       "    <tr>\n",
       "      <th>2</th>\n",
       "      <td>777221</td>\n",
       "      <td>0</td>\n",
       "      <td>1</td>\n",
       "      <td>11</td>\n",
       "      <td>3</td>\n",
       "      <td>3</td>\n",
       "      <td>2</td>\n",
       "      <td>0</td>\n",
       "      <td>0</td>\n",
       "    </tr>\n",
       "    <tr>\n",
       "      <th>3</th>\n",
       "      <td>493711</td>\n",
       "      <td>1</td>\n",
       "      <td>0</td>\n",
       "      <td>6</td>\n",
       "      <td>1</td>\n",
       "      <td>2</td>\n",
       "      <td>1</td>\n",
       "      <td>0</td>\n",
       "      <td>0</td>\n",
       "    </tr>\n",
       "    <tr>\n",
       "      <th>4</th>\n",
       "      <td>106887</td>\n",
       "      <td>0</td>\n",
       "      <td>0</td>\n",
       "      <td>14</td>\n",
       "      <td>1</td>\n",
       "      <td>3</td>\n",
       "      <td>6</td>\n",
       "      <td>0</td>\n",
       "      <td>0</td>\n",
       "    </tr>\n",
       "  </tbody>\n",
       "</table>\n",
       "</div>"
      ],
      "text/plain": [
       "   email_id  email_text  email_version  hour  weekday  user_country  \\\n",
       "0     85120           1              1     2        7             3   \n",
       "1    966622           0              1    12        7             2   \n",
       "2    777221           0              1    11        3             3   \n",
       "3    493711           1              0     6        1             2   \n",
       "4    106887           0              0    14        1             3   \n",
       "\n",
       "   user_past_purchases  opened  clicked  \n",
       "0                    5       0        0  \n",
       "1                    2       1        1  \n",
       "2                    2       0        0  \n",
       "3                    1       0        0  \n",
       "4                    6       0        0  "
      ]
     },
     "execution_count": 18,
     "metadata": {},
     "output_type": "execute_result"
    }
   ],
   "source": [
    "df_ch2.head()"
   ]
  },
  {
   "cell_type": "code",
   "execution_count": 19,
   "metadata": {
    "scrolled": true
   },
   "outputs": [
    {
     "data": {
      "text/html": [
       "<div>\n",
       "<style scoped>\n",
       "    .dataframe tbody tr th:only-of-type {\n",
       "        vertical-align: middle;\n",
       "    }\n",
       "\n",
       "    .dataframe tbody tr th {\n",
       "        vertical-align: top;\n",
       "    }\n",
       "\n",
       "    .dataframe thead th {\n",
       "        text-align: right;\n",
       "    }\n",
       "</style>\n",
       "<table border=\"1\" class=\"dataframe\">\n",
       "  <thead>\n",
       "    <tr style=\"text-align: right;\">\n",
       "      <th></th>\n",
       "      <th>chi2_value</th>\n",
       "      <th>p-value</th>\n",
       "    </tr>\n",
       "  </thead>\n",
       "  <tbody>\n",
       "    <tr>\n",
       "      <th>user_past_purchases</th>\n",
       "      <td>2928.424627</td>\n",
       "      <td>0.000000e+00</td>\n",
       "    </tr>\n",
       "    <tr>\n",
       "      <th>email_version</th>\n",
       "      <td>89.446479</td>\n",
       "      <td>3.150472e-21</td>\n",
       "    </tr>\n",
       "    <tr>\n",
       "      <th>user_country</th>\n",
       "      <td>70.149639</td>\n",
       "      <td>5.497210e-17</td>\n",
       "    </tr>\n",
       "    <tr>\n",
       "      <th>weekday</th>\n",
       "      <td>52.300232</td>\n",
       "      <td>4.763182e-13</td>\n",
       "    </tr>\n",
       "    <tr>\n",
       "      <th>hour</th>\n",
       "      <td>26.552637</td>\n",
       "      <td>2.564544e-07</td>\n",
       "    </tr>\n",
       "    <tr>\n",
       "      <th>email_text</th>\n",
       "      <td>17.241715</td>\n",
       "      <td>3.291296e-05</td>\n",
       "    </tr>\n",
       "  </tbody>\n",
       "</table>\n",
       "</div>"
      ],
      "text/plain": [
       "                      chi2_value       p-value\n",
       "user_past_purchases  2928.424627  0.000000e+00\n",
       "email_version          89.446479  3.150472e-21\n",
       "user_country           70.149639  5.497210e-17\n",
       "weekday                52.300232  4.763182e-13\n",
       "hour                   26.552637  2.564544e-07\n",
       "email_text             17.241715  3.291296e-05"
      ]
     },
     "execution_count": 19,
     "metadata": {},
     "output_type": "execute_result"
    }
   ],
   "source": [
    "colnames = ['email_text', 'email_version', 'hour', 'weekday', 'user_country', 'user_past_purchases']\n",
    "X = df_ch2.loc[:,colnames]\n",
    "y = df_ch2['clicked']\n",
    "ch2values, p_value = chi2(X, y)\n",
    "pd.DataFrame({'chi2_value':ch2values,'p-value':p_value},index = colnames).sort_values(by='p-value')"
   ]
  },
  {
   "cell_type": "markdown",
   "metadata": {},
   "source": [
    "As we can see above,\n",
    "\n",
    "* The important features: 'user_past_purchases', 'email_version', and 'user_country'\n",
    "* Relatively, not that important features: 'weekday', 'hour', and 'email text'"
   ]
  },
  {
   "cell_type": "markdown",
   "metadata": {},
   "source": [
    "### I. Visualization of user_past_purchases\n",
    "*  how many items in the past were bought by the user receiving the email"
   ]
  },
  {
   "cell_type": "code",
   "execution_count": 20,
   "metadata": {},
   "outputs": [
    {
     "data": {
      "image/png": "[encoded data removed]",
      "text/plain": [
       "<Figure size 1296x432 with 2 Axes>"
      ]
     },
     "metadata": {
      "needs_background": "light"
     },
     "output_type": "display_data"
    }
   ],
   "source": [
    "fig, ax = plt.subplots(nrows=1, ncols=2, figsize=(18,6))\n",
    "\n",
    "\n",
    "sns.countplot(x='user_past_purchases',data=df, ax=ax[0])\n",
    "ax[0].set_xlabel('Number item purchased in the past', fontsize=12)\n",
    "ax[0].set_ylabel('Count', fontsize=12)\n",
    "ax[0].set_title('Count Plot of User Past Purchases', fontsize=16)\n",
    "\n",
    "\n",
    "sns.barplot(x='user_past_purchases', y='clicked',data=df, ax=ax[1])\n",
    "ax[1].set_xlabel('Number item purchased in the past', fontsize=12)\n",
    "ax[1].set_ylabel('Click Through Rate', fontsize=12)\n",
    "ax[1].set_title('Click Through Rate vs. User Past Purchases', fontsize=16)\n",
    "plt.show()"
   ]
  },
  {
   "cell_type": "markdown",
   "metadata": {},
   "source": [
    "In the above plots,\n",
    "* the number of purchases is **positively correlated** with the click-through rate. Especially when the purchase is more than 20 times, the click-through rate increases significantly\n",
    "* When the number of purchases are 17 and 18, the click-through rate decreased. Maybe because there are not enought sample size, so our company only captured this gorup of users who are unwilling to click. But we need further investigation \n",
    "* There is no any click when the number of purchases is 20, and it is very unusual. Maybe there are some technical issues prevent customers from clicking, or because the numbers of this group users are too small, so our company just happened not to send any emails to this group of users"
   ]
  },
  {
   "cell_type": "markdown",
   "metadata": {},
   "source": [
    "### II. Visualization of email_version\n",
    "*   Some emails were \"personalized\" (i.e. they had the name of the user receiving the email in the incipit, such as \"Hi John,\"), while some emails were \"generic\" (the incipit was just \"Hi,\")."
   ]
  },
  {
   "cell_type": "code",
   "execution_count": 21,
   "metadata": {},
   "outputs": [
    {
     "data": {
      "image/png": "[encoded data removed]",
      "text/plain": [
       "<Figure size 1296x432 with 2 Axes>"
      ]
     },
     "metadata": {
      "needs_background": "light"
     },
     "output_type": "display_data"
    }
   ],
   "source": [
    "fig, ax = plt.subplots(nrows=1, ncols=2, figsize=(18,6))\n",
    "\n",
    "\n",
    "sns.countplot(x='email_version',data=df, ax=ax[0])\n",
    "ax[0].set_xlabel('Email Version', fontsize=12)\n",
    "ax[0].set_ylabel('Count', fontsize=12)\n",
    "ax[0].set_title('Count Plot of Email Version', fontsize=16)\n",
    "\n",
    "\n",
    "sns.barplot(x='email_version', y='clicked',data=df, ax=ax[1])\n",
    "ax[1].set_xlabel('Email Version', fontsize=12)\n",
    "ax[1].set_ylabel('Click Through Rate', fontsize=12)\n",
    "ax[1].set_title('Click Through Rate vs. Email Version', fontsize=16)\n",
    "plt.show()"
   ]
  },
  {
   "cell_type": "markdown",
   "metadata": {},
   "source": [
    "In the above plots,\n",
    "* It is clear that **personalized emails** can bring higher click-through rate"
   ]
  },
  {
   "cell_type": "markdown",
   "metadata": {},
   "source": [
    "### III. Visualization of user_country\n",
    "*   The country where the user receiving the email was based. It comes from the user ip address when user created the account."
   ]
  },
  {
   "cell_type": "code",
   "execution_count": 22,
   "metadata": {},
   "outputs": [
    {
     "data": {
      "image/png": "[encoded data removed]",
      "text/plain": [
       "<Figure size 1296x432 with 2 Axes>"
      ]
     },
     "metadata": {
      "needs_background": "light"
     },
     "output_type": "display_data"
    }
   ],
   "source": [
    "fig, ax = plt.subplots(nrows=1, ncols=2, figsize=(18,6))\n",
    "\n",
    "\n",
    "sns.countplot(x='user_country',data=df, ax=ax[0])\n",
    "ax[0].set_xlabel('User Country', fontsize=12)\n",
    "ax[0].set_ylabel('Count', fontsize=12)\n",
    "ax[0].set_title('Count Plot of User Country', fontsize=16)\n",
    "\n",
    "\n",
    "sns.barplot(x='user_country', y='clicked',data=df, ax=ax[1])\n",
    "ax[1].set_xlabel('User Country', fontsize=12)\n",
    "ax[1].set_ylabel('Click Through Rate', fontsize=12)\n",
    "ax[1].set_title('Click Through Rate vs. User Country', fontsize=16)\n",
    "plt.show()"
   ]
  },
  {
   "cell_type": "markdown",
   "metadata": {},
   "source": [
    "In the above plots,\n",
    "* **US** and **UK** users have the highest click-through rate"
   ]
  },
  {
   "cell_type": "markdown",
   "metadata": {},
   "source": [
    "### IV. Visualization of weekday\n",
    "*   The day when the email was sent."
   ]
  },
  {
   "cell_type": "code",
   "execution_count": 23,
   "metadata": {},
   "outputs": [
    {
     "data": {
      "image/png": "[encoded data removed]",
      "text/plain": [
       "<Figure size 1296x432 with 2 Axes>"
      ]
     },
     "metadata": {
      "needs_background": "light"
     },
     "output_type": "display_data"
    }
   ],
   "source": [
    "fig, ax = plt.subplots(nrows=1, ncols=2, figsize=(18,6))\n",
    "\n",
    "\n",
    "sns.countplot(x='weekday',data=df, ax=ax[0])\n",
    "ax[0].set_xlabel('Weekday', fontsize=12)\n",
    "ax[0].set_ylabel('Count', fontsize=12)\n",
    "ax[0].set_title('Count Plot of Weekday', fontsize=16)\n",
    "\n",
    "\n",
    "sns.barplot(x='weekday', y='clicked',data=df, ax=ax[1])\n",
    "ax[1].set_xlabel('Weekday', fontsize=12)\n",
    "ax[1].set_ylabel('Click Through Rate', fontsize=12)\n",
    "ax[1].set_title('Click Through Rate vs. Weekday', fontsize=16)\n",
    "plt.show()"
   ]
  },
  {
   "cell_type": "markdown",
   "metadata": {},
   "source": [
    "In the above plots,\n",
    "* **Wednesday** have the highest click-through rate\n",
    "* The click-through rate of **Tuesday** and **Thursday** are also very high"
   ]
  },
  {
   "cell_type": "markdown",
   "metadata": {},
   "source": [
    "### V. Visualization of hour\n",
    "*   The user local time when the email was sent."
   ]
  },
  {
   "cell_type": "code",
   "execution_count": 24,
   "metadata": {},
   "outputs": [
    {
     "data": {
      "image/png": "[encoded data removed]",
      "text/plain": [
       "<Figure size 1296x432 with 2 Axes>"
      ]
     },
     "metadata": {
      "needs_background": "light"
     },
     "output_type": "display_data"
    }
   ],
   "source": [
    "fig, ax = plt.subplots(nrows=1, ncols=2, figsize=(18,6))\n",
    "\n",
    "\n",
    "sns.countplot(x='hour',data=df, ax=ax[0])\n",
    "ax[0].set_xlabel('Email Sent Hour', fontsize=12)\n",
    "ax[0].set_ylabel('Count', fontsize=12)\n",
    "ax[0].set_title('Count Plot of Email Sent Hour', fontsize=16)\n",
    "\n",
    "\n",
    "sns.barplot(x='hour', y='clicked',data=df, ax=ax[1])\n",
    "ax[1].set_xlabel('Email Sent Hour', fontsize=12)\n",
    "ax[1].set_ylabel('Click Through Rate', fontsize=12)\n",
    "ax[1].set_title('Click Through Rate vs. Email Sent Hour', fontsize=16)\n",
    "plt.show()"
   ]
  },
  {
   "cell_type": "markdown",
   "metadata": {},
   "source": [
    "In the above plots,\n",
    "* When the emails are sent between **23 to 24 o'clock**, our company receives the highest click-through rate "
   ]
  },
  {
   "cell_type": "markdown",
   "metadata": {},
   "source": [
    "### VI. Visualization of email_text\n",
    "*   There are two versions of the email: one has \"long text\" (i.e. has 4 paragraphs) and one has \"short text\" (just 2 paragraphs)"
   ]
  },
  {
   "cell_type": "code",
   "execution_count": 25,
   "metadata": {},
   "outputs": [
    {
     "data": {
      "image/png": "[encoded data removed]",
      "text/plain": [
       "<Figure size 1296x432 with 2 Axes>"
      ]
     },
     "metadata": {
      "needs_background": "light"
     },
     "output_type": "display_data"
    }
   ],
   "source": [
    "fig, ax = plt.subplots(nrows=1, ncols=2, figsize=(18,6))\n",
    "\n",
    "\n",
    "sns.countplot(x='email_text',data=df, ax=ax[0])\n",
    "ax[0].set_xlabel('Email Text', fontsize=12)\n",
    "ax[0].set_ylabel('Count', fontsize=12)\n",
    "ax[0].set_title('Count Plot of Email Text', fontsize=16)\n",
    "\n",
    "\n",
    "sns.barplot(x='email_text', y='clicked',data=df, ax=ax[1])\n",
    "ax[1].set_xlabel('Email Text', fontsize=12)\n",
    "ax[1].set_ylabel('Click Through Rate', fontsize=12)\n",
    "ax[1].set_title('Click Through Rate vs. Email Text', fontsize=16)\n",
    "plt.show()"
   ]
  },
  {
   "cell_type": "markdown",
   "metadata": {},
   "source": [
    "In the above plots,\n",
    "* It is clear that **\"short text\" email** can bring higher click-through rate"
   ]
  },
  {
   "cell_type": "markdown",
   "metadata": {},
   "source": [
    "# Question 03\n",
    "* Based on all the information you have about the emails that were sent, can you build a model to optimize in future email campaigns to maximize the probability of users clicking on the link inside the email?\n"
   ]
  },
  {
   "cell_type": "markdown",
   "metadata": {},
   "source": [
    "## Machine Learning Model\n",
    "* We will use XGboost"
   ]
  },
  {
   "cell_type": "markdown",
   "metadata": {},
   "source": [
    "### (1) Prepare data"
   ]
  },
  {
   "cell_type": "code",
   "execution_count": 26,
   "metadata": {
    "scrolled": false
   },
   "outputs": [
    {
     "name": "stdout",
     "output_type": "stream",
     "text": [
      "<class 'pandas.core.frame.DataFrame'>\n",
      "Int64Index: 100000 entries, 0 to 99999\n",
      "Data columns (total 9 columns):\n",
      " #   Column               Non-Null Count   Dtype\n",
      "---  ------               --------------   -----\n",
      " 0   email_id             100000 non-null  int64\n",
      " 1   email_text           100000 non-null  int32\n",
      " 2   email_version        100000 non-null  int32\n",
      " 3   hour                 100000 non-null  int64\n",
      " 4   weekday              100000 non-null  int64\n",
      " 5   user_country         100000 non-null  int32\n",
      " 6   user_past_purchases  100000 non-null  int64\n",
      " 7   opened               100000 non-null  int32\n",
      " 8   clicked              100000 non-null  int32\n",
      "dtypes: int32(5), int64(4)\n",
      "memory usage: 5.7 MB\n"
     ]
    }
   ],
   "source": [
    "## we use the df_ch2 dataset since all types are numeric\n",
    "df_ch2.info()"
   ]
  },
  {
   "cell_type": "code",
   "execution_count": 27,
   "metadata": {},
   "outputs": [],
   "source": [
    "df_for_model = df_ch2.copy()"
   ]
  },
  {
   "cell_type": "code",
   "execution_count": 28,
   "metadata": {},
   "outputs": [],
   "source": [
    "# create new column to see if the weekend has better performance\n",
    "df_for_model['is_weekend'] = (df_for_model['weekday'] >=5).astype(int)\n",
    "\n",
    "# we add categorical 'user_country' column to our df_for_model for One-Hot-Encode\n",
    "df_for_model['country'] = df['user_country']"
   ]
  },
  {
   "cell_type": "code",
   "execution_count": 29,
   "metadata": {},
   "outputs": [],
   "source": [
    "# set X and y\n",
    "X = df_for_model.loc[:,[\"country\",\"user_past_purchases\",\"email_text\",\"email_version\",\"is_weekend\"] ]\n",
    "y = df_for_model.loc[:,\"clicked\"]"
   ]
  },
  {
   "cell_type": "code",
   "execution_count": 30,
   "metadata": {},
   "outputs": [],
   "source": [
    "# conduct One-Hot-Encode on 'country' column\n",
    "X = pd.get_dummies(X,columns=[\"country\"],drop_first=True)"
   ]
  },
  {
   "cell_type": "code",
   "execution_count": 31,
   "metadata": {},
   "outputs": [],
   "source": [
    "# split for training and testing, 80% train 20% test\n",
    "X_train, X_test, y_train, y_test = train_test_split(X, y, test_size=0.2, random_state=11)"
   ]
  },
  {
   "cell_type": "markdown",
   "metadata": {},
   "source": [
    "### (2) Train XGBoost"
   ]
  },
  {
   "cell_type": "code",
   "execution_count": 32,
   "metadata": {},
   "outputs": [],
   "source": [
    "# We convert data to DMatrix, DMatrix is an internal data structure which is optimized for both memory efficiency and training speed.\n",
    "train_matrix = xgb.DMatrix(X_train,y_train)\n",
    "test_matrix = xgb.DMatrix(X_test)"
   ]
  },
  {
   "cell_type": "markdown",
   "metadata": {},
   "source": [
    "### k-fold Cross Validation in XGBoost"
   ]
  },
  {
   "cell_type": "code",
   "execution_count": 33,
   "metadata": {
    "scrolled": true
   },
   "outputs": [
    {
     "name": "stdout",
     "output_type": "stream",
     "text": [
      "[15:02:54] WARNING: ..\\src\\learner.cc:573: \n",
      "Parameters: { \"early_stopping_rounds\", \"metric\", \"num_rounds\" } might not be used.\n",
      "\n",
      "  This may not be accurate due to some parameters are only used in language bindings but\n",
      "  passed down to XGBoost core.  Or some parameters are not used but slip through this\n",
      "  verification. Please open an issue if you find above cases.\n",
      "\n",
      "\n",
      "[15:02:54] WARNING: ..\\src\\learner.cc:573: \n",
      "Parameters: { \"early_stopping_rounds\", \"metric\", \"num_rounds\" } might not be used.\n",
      "\n",
      "  This may not be accurate due to some parameters are only used in language bindings but\n",
      "  passed down to XGBoost core.  Or some parameters are not used but slip through this\n",
      "  verification. Please open an issue if you find above cases.\n",
      "\n",
      "\n",
      "[15:02:54] WARNING: ..\\src\\learner.cc:573: \n",
      "Parameters: { \"early_stopping_rounds\", \"metric\", \"num_rounds\" } might not be used.\n",
      "\n",
      "  This may not be accurate due to some parameters are only used in language bindings but\n",
      "  passed down to XGBoost core.  Or some parameters are not used but slip through this\n",
      "  verification. Please open an issue if you find above cases.\n",
      "\n",
      "\n",
      "[15:02:54] WARNING: ..\\src\\learner.cc:573: \n",
      "Parameters: { \"early_stopping_rounds\", \"metric\", \"num_rounds\" } might not be used.\n",
      "\n",
      "  This may not be accurate due to some parameters are only used in language bindings but\n",
      "  passed down to XGBoost core.  Or some parameters are not used but slip through this\n",
      "  verification. Please open an issue if you find above cases.\n",
      "\n",
      "\n",
      "[15:02:54] WARNING: ..\\src\\learner.cc:573: \n",
      "Parameters: { \"early_stopping_rounds\", \"metric\", \"num_rounds\" } might not be used.\n",
      "\n",
      "  This may not be accurate due to some parameters are only used in language bindings but\n",
      "  passed down to XGBoost core.  Or some parameters are not used but slip through this\n",
      "  verification. Please open an issue if you find above cases.\n",
      "\n",
      "\n",
      "[0]\ttrain-auc:0.58037+0.00873\ttest-auc:0.57849+0.01276\n",
      "[1]\ttrain-auc:0.66987+0.05008\ttest-auc:0.66636+0.05208\n",
      "[2]\ttrain-auc:0.68030+0.04539\ttest-auc:0.67232+0.04701\n",
      "[3]\ttrain-auc:0.70992+0.00548\ttest-auc:0.70177+0.01583\n",
      "[4]\ttrain-auc:0.71877+0.00530\ttest-auc:0.71355+0.01192\n",
      "[5]\ttrain-auc:0.72134+0.00460\ttest-auc:0.71521+0.01417\n",
      "[6]\ttrain-auc:0.72385+0.00497\ttest-auc:0.71823+0.01483\n",
      "[7]\ttrain-auc:0.72738+0.00474\ttest-auc:0.72215+0.01396\n",
      "[8]\ttrain-auc:0.72922+0.00411\ttest-auc:0.72411+0.01326\n",
      "[9]\ttrain-auc:0.73074+0.00189\ttest-auc:0.72436+0.01276\n",
      "[10]\ttrain-auc:0.73267+0.00366\ttest-auc:0.72723+0.01002\n",
      "[11]\ttrain-auc:0.73427+0.00353\ttest-auc:0.72883+0.01029\n",
      "[12]\ttrain-auc:0.73551+0.00430\ttest-auc:0.72911+0.00919\n",
      "[13]\ttrain-auc:0.73760+0.00388\ttest-auc:0.72943+0.00966\n",
      "[14]\ttrain-auc:0.73895+0.00424\ttest-auc:0.72962+0.01066\n",
      "[15]\ttrain-auc:0.74013+0.00398\ttest-auc:0.73167+0.00972\n",
      "[16]\ttrain-auc:0.74058+0.00384\ttest-auc:0.73096+0.00995\n",
      "[17]\ttrain-auc:0.74201+0.00396\ttest-auc:0.73273+0.01039\n",
      "[18]\ttrain-auc:0.74290+0.00385\ttest-auc:0.73373+0.01037\n",
      "[19]\ttrain-auc:0.74412+0.00317\ttest-auc:0.73491+0.01025\n",
      "[20]\ttrain-auc:0.74463+0.00235\ttest-auc:0.73482+0.01078\n",
      "[21]\ttrain-auc:0.74572+0.00196\ttest-auc:0.73616+0.01036\n",
      "[22]\ttrain-auc:0.74633+0.00193\ttest-auc:0.73666+0.01041\n",
      "[23]\ttrain-auc:0.74680+0.00175\ttest-auc:0.73750+0.01042\n",
      "[24]\ttrain-auc:0.74720+0.00187\ttest-auc:0.73766+0.01076\n",
      "[25]\ttrain-auc:0.74802+0.00206\ttest-auc:0.73823+0.01037\n",
      "[26]\ttrain-auc:0.74868+0.00228\ttest-auc:0.73863+0.01006\n",
      "[27]\ttrain-auc:0.74947+0.00189\ttest-auc:0.73870+0.01052\n",
      "[28]\ttrain-auc:0.74944+0.00228\ttest-auc:0.73817+0.01075\n",
      "[29]\ttrain-auc:0.74968+0.00230\ttest-auc:0.73818+0.01066\n",
      "[30]\ttrain-auc:0.75042+0.00212\ttest-auc:0.73879+0.01076\n",
      "[31]\ttrain-auc:0.75074+0.00178\ttest-auc:0.73832+0.01158\n",
      "[32]\ttrain-auc:0.75091+0.00197\ttest-auc:0.73852+0.01135\n",
      "[33]\ttrain-auc:0.75155+0.00214\ttest-auc:0.73935+0.01088\n",
      "[34]\ttrain-auc:0.75207+0.00232\ttest-auc:0.73903+0.01143\n",
      "[35]\ttrain-auc:0.75251+0.00226\ttest-auc:0.73954+0.01076\n",
      "[36]\ttrain-auc:0.75268+0.00221\ttest-auc:0.73982+0.01013\n",
      "[37]\ttrain-auc:0.75276+0.00242\ttest-auc:0.73950+0.01046\n",
      "[38]\ttrain-auc:0.75322+0.00244\ttest-auc:0.74013+0.01039\n",
      "[39]\ttrain-auc:0.75347+0.00272\ttest-auc:0.73990+0.01024\n",
      "[40]\ttrain-auc:0.75377+0.00277\ttest-auc:0.74000+0.01027\n",
      "[41]\ttrain-auc:0.75404+0.00269\ttest-auc:0.74029+0.01054\n",
      "[42]\ttrain-auc:0.75423+0.00281\ttest-auc:0.74031+0.01068\n",
      "[43]\ttrain-auc:0.75425+0.00287\ttest-auc:0.73985+0.01073\n",
      "[44]\ttrain-auc:0.75456+0.00290\ttest-auc:0.73976+0.01085\n",
      "[45]\ttrain-auc:0.75482+0.00281\ttest-auc:0.73998+0.01092\n",
      "[46]\ttrain-auc:0.75503+0.00274\ttest-auc:0.74007+0.01087\n",
      "[47]\ttrain-auc:0.75516+0.00289\ttest-auc:0.74022+0.01099\n",
      "[48]\ttrain-auc:0.75532+0.00287\ttest-auc:0.74005+0.01131\n",
      "[49]\ttrain-auc:0.75535+0.00284\ttest-auc:0.74014+0.01120\n",
      "[50]\ttrain-auc:0.75561+0.00285\ttest-auc:0.74011+0.01116\n",
      "[51]\ttrain-auc:0.75567+0.00289\ttest-auc:0.74004+0.01126\n",
      "[52]\ttrain-auc:0.75583+0.00290\ttest-auc:0.74012+0.01113\n",
      "[53]\ttrain-auc:0.75604+0.00285\ttest-auc:0.74038+0.01102\n",
      "[54]\ttrain-auc:0.75621+0.00274\ttest-auc:0.74051+0.01124\n",
      "[55]\ttrain-auc:0.75640+0.00276\ttest-auc:0.74084+0.01125\n",
      "[56]\ttrain-auc:0.75652+0.00276\ttest-auc:0.74054+0.01112\n",
      "[57]\ttrain-auc:0.75672+0.00275\ttest-auc:0.74063+0.01093\n",
      "[58]\ttrain-auc:0.75689+0.00283\ttest-auc:0.74070+0.01084\n",
      "[59]\ttrain-auc:0.75691+0.00289\ttest-auc:0.74054+0.01073\n",
      "[60]\ttrain-auc:0.75706+0.00277\ttest-auc:0.74053+0.01091\n",
      "[61]\ttrain-auc:0.75726+0.00275\ttest-auc:0.74050+0.01107\n",
      "[62]\ttrain-auc:0.75742+0.00265\ttest-auc:0.74030+0.01131\n",
      "[63]\ttrain-auc:0.75753+0.00271\ttest-auc:0.74031+0.01121\n",
      "[64]\ttrain-auc:0.75767+0.00277\ttest-auc:0.74026+0.01108\n",
      "[65]\ttrain-auc:0.75775+0.00280\ttest-auc:0.74004+0.01114\n",
      "[66]\ttrain-auc:0.75782+0.00287\ttest-auc:0.73983+0.01123\n",
      "[67]\ttrain-auc:0.75798+0.00289\ttest-auc:0.73981+0.01144\n",
      "[68]\ttrain-auc:0.75808+0.00298\ttest-auc:0.73961+0.01130\n",
      "[69]\ttrain-auc:0.75823+0.00299\ttest-auc:0.73950+0.01121\n",
      "[70]\ttrain-auc:0.75827+0.00310\ttest-auc:0.73942+0.01117\n",
      "[71]\ttrain-auc:0.75842+0.00304\ttest-auc:0.73939+0.01122\n",
      "[72]\ttrain-auc:0.75857+0.00306\ttest-auc:0.73935+0.01114\n",
      "[73]\ttrain-auc:0.75866+0.00315\ttest-auc:0.73912+0.01094\n",
      "[74]\ttrain-auc:0.75878+0.00315\ttest-auc:0.73895+0.01095\n",
      "[75]\ttrain-auc:0.75885+0.00316\ttest-auc:0.73887+0.01110\n",
      "[76]\ttrain-auc:0.75900+0.00321\ttest-auc:0.73915+0.01116\n",
      "[77]\ttrain-auc:0.75911+0.00319\ttest-auc:0.73922+0.01114\n",
      "[78]\ttrain-auc:0.75922+0.00317\ttest-auc:0.73934+0.01122\n",
      "[79]\ttrain-auc:0.75939+0.00311\ttest-auc:0.73929+0.01126\n",
      "[80]\ttrain-auc:0.75959+0.00316\ttest-auc:0.73932+0.01126\n",
      "[81]\ttrain-auc:0.75964+0.00315\ttest-auc:0.73926+0.01141\n",
      "[82]\ttrain-auc:0.75979+0.00317\ttest-auc:0.73924+0.01145\n",
      "[83]\ttrain-auc:0.75987+0.00319\ttest-auc:0.73916+0.01139\n",
      "[84]\ttrain-auc:0.75998+0.00320\ttest-auc:0.73915+0.01129\n",
      "[85]\ttrain-auc:0.76013+0.00316\ttest-auc:0.73928+0.01113\n"
     ]
    }
   ],
   "source": [
    "params = {}\n",
    "params['objective'] = 'binary:logistic'  # output probabilities\n",
    "params['metric'] = 'auc'\n",
    "params[\"num_rounds\"] = 300\n",
    "params[\"early_stopping_rounds\"] = 30\n",
    "# params['min_child_weight'] = 2\n",
    "params['max_depth'] = 6\n",
    "params['eta'] = 0.1\n",
    "params[\"subsample\"] = 0.8\n",
    "params[\"colsample_bytree\"] = 0.8\n",
    "\n",
    "cv_results = xgb.cv(dtrain=train_matrix, \n",
    "                    params=params, \n",
    "                    nfold=5,\n",
    "                    num_boost_round = params[\"num_rounds\"],\n",
    "                    metrics = params['metric'],\n",
    "                    early_stopping_rounds = params[\"early_stopping_rounds\"],\n",
    "                    verbose_eval = True,\n",
    "                    seed = 11)"
   ]
  },
  {
   "cell_type": "code",
   "execution_count": 34,
   "metadata": {},
   "outputs": [
    {
     "name": "stdout",
     "output_type": "stream",
     "text": [
      "best number of trees: 56\n"
     ]
    }
   ],
   "source": [
    "n_best_trees = cv_results.shape[0]\n",
    "print(f\"best number of trees: {n_best_trees}\")"
   ]
  },
  {
   "cell_type": "code",
   "execution_count": 35,
   "metadata": {
    "scrolled": false
   },
   "outputs": [
    {
     "name": "stdout",
     "output_type": "stream",
     "text": [
      "[15:03:08] WARNING: ..\\src\\learner.cc:573: \n",
      "Parameters: { \"early_stopping_rounds\", \"metric\", \"num_rounds\" } might not be used.\n",
      "\n",
      "  This may not be accurate due to some parameters are only used in language bindings but\n",
      "  passed down to XGBoost core.  Or some parameters are not used but slip through this\n",
      "  verification. Please open an issue if you find above cases.\n",
      "\n",
      "\n",
      "[15:03:08] WARNING: ..\\src\\learner.cc:1095: Starting in XGBoost 1.3.0, the default evaluation metric used with the objective 'binary:logistic' was changed from 'error' to 'logloss'. Explicitly set eval_metric if you'd like to restore the old behavior.\n",
      "[0]\ttrain-logloss:0.60617\n",
      "[1]\ttrain-logloss:0.53478\n",
      "[2]\ttrain-logloss:0.47549\n",
      "[3]\ttrain-logloss:0.42559\n",
      "[4]\ttrain-logloss:0.38306\n",
      "[5]\ttrain-logloss:0.34669\n",
      "[6]\ttrain-logloss:0.31526\n",
      "[7]\ttrain-logloss:0.28807\n",
      "[8]\ttrain-logloss:0.26438\n",
      "[9]\ttrain-logloss:0.24382\n",
      "[10]\ttrain-logloss:0.22577\n",
      "[11]\ttrain-logloss:0.21008\n",
      "[12]\ttrain-logloss:0.19630\n",
      "[13]\ttrain-logloss:0.18404\n",
      "[14]\ttrain-logloss:0.17325\n",
      "[15]\ttrain-logloss:0.16392\n",
      "[16]\ttrain-logloss:0.15576\n",
      "[17]\ttrain-logloss:0.14840\n",
      "[18]\ttrain-logloss:0.14188\n",
      "[19]\ttrain-logloss:0.13612\n",
      "[20]\ttrain-logloss:0.13109\n",
      "[21]\ttrain-logloss:0.12666\n",
      "[22]\ttrain-logloss:0.12274\n",
      "[23]\ttrain-logloss:0.11926\n",
      "[24]\ttrain-logloss:0.11618\n",
      "[25]\ttrain-logloss:0.11349\n",
      "[26]\ttrain-logloss:0.11113\n",
      "[27]\ttrain-logloss:0.10910\n",
      "[28]\ttrain-logloss:0.10727\n",
      "[29]\ttrain-logloss:0.10561\n",
      "[30]\ttrain-logloss:0.10437\n",
      "[31]\ttrain-logloss:0.10314\n",
      "[32]\ttrain-logloss:0.10208\n",
      "[33]\ttrain-logloss:0.10115\n",
      "[34]\ttrain-logloss:0.10033\n",
      "[35]\ttrain-logloss:0.09954\n",
      "[36]\ttrain-logloss:0.09888\n",
      "[37]\ttrain-logloss:0.09832\n",
      "[38]\ttrain-logloss:0.09780\n",
      "[39]\ttrain-logloss:0.09737\n",
      "[40]\ttrain-logloss:0.09697\n",
      "[41]\ttrain-logloss:0.09660\n",
      "[42]\ttrain-logloss:0.09638\n",
      "[43]\ttrain-logloss:0.09610\n",
      "[44]\ttrain-logloss:0.09593\n",
      "[45]\ttrain-logloss:0.09571\n",
      "[46]\ttrain-logloss:0.09559\n",
      "[47]\ttrain-logloss:0.09548\n",
      "[48]\ttrain-logloss:0.09540\n",
      "[49]\ttrain-logloss:0.09523\n",
      "[50]\ttrain-logloss:0.09508\n",
      "[51]\ttrain-logloss:0.09496\n",
      "[52]\ttrain-logloss:0.09486\n",
      "[53]\ttrain-logloss:0.09480\n",
      "[54]\ttrain-logloss:0.09470\n",
      "[55]\ttrain-logloss:0.09460\n"
     ]
    }
   ],
   "source": [
    "watchlist = [(train_matrix, 'train')]\n",
    "gbt = xgb.train(params, train_matrix, n_best_trees,watchlist)"
   ]
  },
  {
   "cell_type": "code",
   "execution_count": 36,
   "metadata": {},
   "outputs": [
    {
     "data": {
      "text/plain": [
       "<AxesSubplot:title={'center':'Feature importance'}, xlabel='F score', ylabel='Features'>"
      ]
     },
     "execution_count": 36,
     "metadata": {},
     "output_type": "execute_result"
    },
    {
     "data": {
      "image/png": "[encoded data removed]",
      "text/plain": [
       "<Figure size 432x288 with 1 Axes>"
      ]
     },
     "metadata": {
      "needs_background": "light"
     },
     "output_type": "display_data"
    }
   ],
   "source": [
    "# plot feature importances\n",
    "xgb.plot_importance(gbt)"
   ]
  },
  {
   "cell_type": "code",
   "execution_count": 37,
   "metadata": {},
   "outputs": [
    {
     "name": "stdout",
     "output_type": "stream",
     "text": [
      "Click rate:  0.02119\n"
     ]
    }
   ],
   "source": [
    "print('Click rate: ', df_for_model['clicked'].value_counts()[1]/len(df_for_model))"
   ]
  },
  {
   "cell_type": "markdown",
   "metadata": {},
   "source": [
    "### Plot ROC curve and choose better probability threshold\n",
    "* Our target variable is highly imbalanced, click rate is only 2%. If we use default probability threshold which is 0.5, the model will classify every example as negative, so we need to choose a better probability threshold. \n",
    "*  We need to plot the ROC curve, but ROC cannot be plot on either training set or test set. So, we have to split the train dataset into 'training' and 'validation' sets, and train our model again and plot ROC on 'validation' set."
   ]
  },
  {
   "cell_type": "code",
   "execution_count": 38,
   "metadata": {
    "scrolled": true
   },
   "outputs": [
    {
     "name": "stdout",
     "output_type": "stream",
     "text": [
      "[15:03:10] WARNING: ..\\src\\learner.cc:573: \n",
      "Parameters: { \"early_stopping_rounds\", \"metric\", \"num_rounds\" } might not be used.\n",
      "\n",
      "  This may not be accurate due to some parameters are only used in language bindings but\n",
      "  passed down to XGBoost core.  Or some parameters are not used but slip through this\n",
      "  verification. Please open an issue if you find above cases.\n",
      "\n",
      "\n",
      "[15:03:10] WARNING: ..\\src\\learner.cc:1095: Starting in XGBoost 1.3.0, the default evaluation metric used with the objective 'binary:logistic' was changed from 'error' to 'logloss'. Explicitly set eval_metric if you'd like to restore the old behavior.\n"
     ]
    }
   ],
   "source": [
    "# split the train dataset into 'training' and 'validation' sets. 80% train, 20% test.\n",
    "X_train_roc_plot,X_valid,y_train_roc_plot,y_valid = train_test_split(X_train,y_train,test_size=0.2,random_state=11)\n",
    "\n",
    "# convert data to DMatrix\n",
    "train_only_matrix = xgb.DMatrix(X_train_roc_plot,y_train_roc_plot)\n",
    "valid_matrix = xgb.DMatrix(X_valid)\n",
    "    \n",
    "# training model\n",
    "gbt_train_only = xgb.train(params, train_only_matrix, n_best_trees)\n",
    "    \n",
    "# prediction\n",
    "y_valid_pred = gbt_train_only.predict(valid_matrix, ntree_limit=n_best_trees)\n",
    "\n",
    "# create ROC curce and AUC\n",
    "valid_fpr, valid_tpr, valid_threshold = roc_curve(y_valid,y_valid_pred)\n",
    "valid_auc = np.round(auc(valid_fpr, valid_tpr), 3)"
   ]
  },
  {
   "cell_type": "code",
   "execution_count": 39,
   "metadata": {},
   "outputs": [
    {
     "data": {
      "image/png": "[encoded data removed]",
      "text/plain": [
       "<Figure size 576x432 with 1 Axes>"
      ]
     },
     "metadata": {
      "needs_background": "light"
     },
     "output_type": "display_data"
    }
   ],
   "source": [
    "# ROC curves and AUC plot\n",
    "fig, ax = plt.subplots(figsize=(8, 6))\n",
    "ax.plot(valid_fpr, valid_tpr, label='Valid AUC: ' + str(valid_auc))\n",
    "ax.set_xlabel('False Positive Rate', fontsize=12)\n",
    "ax.set_ylabel('True Positive Rate', fontsize=12)\n",
    "ax.legend(fontsize=12)\n",
    "plt.show()"
   ]
  },
  {
   "cell_type": "code",
   "execution_count": 54,
   "metadata": {},
   "outputs": [
    {
     "data": {
      "image/png": "[encoded data removed]",
      "text/plain": [
       "<Figure size 720x576 with 1 Axes>"
      ]
     },
     "metadata": {
      "needs_background": "light"
     },
     "output_type": "display_data"
    }
   ],
   "source": [
    "# Shows the correlation between thresholds and FPR & TPR\n",
    "roc_results01 = {'FPR': valid_fpr, 'TPR': valid_tpr, 'Threshold': valid_threshold}\n",
    "roc_results01 = pd.DataFrame(roc_results01)\n",
    "\n",
    "# plot\n",
    "fig, ax = plt.subplots(figsize=(10,8))\n",
    "ax.plot(roc_results01['Threshold'], roc_results01['FPR'],label='FPR')\n",
    "ax.plot(roc_results01['Threshold'], roc_results01['TPR'],label='TPR')\n",
    "plt.title('Threshold vs. FPR and TPR', fontdict={'fontname': 'Arial', 'fontsize': 15})\n",
    "ax.set_xlabel('Threshold', fontsize=12)\n",
    "ax.set_ylabel('Rate', fontsize=12)\n",
    "ax.legend(fontsize=12)\n",
    "plt.show()"
   ]
  },
  {
   "cell_type": "markdown",
   "metadata": {},
   "source": [
    "* Try to balance Precision and Recall, we can choose the new threshold that  \"True Positive Rate\" is around 0.625, then \"False Positive Rate\" will be around 0.3"
   ]
  },
  {
   "cell_type": "code",
   "execution_count": 56,
   "metadata": {},
   "outputs": [
    {
     "data": {
      "text/html": [
       "<div>\n",
       "<style scoped>\n",
       "    .dataframe tbody tr th:only-of-type {\n",
       "        vertical-align: middle;\n",
       "    }\n",
       "\n",
       "    .dataframe tbody tr th {\n",
       "        vertical-align: top;\n",
       "    }\n",
       "\n",
       "    .dataframe thead th {\n",
       "        text-align: right;\n",
       "    }\n",
       "</style>\n",
       "<table border=\"1\" class=\"dataframe\">\n",
       "  <thead>\n",
       "    <tr style=\"text-align: right;\">\n",
       "      <th></th>\n",
       "      <th>valid_fpr</th>\n",
       "      <th>valid_tpr</th>\n",
       "      <th>valid_threshold</th>\n",
       "    </tr>\n",
       "  </thead>\n",
       "  <tbody>\n",
       "    <tr>\n",
       "      <th>205</th>\n",
       "      <td>0.272774</td>\n",
       "      <td>0.600543</td>\n",
       "      <td>0.029202</td>\n",
       "    </tr>\n",
       "    <tr>\n",
       "      <th>206</th>\n",
       "      <td>0.273414</td>\n",
       "      <td>0.600543</td>\n",
       "      <td>0.029037</td>\n",
       "    </tr>\n",
       "    <tr>\n",
       "      <th>207</th>\n",
       "      <td>0.276292</td>\n",
       "      <td>0.600543</td>\n",
       "      <td>0.028834</td>\n",
       "    </tr>\n",
       "    <tr>\n",
       "      <th>208</th>\n",
       "      <td>0.278787</td>\n",
       "      <td>0.605978</td>\n",
       "      <td>0.028684</td>\n",
       "    </tr>\n",
       "    <tr>\n",
       "      <th>209</th>\n",
       "      <td>0.279427</td>\n",
       "      <td>0.605978</td>\n",
       "      <td>0.028650</td>\n",
       "    </tr>\n",
       "    <tr>\n",
       "      <th>210</th>\n",
       "      <td>0.285504</td>\n",
       "      <td>0.616848</td>\n",
       "      <td>0.028488</td>\n",
       "    </tr>\n",
       "    <tr>\n",
       "      <th>211</th>\n",
       "      <td>0.286016</td>\n",
       "      <td>0.616848</td>\n",
       "      <td>0.028470</td>\n",
       "    </tr>\n",
       "    <tr>\n",
       "      <th>212</th>\n",
       "      <td>0.286847</td>\n",
       "      <td>0.616848</td>\n",
       "      <td>0.028465</td>\n",
       "    </tr>\n",
       "    <tr>\n",
       "      <th>213</th>\n",
       "      <td>0.289342</td>\n",
       "      <td>0.616848</td>\n",
       "      <td>0.028257</td>\n",
       "    </tr>\n",
       "    <tr>\n",
       "      <th>214</th>\n",
       "      <td>0.289918</td>\n",
       "      <td>0.616848</td>\n",
       "      <td>0.028089</td>\n",
       "    </tr>\n",
       "    <tr>\n",
       "      <th>215</th>\n",
       "      <td>0.291709</td>\n",
       "      <td>0.622283</td>\n",
       "      <td>0.027768</td>\n",
       "    </tr>\n",
       "    <tr>\n",
       "      <th>216</th>\n",
       "      <td>0.291837</td>\n",
       "      <td>0.622283</td>\n",
       "      <td>0.027411</td>\n",
       "    </tr>\n",
       "    <tr>\n",
       "      <th>217</th>\n",
       "      <td>0.293181</td>\n",
       "      <td>0.622283</td>\n",
       "      <td>0.027347</td>\n",
       "    </tr>\n",
       "    <tr>\n",
       "      <th>218</th>\n",
       "      <td>0.294268</td>\n",
       "      <td>0.622283</td>\n",
       "      <td>0.027288</td>\n",
       "    </tr>\n",
       "    <tr>\n",
       "      <th>219</th>\n",
       "      <td>0.294588</td>\n",
       "      <td>0.622283</td>\n",
       "      <td>0.027253</td>\n",
       "    </tr>\n",
       "    <tr>\n",
       "      <th>220</th>\n",
       "      <td>0.295484</td>\n",
       "      <td>0.622283</td>\n",
       "      <td>0.027075</td>\n",
       "    </tr>\n",
       "    <tr>\n",
       "      <th>221</th>\n",
       "      <td>0.295548</td>\n",
       "      <td>0.622283</td>\n",
       "      <td>0.026800</td>\n",
       "    </tr>\n",
       "    <tr>\n",
       "      <th>222</th>\n",
       "      <td>0.305655</td>\n",
       "      <td>0.627717</td>\n",
       "      <td>0.026695</td>\n",
       "    </tr>\n",
       "    <tr>\n",
       "      <th>223</th>\n",
       "      <td>0.306871</td>\n",
       "      <td>0.627717</td>\n",
       "      <td>0.026683</td>\n",
       "    </tr>\n",
       "    <tr>\n",
       "      <th>224</th>\n",
       "      <td>0.307062</td>\n",
       "      <td>0.627717</td>\n",
       "      <td>0.026659</td>\n",
       "    </tr>\n",
       "    <tr>\n",
       "      <th>225</th>\n",
       "      <td>0.308790</td>\n",
       "      <td>0.627717</td>\n",
       "      <td>0.026640</td>\n",
       "    </tr>\n",
       "    <tr>\n",
       "      <th>226</th>\n",
       "      <td>0.309237</td>\n",
       "      <td>0.627717</td>\n",
       "      <td>0.026574</td>\n",
       "    </tr>\n",
       "    <tr>\n",
       "      <th>227</th>\n",
       "      <td>0.309429</td>\n",
       "      <td>0.627717</td>\n",
       "      <td>0.026537</td>\n",
       "    </tr>\n",
       "    <tr>\n",
       "      <th>228</th>\n",
       "      <td>0.310005</td>\n",
       "      <td>0.627717</td>\n",
       "      <td>0.026380</td>\n",
       "    </tr>\n",
       "    <tr>\n",
       "      <th>229</th>\n",
       "      <td>0.310133</td>\n",
       "      <td>0.627717</td>\n",
       "      <td>0.026351</td>\n",
       "    </tr>\n",
       "  </tbody>\n",
       "</table>\n",
       "</div>"
      ],
      "text/plain": [
       "     valid_fpr  valid_tpr  valid_threshold\n",
       "205   0.272774   0.600543         0.029202\n",
       "206   0.273414   0.600543         0.029037\n",
       "207   0.276292   0.600543         0.028834\n",
       "208   0.278787   0.605978         0.028684\n",
       "209   0.279427   0.605978         0.028650\n",
       "210   0.285504   0.616848         0.028488\n",
       "211   0.286016   0.616848         0.028470\n",
       "212   0.286847   0.616848         0.028465\n",
       "213   0.289342   0.616848         0.028257\n",
       "214   0.289918   0.616848         0.028089\n",
       "215   0.291709   0.622283         0.027768\n",
       "216   0.291837   0.622283         0.027411\n",
       "217   0.293181   0.622283         0.027347\n",
       "218   0.294268   0.622283         0.027288\n",
       "219   0.294588   0.622283         0.027253\n",
       "220   0.295484   0.622283         0.027075\n",
       "221   0.295548   0.622283         0.026800\n",
       "222   0.305655   0.627717         0.026695\n",
       "223   0.306871   0.627717         0.026683\n",
       "224   0.307062   0.627717         0.026659\n",
       "225   0.308790   0.627717         0.026640\n",
       "226   0.309237   0.627717         0.026574\n",
       "227   0.309429   0.627717         0.026537\n",
       "228   0.310005   0.627717         0.026380\n",
       "229   0.310133   0.627717         0.026351"
      ]
     },
     "execution_count": 56,
     "metadata": {},
     "output_type": "execute_result"
    }
   ],
   "source": [
    "pick_threshold = {\n",
    "    \"valid_fpr\": valid_fpr, \n",
    "    \"valid_tpr\": valid_tpr, \n",
    "    \"valid_threshold\": valid_threshold\n",
    "}\n",
    "\n",
    "# take a look at the threshold when True Positive Rate is around 0.6\n",
    "df_pick_threshold = pd.DataFrame(pick_threshold)\n",
    "df_pick_threshold.loc[(df_pick_threshold['valid_tpr'] > 0.6) & (df_pick_threshold['valid_tpr'] < 0.65),:]"
   ]
  },
  {
   "cell_type": "code",
   "execution_count": 57,
   "metadata": {},
   "outputs": [
    {
     "name": "stdout",
     "output_type": "stream",
     "text": [
      "              precision    recall  f1-score   support\n",
      "\n",
      "           0       0.99      0.68      0.81     78286\n",
      "           1       0.04      0.68      0.08      1714\n",
      "\n",
      "    accuracy                           0.68     80000\n",
      "   macro avg       0.52      0.68      0.45     80000\n",
      "weighted avg       0.97      0.68      0.79     80000\n",
      "\n"
     ]
    }
   ],
   "source": [
    "# choose a threshold based on ROC\n",
    "# FPR=0.310133, TPR=0.627717, Threshold=0.026351\n",
    "y_train_pred01 = gbt.predict(train_matrix, ntree_limit=n_best_trees)\n",
    "new_threshold=0.026351\n",
    "y_train_pred = y_train_pred01 > new_threshold\n",
    "print(classification_report(y_train,y_train_pred))"
   ]
  },
  {
   "cell_type": "code",
   "execution_count": 46,
   "metadata": {
    "scrolled": true
   },
   "outputs": [
    {
     "name": "stdout",
     "output_type": "stream",
     "text": [
      "              precision    recall  f1-score   support\n",
      "\n",
      "           0       0.99      0.69      0.81     19595\n",
      "           1       0.04      0.65      0.08       405\n",
      "\n",
      "    accuracy                           0.69     20000\n",
      "   macro avg       0.52      0.67      0.44     20000\n",
      "weighted avg       0.97      0.69      0.80     20000\n",
      "\n"
     ]
    }
   ],
   "source": [
    "# choose a threshold based on ROC\n",
    "# FPR=0.310133, TPR=0.627717, Threshold=0.026351\n",
    "y_test_pred01 = gbt.predict(test_matrix, ntree_limit=n_best_trees)\n",
    "new_threshold=0.026351\n",
    "y_test_pred = y_test_pred01 > new_threshold\n",
    "print(classification_report(y_test,y_test_pred))"
   ]
  },
  {
   "cell_type": "code",
   "execution_count": 47,
   "metadata": {},
   "outputs": [
    {
     "name": "stdout",
     "output_type": "stream",
     "text": [
      "test precision: 4.10%\n",
      "test recall: 64.94%\n"
     ]
    }
   ],
   "source": [
    "print(f\"test precision: {precision_score(y_test,y_test_pred) * 100:.2f}%\")\n",
    "print(f\"test recall: {recall_score(y_test,y_test_pred) * 100:.2f}%\")"
   ]
  },
  {
   "cell_type": "markdown",
   "metadata": {},
   "source": [
    "#### Answer the testion03: can you build a model to optimize in future email campaigns to maximize the probability of users clicking on the link inside the email?"
   ]
  },
  {
   "cell_type": "code",
   "execution_count": 48,
   "metadata": {},
   "outputs": [
    {
     "name": "stdout",
     "output_type": "stream",
     "text": [
      "Number of emails sent in old way: 20000      \n",
      "Number of emails sent in new way: 6411      \n",
      "Saving percentage (%): 67.945\n"
     ]
    }
   ],
   "source": [
    "n_emails_old_sent = y_test_pred.shape[0]\n",
    "n_emails_new_sent = y_test_pred.sum()\n",
    "saving_percentage = 100 - n_emails_new_sent * 100.0/n_emails_old_sent\n",
    "print(f\"Number of emails sent in old way: {n_emails_old_sent}\\\n",
    "      \\nNumber of emails sent in new way: {n_emails_new_sent}\\\n",
    "      \\nSaving percentage (%): {saving_percentage}\")"
   ]
  },
  {
   "cell_type": "markdown",
   "metadata": {},
   "source": [
    "* my model only need to send 33% of the old email amount, saving 67% amount.\n",
    "* my model will cover almost 65% of valued users which will click the link. (test recall: 64.94%)"
   ]
  },
  {
   "cell_type": "markdown",
   "metadata": {},
   "source": [
    "# Question 04\n",
    "* By how much do you think your model would improve click through rate ( defined as # of users who click on the link / total users who received the email). How would you test that?"
   ]
  },
  {
   "cell_type": "code",
   "execution_count": 49,
   "metadata": {},
   "outputs": [
    {
     "name": "stdout",
     "output_type": "stream",
     "text": [
      "The new click through rate: 4.1%\n"
     ]
    }
   ],
   "source": [
    "print(f\"The new click through rate: {precision_score(y_test,y_test_pred) * 100:.1f}%\")"
   ]
  },
  {
   "cell_type": "markdown",
   "metadata": {},
   "source": [
    "* Answer: The new click through rate is 4.1%. Compare with the old click through rate (2.12%) , the new click through rate is creased **1.98%**"
   ]
  },
  {
   "cell_type": "markdown",
   "metadata": {},
   "source": [
    "##### How would you test that?\n",
    "\n",
    "To test my conclusion, we need to perform a A/B test:\n",
    "\n",
    "1. Randomly assign users to two groups, Control group and Experiment group.\n",
    "2. In Control group, still use the old email-campaign strategy, i.e., just send emails to all users in Control group.\n",
    "3. In Experiment group, use my model to predict whether the user will click the link or not. and only send emails to those users whose predictive result is positive.\n",
    "4. Then we preform a one-tail unpaired t-test to test whether Experiement group's click through rate is higher than Control group's click through rate."
   ]
  }
 ],
 "metadata": {
  "kernelspec": {
   "display_name": "Python 3",
   "language": "python",
   "name": "python3"
  },
  "language_info": {
   "codemirror_mode": {
    "name": "ipython",
    "version": 3
   },
   "file_extension": ".py",
   "mimetype": "text/x-python",
   "name": "python",
   "nbconvert_exporter": "python",
   "pygments_lexer": "ipython3",
   "version": "3.8.5"
  }
 },
 "nbformat": 4,
 "nbformat_minor": 4
}
