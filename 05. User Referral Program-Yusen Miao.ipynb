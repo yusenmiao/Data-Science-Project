{
 "cells": [
  {
   "cell_type": "markdown",
   "metadata": {},
   "source": [
    "Company XYZ has started a new referral program on **Oct, 31**. Each user who refers a new user will get 10$ in credit when the new user buys something. The program has been running for almost a month and the Growth Product Manager wants to know if it's been successful. She is very excited cause, since the referral program started, the company saw a spike in number of users and wants you to be able to give her some data she can show to her boss."
   ]
  },
  {
   "cell_type": "code",
   "execution_count": 18,
   "metadata": {},
   "outputs": [],
   "source": [
    "import numpy as np\n",
    "import pandas as pd\n",
    "from scipy.stats import ttest_ind\n",
    "import seaborn as sns\n",
    "import matplotlib.pyplot as plt\n",
    "\n",
    "\n",
    "import warnings\n",
    "warnings.simplefilter('ignore')"
   ]
  },
  {
   "cell_type": "code",
   "execution_count": 19,
   "metadata": {},
   "outputs": [
    {
     "data": {
      "text/html": [
       "<div>\n",
       "<style scoped>\n",
       "    .dataframe tbody tr th:only-of-type {\n",
       "        vertical-align: middle;\n",
       "    }\n",
       "\n",
       "    .dataframe tbody tr th {\n",
       "        vertical-align: top;\n",
       "    }\n",
       "\n",
       "    .dataframe thead th {\n",
       "        text-align: right;\n",
       "    }\n",
       "</style>\n",
       "<table border=\"1\" class=\"dataframe\">\n",
       "  <thead>\n",
       "    <tr style=\"text-align: right;\">\n",
       "      <th></th>\n",
       "      <th>user_id</th>\n",
       "      <th>date</th>\n",
       "      <th>country</th>\n",
       "      <th>money_spent</th>\n",
       "      <th>is_referral</th>\n",
       "      <th>device_id</th>\n",
       "    </tr>\n",
       "  </thead>\n",
       "  <tbody>\n",
       "    <tr>\n",
       "      <th>0</th>\n",
       "      <td>2</td>\n",
       "      <td>2015-10-03</td>\n",
       "      <td>FR</td>\n",
       "      <td>65</td>\n",
       "      <td>0</td>\n",
       "      <td>EVDCJTZMVMJDG</td>\n",
       "    </tr>\n",
       "    <tr>\n",
       "      <th>1</th>\n",
       "      <td>3</td>\n",
       "      <td>2015-10-03</td>\n",
       "      <td>CA</td>\n",
       "      <td>54</td>\n",
       "      <td>0</td>\n",
       "      <td>WUBZFTVKXGQQX</td>\n",
       "    </tr>\n",
       "    <tr>\n",
       "      <th>2</th>\n",
       "      <td>6</td>\n",
       "      <td>2015-10-03</td>\n",
       "      <td>FR</td>\n",
       "      <td>35</td>\n",
       "      <td>0</td>\n",
       "      <td>CBAPCJRTFNUJG</td>\n",
       "    </tr>\n",
       "    <tr>\n",
       "      <th>3</th>\n",
       "      <td>7</td>\n",
       "      <td>2015-10-03</td>\n",
       "      <td>UK</td>\n",
       "      <td>73</td>\n",
       "      <td>0</td>\n",
       "      <td>PRGXJZAJKMXRH</td>\n",
       "    </tr>\n",
       "    <tr>\n",
       "      <th>4</th>\n",
       "      <td>7</td>\n",
       "      <td>2015-10-03</td>\n",
       "      <td>MX</td>\n",
       "      <td>35</td>\n",
       "      <td>0</td>\n",
       "      <td>PRGXJZAJKMXRH</td>\n",
       "    </tr>\n",
       "    <tr>\n",
       "      <th>...</th>\n",
       "      <td>...</td>\n",
       "      <td>...</td>\n",
       "      <td>...</td>\n",
       "      <td>...</td>\n",
       "      <td>...</td>\n",
       "      <td>...</td>\n",
       "    </tr>\n",
       "    <tr>\n",
       "      <th>97336</th>\n",
       "      <td>19934</td>\n",
       "      <td>2015-11-27</td>\n",
       "      <td>UK</td>\n",
       "      <td>35</td>\n",
       "      <td>1</td>\n",
       "      <td>AWMDRMOFTSZIH</td>\n",
       "    </tr>\n",
       "    <tr>\n",
       "      <th>97337</th>\n",
       "      <td>19941</td>\n",
       "      <td>2015-11-27</td>\n",
       "      <td>DE</td>\n",
       "      <td>31</td>\n",
       "      <td>1</td>\n",
       "      <td>QAUSDXXLVUERE</td>\n",
       "    </tr>\n",
       "    <tr>\n",
       "      <th>97338</th>\n",
       "      <td>19948</td>\n",
       "      <td>2015-11-27</td>\n",
       "      <td>UK</td>\n",
       "      <td>22</td>\n",
       "      <td>1</td>\n",
       "      <td>DCYLHYFLMRODO</td>\n",
       "    </tr>\n",
       "    <tr>\n",
       "      <th>97339</th>\n",
       "      <td>19953</td>\n",
       "      <td>2015-11-27</td>\n",
       "      <td>UK</td>\n",
       "      <td>35</td>\n",
       "      <td>1</td>\n",
       "      <td>LROILUYWCNVWQ</td>\n",
       "    </tr>\n",
       "    <tr>\n",
       "      <th>97340</th>\n",
       "      <td>19984</td>\n",
       "      <td>2015-11-27</td>\n",
       "      <td>FR</td>\n",
       "      <td>15</td>\n",
       "      <td>1</td>\n",
       "      <td>VFXAMMQDFORSS</td>\n",
       "    </tr>\n",
       "  </tbody>\n",
       "</table>\n",
       "<p>97341 rows × 6 columns</p>\n",
       "</div>"
      ],
      "text/plain": [
       "       user_id        date country  money_spent  is_referral      device_id\n",
       "0            2  2015-10-03      FR           65            0  EVDCJTZMVMJDG\n",
       "1            3  2015-10-03      CA           54            0  WUBZFTVKXGQQX\n",
       "2            6  2015-10-03      FR           35            0  CBAPCJRTFNUJG\n",
       "3            7  2015-10-03      UK           73            0  PRGXJZAJKMXRH\n",
       "4            7  2015-10-03      MX           35            0  PRGXJZAJKMXRH\n",
       "...        ...         ...     ...          ...          ...            ...\n",
       "97336    19934  2015-11-27      UK           35            1  AWMDRMOFTSZIH\n",
       "97337    19941  2015-11-27      DE           31            1  QAUSDXXLVUERE\n",
       "97338    19948  2015-11-27      UK           22            1  DCYLHYFLMRODO\n",
       "97339    19953  2015-11-27      UK           35            1  LROILUYWCNVWQ\n",
       "97340    19984  2015-11-27      FR           15            1  VFXAMMQDFORSS\n",
       "\n",
       "[97341 rows x 6 columns]"
      ]
     },
     "execution_count": 19,
     "metadata": {},
     "output_type": "execute_result"
    }
   ],
   "source": [
    "df = pd.read_csv('referral.csv' )\n",
    "df"
   ]
  },
  {
   "cell_type": "code",
   "execution_count": 20,
   "metadata": {},
   "outputs": [
    {
     "name": "stdout",
     "output_type": "stream",
     "text": [
      "<class 'pandas.core.frame.DataFrame'>\n",
      "RangeIndex: 97341 entries, 0 to 97340\n",
      "Data columns (total 6 columns):\n",
      " #   Column       Non-Null Count  Dtype \n",
      "---  ------       --------------  ----- \n",
      " 0   user_id      97341 non-null  int64 \n",
      " 1   date         97341 non-null  object\n",
      " 2   country      97341 non-null  object\n",
      " 3   money_spent  97341 non-null  int64 \n",
      " 4   is_referral  97341 non-null  int64 \n",
      " 5   device_id    97341 non-null  object\n",
      "dtypes: int64(3), object(3)\n",
      "memory usage: 4.5+ MB\n"
     ]
    }
   ],
   "source": [
    "# this dataset doesn't have missing data\n",
    "df.info()"
   ]
  },
  {
   "cell_type": "markdown",
   "metadata": {},
   "source": [
    "## Data Processing"
   ]
  },
  {
   "cell_type": "code",
   "execution_count": 21,
   "metadata": {},
   "outputs": [],
   "source": [
    "# convert date into datetime format\n",
    "df['date'] = pd.to_datetime(df['date'])"
   ]
  },
  {
   "cell_type": "code",
   "execution_count": 22,
   "metadata": {},
   "outputs": [],
   "source": [
    "# create a column only contains month and day\n",
    "df['month_day'] = df['date'].apply(lambda x: str(x)[5:10])"
   ]
  },
  {
   "cell_type": "code",
   "execution_count": 23,
   "metadata": {
    "scrolled": true
   },
   "outputs": [],
   "source": [
    "from datetime import datetime\n",
    "\n",
    "# The new referral program started on Oct, 31th. \n",
    "first_day_program = '2015-10-31'\n",
    "first_day_program = pd.to_datetime(first_day_program)\n",
    "\n",
    "# create a new column to indicate this transcation in the program(after Oct, 31th) or not.\n",
    "df['in_program'] = df.apply(lambda x: 1 if x['date'] >= first_day_program else 0, axis=1)"
   ]
  },
  {
   "cell_type": "code",
   "execution_count": 24,
   "metadata": {
    "scrolled": false
   },
   "outputs": [
    {
     "data": {
      "text/html": [
       "<div>\n",
       "<style scoped>\n",
       "    .dataframe tbody tr th:only-of-type {\n",
       "        vertical-align: middle;\n",
       "    }\n",
       "\n",
       "    .dataframe tbody tr th {\n",
       "        vertical-align: top;\n",
       "    }\n",
       "\n",
       "    .dataframe thead th {\n",
       "        text-align: right;\n",
       "    }\n",
       "</style>\n",
       "<table border=\"1\" class=\"dataframe\">\n",
       "  <thead>\n",
       "    <tr style=\"text-align: right;\">\n",
       "      <th></th>\n",
       "      <th>user_id</th>\n",
       "      <th>date</th>\n",
       "      <th>country</th>\n",
       "      <th>money_spent</th>\n",
       "      <th>is_referral</th>\n",
       "      <th>device_id</th>\n",
       "      <th>month_day</th>\n",
       "      <th>in_program</th>\n",
       "    </tr>\n",
       "  </thead>\n",
       "  <tbody>\n",
       "    <tr>\n",
       "      <th>7480</th>\n",
       "      <td>1074</td>\n",
       "      <td>2015-10-06</td>\n",
       "      <td>US</td>\n",
       "      <td>56</td>\n",
       "      <td>0</td>\n",
       "      <td>KRGUOOGZKNQRQ</td>\n",
       "      <td>10-06</td>\n",
       "      <td>0</td>\n",
       "    </tr>\n",
       "    <tr>\n",
       "      <th>51602</th>\n",
       "      <td>6321</td>\n",
       "      <td>2015-11-01</td>\n",
       "      <td>ES</td>\n",
       "      <td>25</td>\n",
       "      <td>0</td>\n",
       "      <td>QCUQFWACQLLIR</td>\n",
       "      <td>11-01</td>\n",
       "      <td>1</td>\n",
       "    </tr>\n",
       "    <tr>\n",
       "      <th>41043</th>\n",
       "      <td>4276</td>\n",
       "      <td>2015-10-25</td>\n",
       "      <td>DE</td>\n",
       "      <td>50</td>\n",
       "      <td>0</td>\n",
       "      <td>DUMIZIUAHSNUZ</td>\n",
       "      <td>10-25</td>\n",
       "      <td>0</td>\n",
       "    </tr>\n",
       "    <tr>\n",
       "      <th>82250</th>\n",
       "      <td>18090</td>\n",
       "      <td>2015-11-18</td>\n",
       "      <td>UK</td>\n",
       "      <td>49</td>\n",
       "      <td>1</td>\n",
       "      <td>WFDAQKWXBALPB</td>\n",
       "      <td>11-18</td>\n",
       "      <td>1</td>\n",
       "    </tr>\n",
       "    <tr>\n",
       "      <th>93141</th>\n",
       "      <td>10650</td>\n",
       "      <td>2015-11-24</td>\n",
       "      <td>FR</td>\n",
       "      <td>20</td>\n",
       "      <td>1</td>\n",
       "      <td>GOYENIIVIJAUJ</td>\n",
       "      <td>11-24</td>\n",
       "      <td>1</td>\n",
       "    </tr>\n",
       "    <tr>\n",
       "      <th>71688</th>\n",
       "      <td>10670</td>\n",
       "      <td>2015-11-13</td>\n",
       "      <td>MX</td>\n",
       "      <td>50</td>\n",
       "      <td>1</td>\n",
       "      <td>ISMFGCQUDTEIW</td>\n",
       "      <td>11-13</td>\n",
       "      <td>1</td>\n",
       "    </tr>\n",
       "  </tbody>\n",
       "</table>\n",
       "</div>"
      ],
      "text/plain": [
       "       user_id       date country  money_spent  is_referral      device_id  \\\n",
       "7480      1074 2015-10-06      US           56            0  KRGUOOGZKNQRQ   \n",
       "51602     6321 2015-11-01      ES           25            0  QCUQFWACQLLIR   \n",
       "41043     4276 2015-10-25      DE           50            0  DUMIZIUAHSNUZ   \n",
       "82250    18090 2015-11-18      UK           49            1  WFDAQKWXBALPB   \n",
       "93141    10650 2015-11-24      FR           20            1  GOYENIIVIJAUJ   \n",
       "71688    10670 2015-11-13      MX           50            1  ISMFGCQUDTEIW   \n",
       "\n",
       "      month_day  in_program  \n",
       "7480      10-06           0  \n",
       "51602     11-01           1  \n",
       "41043     10-25           0  \n",
       "82250     11-18           1  \n",
       "93141     11-24           1  \n",
       "71688     11-13           1  "
      ]
     },
     "execution_count": 24,
     "metadata": {},
     "output_type": "execute_result"
    }
   ],
   "source": [
    "df.sample(6)"
   ]
  },
  {
   "cell_type": "code",
   "execution_count": 25,
   "metadata": {
    "scrolled": true
   },
   "outputs": [
    {
     "name": "stdout",
     "output_type": "stream",
     "text": [
      "Number of records before program:  47341\n",
      "Number of days before program:  28\n",
      "\n",
      "Number of records in program:  50000\n",
      "Number of days in program:  28\n",
      "\n",
      "Total User:  18809\n",
      "Total Country:  9\n",
      "Total Device:  17887\n"
     ]
    }
   ],
   "source": [
    "print('Number of records before program: ', df.loc[df['in_program']==0,:].shape[0])\n",
    "print('Number of days before program: ', len(df.loc[df['in_program']==0,:]['date'].unique()))\n",
    "print('')\n",
    "print('Number of records in program: ', df.loc[df['in_program']==1,:].shape[0])\n",
    "print('Number of days in program: ', len(df.loc[df['in_program']==1,:]['date'].unique()))\n",
    "print('')\n",
    "print('Total User: ', df['user_id'].unique().shape[0])\n",
    "print('Total Country: ',df['country'].unique().shape[0])\n",
    "print('Total Device: ',df['device_id'].unique().shape[0])"
   ]
  },
  {
   "cell_type": "markdown",
   "metadata": {},
   "source": [
    "## Data Visulization"
   ]
  },
  {
   "cell_type": "markdown",
   "metadata": {},
   "source": [
    "### (1) Date"
   ]
  },
  {
   "cell_type": "code",
   "execution_count": 26,
   "metadata": {},
   "outputs": [
    {
     "data": {
      "image/png": "[encoded data removed]",
      "text/plain": [
       "<Figure size 1296x432 with 1 Axes>"
      ]
     },
     "metadata": {
      "needs_background": "light"
     },
     "output_type": "display_data"
    }
   ],
   "source": [
    "fig, ax = plt.subplots(figsize=(18,6))\n",
    "\n",
    "# Average daily spent\n",
    "sns.barplot(x='month_day', y='money_spent', estimator=sum, data=df)\n",
    "\n",
    "ax.set_xlabel('Date', fontsize=12)\n",
    "ax.set_ylabel('Revenue', fontsize=12)\n",
    "ax.set_title('Daily Revenue', fontsize=16)\n",
    "plt.xticks(rotation=90)\n",
    "\n",
    "plt.show()"
   ]
  },
  {
   "cell_type": "code",
   "execution_count": 27,
   "metadata": {},
   "outputs": [
    {
     "data": {
      "image/png": "[encoded data removed]",
      "text/plain": [
       "<Figure size 1296x432 with 1 Axes>"
      ]
     },
     "metadata": {
      "needs_background": "light"
     },
     "output_type": "display_data"
    }
   ],
   "source": [
    "fig, ax = plt.subplots(figsize=(18,6))\n",
    "\n",
    "# Average daily spent\n",
    "sns.barplot(x='month_day', y='money_spent', data=df)\n",
    "\n",
    "ax.set_xlabel('Date', fontsize=12)\n",
    "ax.set_ylabel('Spent', fontsize=12)\n",
    "ax.set_title('Average daily spent', fontsize=16)\n",
    "plt.xticks(rotation=90)\n",
    "\n",
    "plt.show()"
   ]
  },
  {
   "cell_type": "code",
   "execution_count": 28,
   "metadata": {
    "scrolled": false
   },
   "outputs": [
    {
     "data": {
      "image/png": "[encoded data removed]",
      "text/plain": [
       "<Figure size 1296x432 with 1 Axes>"
      ]
     },
     "metadata": {
      "needs_background": "light"
     },
     "output_type": "display_data"
    }
   ],
   "source": [
    "# Number of daily transactions plot\n",
    "fig, ax = plt.subplots(figsize=(18,6))\n",
    "\n",
    "sns.countplot(x='month_day', data=df)\n",
    "\n",
    "ax.set_xlabel('Date', fontsize=12)\n",
    "ax.set_ylabel('Number of Transactions', fontsize=12)\n",
    "ax.set_title('Number of daily transactions', fontsize=16)\n",
    "plt.xticks(rotation=90)\n",
    "\n",
    "plt.show()"
   ]
  },
  {
   "cell_type": "markdown",
   "metadata": {},
   "source": [
    "#### In daily data visualization:\n",
    "* we can see increases in revenue, average spent, and number of tansactions after Oct. 31th, but is it significant enough to say that our program is successful? we need further analysis."
   ]
  },
  {
   "cell_type": "markdown",
   "metadata": {},
   "source": [
    "### (2) Country"
   ]
  },
  {
   "cell_type": "code",
   "execution_count": 29,
   "metadata": {},
   "outputs": [
    {
     "data": {
      "text/html": [
       "<div>\n",
       "<style scoped>\n",
       "    .dataframe tbody tr th:only-of-type {\n",
       "        vertical-align: middle;\n",
       "    }\n",
       "\n",
       "    .dataframe tbody tr th {\n",
       "        vertical-align: top;\n",
       "    }\n",
       "\n",
       "    .dataframe thead th {\n",
       "        text-align: right;\n",
       "    }\n",
       "</style>\n",
       "<table border=\"1\" class=\"dataframe\">\n",
       "  <thead>\n",
       "    <tr style=\"text-align: right;\">\n",
       "      <th></th>\n",
       "      <th>country</th>\n",
       "      <th>revenue_country</th>\n",
       "    </tr>\n",
       "  </thead>\n",
       "  <tbody>\n",
       "    <tr>\n",
       "      <th>0</th>\n",
       "      <td>CA</td>\n",
       "      <td>429768</td>\n",
       "    </tr>\n",
       "    <tr>\n",
       "      <th>1</th>\n",
       "      <td>CH</td>\n",
       "      <td>71686</td>\n",
       "    </tr>\n",
       "    <tr>\n",
       "      <th>2</th>\n",
       "      <td>DE</td>\n",
       "      <td>500380</td>\n",
       "    </tr>\n",
       "    <tr>\n",
       "      <th>3</th>\n",
       "      <td>ES</td>\n",
       "      <td>428658</td>\n",
       "    </tr>\n",
       "    <tr>\n",
       "      <th>4</th>\n",
       "      <td>FR</td>\n",
       "      <td>672567</td>\n",
       "    </tr>\n",
       "    <tr>\n",
       "      <th>5</th>\n",
       "      <td>IT</td>\n",
       "      <td>499660</td>\n",
       "    </tr>\n",
       "    <tr>\n",
       "      <th>6</th>\n",
       "      <td>MX</td>\n",
       "      <td>336243</td>\n",
       "    </tr>\n",
       "    <tr>\n",
       "      <th>7</th>\n",
       "      <td>UK</td>\n",
       "      <td>711479</td>\n",
       "    </tr>\n",
       "    <tr>\n",
       "      <th>8</th>\n",
       "      <td>US</td>\n",
       "      <td>699958</td>\n",
       "    </tr>\n",
       "  </tbody>\n",
       "</table>\n",
       "</div>"
      ],
      "text/plain": [
       "  country  revenue_country\n",
       "0      CA           429768\n",
       "1      CH            71686\n",
       "2      DE           500380\n",
       "3      ES           428658\n",
       "4      FR           672567\n",
       "5      IT           499660\n",
       "6      MX           336243\n",
       "7      UK           711479\n",
       "8      US           699958"
      ]
     },
     "execution_count": 29,
     "metadata": {},
     "output_type": "execute_result"
    }
   ],
   "source": [
    "# check each country revenue\n",
    "revenue_country = df.groupby('country')['money_spent'].sum().reset_index()\n",
    "revenue_country = revenue_country.rename(columns={'money_spent': 'revenue_country'})\n",
    "revenue_country"
   ]
  },
  {
   "cell_type": "code",
   "execution_count": 30,
   "metadata": {
    "scrolled": true
   },
   "outputs": [
    {
     "data": {
      "image/png": "[encoded data removed]",
      "text/plain": [
       "<Figure size 1296x1296 with 3 Axes>"
      ]
     },
     "metadata": {
      "needs_background": "light"
     },
     "output_type": "display_data"
    }
   ],
   "source": [
    "fig, ax = plt.subplots(nrows=3, ncols=1, figsize=(18,18))\n",
    "\n",
    "# Each country revenue\n",
    "sns.barplot(x='country', y='money_spent', hue='is_referral', data=df, estimator=sum,ax=ax[0])\n",
    "ax[0].set_xlabel('Country', fontsize=12)\n",
    "ax[0].set_ylabel('Revenue', fontsize=12)\n",
    "ax[0].set_title('Each Country Revenue', fontsize=16)\n",
    "\n",
    "\n",
    "# Average country spent\n",
    "sns.barplot(x='country', y='money_spent', hue='is_referral', data=df, ax=ax[1])\n",
    "ax[1].set_xlabel('Country', fontsize=12)\n",
    "ax[1].set_ylabel('Spent', fontsize=12)\n",
    "ax[1].set_title('Average Spent in Each Country', fontsize=16)\n",
    "\n",
    "# Number of Transactions in Each Country\n",
    "sns.countplot(x='country', hue='is_referral', data=df, ax=ax[2])\n",
    "ax[2].set_xlabel('Country', fontsize=12)\n",
    "ax[2].set_ylabel('Number of Transactions', fontsize=12)\n",
    "ax[2].set_title('Number of Transactions in Each Country', fontsize=16)\n",
    "\n",
    "plt.show()"
   ]
  },
  {
   "cell_type": "markdown",
   "metadata": {},
   "source": [
    "#### In country data visualization:\n",
    "1. UK and US generated the most revenue\n",
    "2. Even CH have a minimum number of transactions, but the average spent in CH is the highest. We can increase our market campaigns and advertising in this country."
   ]
  },
  {
   "cell_type": "markdown",
   "metadata": {},
   "source": [
    "## Analysis"
   ]
  },
  {
   "cell_type": "code",
   "execution_count": 31,
   "metadata": {},
   "outputs": [],
   "source": [
    "def number_info(df):\n",
    "    ser = {}\n",
    "    # number of user\n",
    "    ser['n_user']=df['user_id'].unique().shape[0]\n",
    "    # total spent\n",
    "    ser['total_spent']=df['money_spent'].sum()\n",
    "    # number of transaction\n",
    "    ser['n_trans']=df.shape[0]\n",
    "    return pd.Series(ser)"
   ]
  },
  {
   "cell_type": "code",
   "execution_count": 32,
   "metadata": {},
   "outputs": [],
   "source": [
    "def stat_result(df):\n",
    "    # get daily number info\n",
    "    daily_number_info = df.groupby('date').apply(number_info)\n",
    "    \n",
    "    # split data into \"before program\" and \"after program\"\n",
    "    before_program = daily_number_info.loc[daily_number_info.index < first_day_program,:]\n",
    "    after_program = daily_number_info.loc[daily_number_info.index >= first_day_program,:]\n",
    "    \n",
    "    \n",
    "    tem = []\n",
    "    columns = ['n_user', 'total_spent', 'n_trans']\n",
    "    # get each column's data and calculate mean in both group\n",
    "    for i in columns:\n",
    "        before_data = before_program.loc[:,i]\n",
    "        before_mean = before_data.mean()\n",
    "\n",
    "        after_data = after_program.loc[:,i]\n",
    "        after_mean = after_data.mean()\n",
    "        \n",
    "        diff_mean = after_mean - before_mean\n",
    "        \n",
    "        # t-test\n",
    "        result = ttest_ind(before_data, after_data, equal_var=False)\n",
    "        # we do a two tails test (only more or less)\n",
    "        pvalue = result.pvalue/2\n",
    "        \n",
    "        tem.append({'before_mean':before_mean, 'after_mean':after_mean, 'diff_mean':diff_mean, 'p-value':pvalue})\n",
    "    return pd.DataFrame(tem, index=columns)  #.loc[:, ['before_mean', 'after_mean', 'diff_mean', 'p-value']]"
   ]
  },
  {
   "cell_type": "markdown",
   "metadata": {},
   "source": [
    "### (1) Date"
   ]
  },
  {
   "cell_type": "code",
   "execution_count": 33,
   "metadata": {},
   "outputs": [
    {
     "data": {
      "text/html": [
       "<div>\n",
       "<style scoped>\n",
       "    .dataframe tbody tr th:only-of-type {\n",
       "        vertical-align: middle;\n",
       "    }\n",
       "\n",
       "    .dataframe tbody tr th {\n",
       "        vertical-align: top;\n",
       "    }\n",
       "\n",
       "    .dataframe thead th {\n",
       "        text-align: right;\n",
       "    }\n",
       "</style>\n",
       "<table border=\"1\" class=\"dataframe\">\n",
       "  <thead>\n",
       "    <tr style=\"text-align: right;\">\n",
       "      <th></th>\n",
       "      <th>index</th>\n",
       "      <th>before_mean</th>\n",
       "      <th>after_mean</th>\n",
       "      <th>diff_mean</th>\n",
       "      <th>p-value</th>\n",
       "    </tr>\n",
       "  </thead>\n",
       "  <tbody>\n",
       "    <tr>\n",
       "      <th>0</th>\n",
       "      <td>n_user</td>\n",
       "      <td>1384.464286</td>\n",
       "      <td>1686.964286</td>\n",
       "      <td>302.500000</td>\n",
       "      <td>0.059545</td>\n",
       "    </tr>\n",
       "    <tr>\n",
       "      <th>1</th>\n",
       "      <td>total_spent</td>\n",
       "      <td>71657.000000</td>\n",
       "      <td>83714.392857</td>\n",
       "      <td>12057.392857</td>\n",
       "      <td>0.135194</td>\n",
       "    </tr>\n",
       "    <tr>\n",
       "      <th>2</th>\n",
       "      <td>n_trans</td>\n",
       "      <td>1690.750000</td>\n",
       "      <td>1785.714286</td>\n",
       "      <td>94.964286</td>\n",
       "      <td>0.348257</td>\n",
       "    </tr>\n",
       "  </tbody>\n",
       "</table>\n",
       "</div>"
      ],
      "text/plain": [
       "         index   before_mean    after_mean     diff_mean   p-value\n",
       "0       n_user   1384.464286   1686.964286    302.500000  0.059545\n",
       "1  total_spent  71657.000000  83714.392857  12057.392857  0.135194\n",
       "2      n_trans   1690.750000   1785.714286     94.964286  0.348257"
      ]
     },
     "execution_count": 33,
     "metadata": {},
     "output_type": "execute_result"
    }
   ],
   "source": [
    "stat_result(df).reset_index()"
   ]
  },
  {
   "cell_type": "markdown",
   "metadata": {},
   "source": [
    "### (2) Country"
   ]
  },
  {
   "cell_type": "code",
   "execution_count": 34,
   "metadata": {},
   "outputs": [
    {
     "data": {
      "text/html": [
       "<div>\n",
       "<style scoped>\n",
       "    .dataframe tbody tr th:only-of-type {\n",
       "        vertical-align: middle;\n",
       "    }\n",
       "\n",
       "    .dataframe tbody tr th {\n",
       "        vertical-align: top;\n",
       "    }\n",
       "\n",
       "    .dataframe thead th {\n",
       "        text-align: right;\n",
       "    }\n",
       "</style>\n",
       "<table border=\"1\" class=\"dataframe\">\n",
       "  <thead>\n",
       "    <tr style=\"text-align: right;\">\n",
       "      <th></th>\n",
       "      <th></th>\n",
       "      <th>before_mean</th>\n",
       "      <th>after_mean</th>\n",
       "      <th>diff_mean</th>\n",
       "      <th>p-value</th>\n",
       "    </tr>\n",
       "    <tr>\n",
       "      <th>country</th>\n",
       "      <th></th>\n",
       "      <th></th>\n",
       "      <th></th>\n",
       "      <th></th>\n",
       "      <th></th>\n",
       "    </tr>\n",
       "  </thead>\n",
       "  <tbody>\n",
       "    <tr>\n",
       "      <th rowspan=\"3\" valign=\"top\">CA</th>\n",
       "      <th>n_user</th>\n",
       "      <td>173.285714</td>\n",
       "      <td>159.178571</td>\n",
       "      <td>-14.107143</td>\n",
       "      <td>0.268256</td>\n",
       "    </tr>\n",
       "    <tr>\n",
       "      <th>total_spent</th>\n",
       "      <td>7468.428571</td>\n",
       "      <td>7880.428571</td>\n",
       "      <td>412.000000</td>\n",
       "      <td>0.351704</td>\n",
       "    </tr>\n",
       "    <tr>\n",
       "      <th>n_trans</th>\n",
       "      <td>177.142857</td>\n",
       "      <td>160.000000</td>\n",
       "      <td>-17.142857</td>\n",
       "      <td>0.233985</td>\n",
       "    </tr>\n",
       "    <tr>\n",
       "      <th rowspan=\"3\" valign=\"top\">CH</th>\n",
       "      <th>n_user</th>\n",
       "      <td>26.714286</td>\n",
       "      <td>17.071429</td>\n",
       "      <td>-9.642857</td>\n",
       "      <td>0.003142</td>\n",
       "    </tr>\n",
       "    <tr>\n",
       "      <th>total_spent</th>\n",
       "      <td>1536.321429</td>\n",
       "      <td>1023.892857</td>\n",
       "      <td>-512.428571</td>\n",
       "      <td>0.006941</td>\n",
       "    </tr>\n",
       "    <tr>\n",
       "      <th>n_trans</th>\n",
       "      <td>26.821429</td>\n",
       "      <td>17.071429</td>\n",
       "      <td>-9.750000</td>\n",
       "      <td>0.003072</td>\n",
       "    </tr>\n",
       "    <tr>\n",
       "      <th rowspan=\"3\" valign=\"top\">DE</th>\n",
       "      <th>n_user</th>\n",
       "      <td>224.964286</td>\n",
       "      <td>163.250000</td>\n",
       "      <td>-61.714286</td>\n",
       "      <td>0.015665</td>\n",
       "    </tr>\n",
       "    <tr>\n",
       "      <th>total_spent</th>\n",
       "      <td>9856.750000</td>\n",
       "      <td>8013.964286</td>\n",
       "      <td>-1842.785714</td>\n",
       "      <td>0.081459</td>\n",
       "    </tr>\n",
       "    <tr>\n",
       "      <th>n_trans</th>\n",
       "      <td>232.142857</td>\n",
       "      <td>164.035714</td>\n",
       "      <td>-68.107143</td>\n",
       "      <td>0.011798</td>\n",
       "    </tr>\n",
       "    <tr>\n",
       "      <th rowspan=\"3\" valign=\"top\">ES</th>\n",
       "      <th>n_user</th>\n",
       "      <td>153.392857</td>\n",
       "      <td>193.214286</td>\n",
       "      <td>39.821429</td>\n",
       "      <td>0.057954</td>\n",
       "    </tr>\n",
       "    <tr>\n",
       "      <th>total_spent</th>\n",
       "      <td>6648.642857</td>\n",
       "      <td>8660.571429</td>\n",
       "      <td>2011.928571</td>\n",
       "      <td>0.037522</td>\n",
       "    </tr>\n",
       "    <tr>\n",
       "      <th>n_trans</th>\n",
       "      <td>156.607143</td>\n",
       "      <td>194.500000</td>\n",
       "      <td>37.892857</td>\n",
       "      <td>0.072638</td>\n",
       "    </tr>\n",
       "    <tr>\n",
       "      <th rowspan=\"3\" valign=\"top\">FR</th>\n",
       "      <th>n_user</th>\n",
       "      <td>236.500000</td>\n",
       "      <td>302.535714</td>\n",
       "      <td>66.035714</td>\n",
       "      <td>0.041124</td>\n",
       "    </tr>\n",
       "    <tr>\n",
       "      <th>total_spent</th>\n",
       "      <td>10385.250000</td>\n",
       "      <td>13635.000000</td>\n",
       "      <td>3249.750000</td>\n",
       "      <td>0.031843</td>\n",
       "    </tr>\n",
       "    <tr>\n",
       "      <th>n_trans</th>\n",
       "      <td>244.142857</td>\n",
       "      <td>305.714286</td>\n",
       "      <td>61.571429</td>\n",
       "      <td>0.058996</td>\n",
       "    </tr>\n",
       "    <tr>\n",
       "      <th rowspan=\"3\" valign=\"top\">IT</th>\n",
       "      <th>n_user</th>\n",
       "      <td>176.535714</td>\n",
       "      <td>226.107143</td>\n",
       "      <td>49.571429</td>\n",
       "      <td>0.043911</td>\n",
       "    </tr>\n",
       "    <tr>\n",
       "      <th>total_spent</th>\n",
       "      <td>7651.571429</td>\n",
       "      <td>10193.428571</td>\n",
       "      <td>2541.857143</td>\n",
       "      <td>0.025730</td>\n",
       "    </tr>\n",
       "    <tr>\n",
       "      <th>n_trans</th>\n",
       "      <td>180.857143</td>\n",
       "      <td>227.928571</td>\n",
       "      <td>47.071429</td>\n",
       "      <td>0.057454</td>\n",
       "    </tr>\n",
       "    <tr>\n",
       "      <th rowspan=\"3\" valign=\"top\">MX</th>\n",
       "      <th>n_user</th>\n",
       "      <td>124.392857</td>\n",
       "      <td>163.107143</td>\n",
       "      <td>38.714286</td>\n",
       "      <td>0.026203</td>\n",
       "    </tr>\n",
       "    <tr>\n",
       "      <th>total_spent</th>\n",
       "      <td>4975.464286</td>\n",
       "      <td>7033.214286</td>\n",
       "      <td>2057.750000</td>\n",
       "      <td>0.009670</td>\n",
       "    </tr>\n",
       "    <tr>\n",
       "      <th>n_trans</th>\n",
       "      <td>126.464286</td>\n",
       "      <td>164.000000</td>\n",
       "      <td>37.535714</td>\n",
       "      <td>0.032430</td>\n",
       "    </tr>\n",
       "    <tr>\n",
       "      <th rowspan=\"3\" valign=\"top\">UK</th>\n",
       "      <th>n_user</th>\n",
       "      <td>255.571429</td>\n",
       "      <td>286.321429</td>\n",
       "      <td>30.750000</td>\n",
       "      <td>0.204398</td>\n",
       "    </tr>\n",
       "    <tr>\n",
       "      <th>total_spent</th>\n",
       "      <td>11213.535714</td>\n",
       "      <td>14196.428571</td>\n",
       "      <td>2982.892857</td>\n",
       "      <td>0.048490</td>\n",
       "    </tr>\n",
       "    <tr>\n",
       "      <th>n_trans</th>\n",
       "      <td>264.285714</td>\n",
       "      <td>289.035714</td>\n",
       "      <td>24.750000</td>\n",
       "      <td>0.261183</td>\n",
       "    </tr>\n",
       "    <tr>\n",
       "      <th rowspan=\"3\" valign=\"top\">US</th>\n",
       "      <th>n_user</th>\n",
       "      <td>273.178571</td>\n",
       "      <td>261.107143</td>\n",
       "      <td>-12.071429</td>\n",
       "      <td>0.368860</td>\n",
       "    </tr>\n",
       "    <tr>\n",
       "      <th>total_spent</th>\n",
       "      <td>11921.035714</td>\n",
       "      <td>13077.464286</td>\n",
       "      <td>1156.428571</td>\n",
       "      <td>0.248874</td>\n",
       "    </tr>\n",
       "    <tr>\n",
       "      <th>n_trans</th>\n",
       "      <td>282.285714</td>\n",
       "      <td>263.428571</td>\n",
       "      <td>-18.857143</td>\n",
       "      <td>0.307801</td>\n",
       "    </tr>\n",
       "  </tbody>\n",
       "</table>\n",
       "</div>"
      ],
      "text/plain": [
       "                      before_mean    after_mean    diff_mean   p-value\n",
       "country                                                               \n",
       "CA      n_user         173.285714    159.178571   -14.107143  0.268256\n",
       "        total_spent   7468.428571   7880.428571   412.000000  0.351704\n",
       "        n_trans        177.142857    160.000000   -17.142857  0.233985\n",
       "CH      n_user          26.714286     17.071429    -9.642857  0.003142\n",
       "        total_spent   1536.321429   1023.892857  -512.428571  0.006941\n",
       "        n_trans         26.821429     17.071429    -9.750000  0.003072\n",
       "DE      n_user         224.964286    163.250000   -61.714286  0.015665\n",
       "        total_spent   9856.750000   8013.964286 -1842.785714  0.081459\n",
       "        n_trans        232.142857    164.035714   -68.107143  0.011798\n",
       "ES      n_user         153.392857    193.214286    39.821429  0.057954\n",
       "        total_spent   6648.642857   8660.571429  2011.928571  0.037522\n",
       "        n_trans        156.607143    194.500000    37.892857  0.072638\n",
       "FR      n_user         236.500000    302.535714    66.035714  0.041124\n",
       "        total_spent  10385.250000  13635.000000  3249.750000  0.031843\n",
       "        n_trans        244.142857    305.714286    61.571429  0.058996\n",
       "IT      n_user         176.535714    226.107143    49.571429  0.043911\n",
       "        total_spent   7651.571429  10193.428571  2541.857143  0.025730\n",
       "        n_trans        180.857143    227.928571    47.071429  0.057454\n",
       "MX      n_user         124.392857    163.107143    38.714286  0.026203\n",
       "        total_spent   4975.464286   7033.214286  2057.750000  0.009670\n",
       "        n_trans        126.464286    164.000000    37.535714  0.032430\n",
       "UK      n_user         255.571429    286.321429    30.750000  0.204398\n",
       "        total_spent  11213.535714  14196.428571  2982.892857  0.048490\n",
       "        n_trans        264.285714    289.035714    24.750000  0.261183\n",
       "US      n_user         273.178571    261.107143   -12.071429  0.368860\n",
       "        total_spent  11921.035714  13077.464286  1156.428571  0.248874\n",
       "        n_trans        282.285714    263.428571   -18.857143  0.307801"
      ]
     },
     "execution_count": 34,
     "metadata": {},
     "output_type": "execute_result"
    }
   ],
   "source": [
    "df.groupby('country').apply(stat_result)"
   ]
  },
  {
   "cell_type": "markdown",
   "metadata": {},
   "source": [
    "# Question 01\n",
    "Can you estimate the impact the program had on the site?\n",
    "\n",
    "#### Ans:\n",
    "* On the whole,the referral program doesn't make a big impact, the number of user increase, but the total spent and number of transcation do not increase\n",
    "\n",
    "But, there are some differences between contries:\n",
    "1. In CH and DE, the program is fail, the total sales decrease\n",
    "2. In ES, FR, IT, and MX, the program is succesful, the total sales increase\n",
    "3. In CA, UK, and US, the total sales does not change greatly"
   ]
  },
  {
   "cell_type": "markdown",
   "metadata": {},
   "source": [
    "# Question 02\n",
    "Based on the data, what would you suggest to do as a next step?\n",
    "\n",
    "#### Ans:\n",
    "1. I suggest to do a more accurate A/B test, exclude other factors that could potentially affect our experiment result and collect more data, so that we can do a better data analysis\n",
    "2. This project has had a different impact in different countries, and we should find out why. For example, in CH and DE, maybe there are some local competitors offer better referral program. Or, maybe there's some seasonal spending habit that happens in November (save money for December?) Since we only run this program for 1 month, this reason can affect the result a lot."
   ]
  },
  {
   "cell_type": "markdown",
   "metadata": {},
   "source": [
    "# Question 03\n",
    "The referral program wasn't really tested in a rigorous way. It simply started on a given day for all users and you are drawing conclusions by looking at the data before and after the test started. What kinds of risks this approach presents? Can you think of a better way to test the referral program and measure its impact?\n",
    "\n",
    "#### Ans:\n",
    "This approach isn't an accurate A/B test. \"User Referral\" program isn't the only factor that affect control group and test group. To get more accurate result, we need to perform a more strict A/B test. \n",
    "\n",
    "For example:\n",
    "\n",
    "1. Set up the experiment in the same peroid of time\n",
    "2. Randomly sample users into two groups, and let only one group user know the User Referral program.\n",
    "3. Run the experiment in a while, then do the t-test to see whether some 'sale performance index' (e.g., daily spent, daily customers, daily transactions) have significant changes or not."
   ]
  }
 ],
 "metadata": {
  "kernelspec": {
   "display_name": "Python 3",
   "language": "python",
   "name": "python3"
  },
  "language_info": {
   "codemirror_mode": {
    "name": "ipython",
    "version": 3
   },
   "file_extension": ".py",
   "mimetype": "text/x-python",
   "name": "python",
   "nbconvert_exporter": "python",
   "pygments_lexer": "ipython3",
   "version": "3.8.5"
  }
 },
 "nbformat": 4,
 "nbformat_minor": 4
}
