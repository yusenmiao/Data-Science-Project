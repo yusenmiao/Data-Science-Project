{
 "cells": [
  {
   "cell_type": "markdown",
   "metadata": {},
   "source": [
    "Company XYZ started a subscription model in January, 2015. You get hired as a first data scientist at the end of August and, as a first task, you are asked to help executives understand how the subscription model is doing."
   ]
  },
  {
   "cell_type": "code",
   "execution_count": 144,
   "metadata": {},
   "outputs": [],
   "source": [
    "import numpy as np\n",
    "import pandas as pd\n",
    "import matplotlib.pyplot as plt\n",
    "import seaborn as sns\n",
    "\n",
    "from sklearn.linear_model import LinearRegression\n",
    "from sklearn.metrics import mean_absolute_error"
   ]
  },
  {
   "cell_type": "markdown",
   "metadata": {},
   "source": [
    "## 01. Import Data"
   ]
  },
  {
   "cell_type": "code",
   "execution_count": 145,
   "metadata": {},
   "outputs": [],
   "source": [
    "df = pd.read_csv('subscription.csv')"
   ]
  },
  {
   "cell_type": "code",
   "execution_count": 146,
   "metadata": {},
   "outputs": [
    {
     "data": {
      "text/html": [
       "<div>\n",
       "<style scoped>\n",
       "    .dataframe tbody tr th:only-of-type {\n",
       "        vertical-align: middle;\n",
       "    }\n",
       "\n",
       "    .dataframe tbody tr th {\n",
       "        vertical-align: top;\n",
       "    }\n",
       "\n",
       "    .dataframe thead th {\n",
       "        text-align: right;\n",
       "    }\n",
       "</style>\n",
       "<table border=\"1\" class=\"dataframe\">\n",
       "  <thead>\n",
       "    <tr style=\"text-align: right;\">\n",
       "      <th></th>\n",
       "      <th>user_id</th>\n",
       "      <th>subscription_signup_date</th>\n",
       "      <th>subscription_monthly_cost</th>\n",
       "      <th>country</th>\n",
       "      <th>source</th>\n",
       "      <th>billing_cycles</th>\n",
       "      <th>is_active</th>\n",
       "    </tr>\n",
       "  </thead>\n",
       "  <tbody>\n",
       "    <tr>\n",
       "      <th>0</th>\n",
       "      <td>1459</td>\n",
       "      <td>January, 2015</td>\n",
       "      <td>29</td>\n",
       "      <td>Spain</td>\n",
       "      <td>ads</td>\n",
       "      <td>4</td>\n",
       "      <td>0</td>\n",
       "    </tr>\n",
       "    <tr>\n",
       "      <th>1</th>\n",
       "      <td>12474</td>\n",
       "      <td>January, 2015</td>\n",
       "      <td>49</td>\n",
       "      <td>France</td>\n",
       "      <td>ads</td>\n",
       "      <td>5</td>\n",
       "      <td>0</td>\n",
       "    </tr>\n",
       "    <tr>\n",
       "      <th>2</th>\n",
       "      <td>12294</td>\n",
       "      <td>January, 2015</td>\n",
       "      <td>49</td>\n",
       "      <td>Germany</td>\n",
       "      <td>ads</td>\n",
       "      <td>2</td>\n",
       "      <td>0</td>\n",
       "    </tr>\n",
       "    <tr>\n",
       "      <th>3</th>\n",
       "      <td>3878</td>\n",
       "      <td>January, 2015</td>\n",
       "      <td>49</td>\n",
       "      <td>China</td>\n",
       "      <td>ads</td>\n",
       "      <td>1</td>\n",
       "      <td>0</td>\n",
       "    </tr>\n",
       "    <tr>\n",
       "      <th>4</th>\n",
       "      <td>9567</td>\n",
       "      <td>January, 2015</td>\n",
       "      <td>49</td>\n",
       "      <td>UK</td>\n",
       "      <td>ads</td>\n",
       "      <td>5</td>\n",
       "      <td>0</td>\n",
       "    </tr>\n",
       "  </tbody>\n",
       "</table>\n",
       "</div>"
      ],
      "text/plain": [
       "   user_id subscription_signup_date  subscription_monthly_cost  country  \\\n",
       "0     1459            January, 2015                         29    Spain   \n",
       "1    12474            January, 2015                         49   France   \n",
       "2    12294            January, 2015                         49  Germany   \n",
       "3     3878            January, 2015                         49    China   \n",
       "4     9567            January, 2015                         49       UK   \n",
       "\n",
       "  source  billing_cycles  is_active  \n",
       "0    ads               4          0  \n",
       "1    ads               5          0  \n",
       "2    ads               2          0  \n",
       "3    ads               1          0  \n",
       "4    ads               5          0  "
      ]
     },
     "execution_count": 146,
     "metadata": {},
     "output_type": "execute_result"
    }
   ],
   "source": [
    "df.head()"
   ]
  },
  {
   "cell_type": "code",
   "execution_count": 147,
   "metadata": {},
   "outputs": [
    {
     "name": "stdout",
     "output_type": "stream",
     "text": [
      "<class 'pandas.core.frame.DataFrame'>\n",
      "RangeIndex: 500000 entries, 0 to 499999\n",
      "Data columns (total 7 columns):\n",
      " #   Column                     Non-Null Count   Dtype \n",
      "---  ------                     --------------   ----- \n",
      " 0   user_id                    500000 non-null  int64 \n",
      " 1   subscription_signup_date   500000 non-null  object\n",
      " 2   subscription_monthly_cost  500000 non-null  int64 \n",
      " 3   country                    500000 non-null  object\n",
      " 4   source                     500000 non-null  object\n",
      " 5   billing_cycles             500000 non-null  int64 \n",
      " 6   is_active                  500000 non-null  int64 \n",
      "dtypes: int64(4), object(3)\n",
      "memory usage: 26.7+ MB\n"
     ]
    }
   ],
   "source": [
    "df.info()"
   ]
  },
  {
   "cell_type": "code",
   "execution_count": 148,
   "metadata": {},
   "outputs": [
    {
     "data": {
      "text/html": [
       "<div>\n",
       "<style scoped>\n",
       "    .dataframe tbody tr th:only-of-type {\n",
       "        vertical-align: middle;\n",
       "    }\n",
       "\n",
       "    .dataframe tbody tr th {\n",
       "        vertical-align: top;\n",
       "    }\n",
       "\n",
       "    .dataframe thead th {\n",
       "        text-align: right;\n",
       "    }\n",
       "</style>\n",
       "<table border=\"1\" class=\"dataframe\">\n",
       "  <thead>\n",
       "    <tr style=\"text-align: right;\">\n",
       "      <th></th>\n",
       "      <th>user_id</th>\n",
       "      <th>subscription_monthly_cost</th>\n",
       "      <th>billing_cycles</th>\n",
       "      <th>is_active</th>\n",
       "    </tr>\n",
       "  </thead>\n",
       "  <tbody>\n",
       "    <tr>\n",
       "      <th>count</th>\n",
       "      <td>500000.000000</td>\n",
       "      <td>500000.000000</td>\n",
       "      <td>500000.000000</td>\n",
       "      <td>500000.000000</td>\n",
       "    </tr>\n",
       "    <tr>\n",
       "      <th>mean</th>\n",
       "      <td>250000.500000</td>\n",
       "      <td>48.469620</td>\n",
       "      <td>2.384970</td>\n",
       "      <td>0.099998</td>\n",
       "    </tr>\n",
       "    <tr>\n",
       "      <th>std</th>\n",
       "      <td>144337.711634</td>\n",
       "      <td>19.570745</td>\n",
       "      <td>2.254952</td>\n",
       "      <td>0.299998</td>\n",
       "    </tr>\n",
       "    <tr>\n",
       "      <th>min</th>\n",
       "      <td>1.000000</td>\n",
       "      <td>29.000000</td>\n",
       "      <td>1.000000</td>\n",
       "      <td>0.000000</td>\n",
       "    </tr>\n",
       "    <tr>\n",
       "      <th>25%</th>\n",
       "      <td>125000.750000</td>\n",
       "      <td>29.000000</td>\n",
       "      <td>1.000000</td>\n",
       "      <td>0.000000</td>\n",
       "    </tr>\n",
       "    <tr>\n",
       "      <th>50%</th>\n",
       "      <td>250000.500000</td>\n",
       "      <td>49.000000</td>\n",
       "      <td>1.000000</td>\n",
       "      <td>0.000000</td>\n",
       "    </tr>\n",
       "    <tr>\n",
       "      <th>75%</th>\n",
       "      <td>375000.250000</td>\n",
       "      <td>49.000000</td>\n",
       "      <td>3.000000</td>\n",
       "      <td>0.000000</td>\n",
       "    </tr>\n",
       "    <tr>\n",
       "      <th>max</th>\n",
       "      <td>500000.000000</td>\n",
       "      <td>99.000000</td>\n",
       "      <td>8.000000</td>\n",
       "      <td>1.000000</td>\n",
       "    </tr>\n",
       "  </tbody>\n",
       "</table>\n",
       "</div>"
      ],
      "text/plain": [
       "             user_id  subscription_monthly_cost  billing_cycles      is_active\n",
       "count  500000.000000              500000.000000   500000.000000  500000.000000\n",
       "mean   250000.500000                  48.469620        2.384970       0.099998\n",
       "std    144337.711634                  19.570745        2.254952       0.299998\n",
       "min         1.000000                  29.000000        1.000000       0.000000\n",
       "25%    125000.750000                  29.000000        1.000000       0.000000\n",
       "50%    250000.500000                  49.000000        1.000000       0.000000\n",
       "75%    375000.250000                  49.000000        3.000000       0.000000\n",
       "max    500000.000000                  99.000000        8.000000       1.000000"
      ]
     },
     "execution_count": 148,
     "metadata": {},
     "output_type": "execute_result"
    }
   ],
   "source": [
    "df.describe()"
   ]
  },
  {
   "cell_type": "markdown",
   "metadata": {},
   "source": [
    "## 02. Data Processing"
   ]
  },
  {
   "cell_type": "markdown",
   "metadata": {},
   "source": [
    "### (1) Data Clean"
   ]
  },
  {
   "cell_type": "code",
   "execution_count": 149,
   "metadata": {},
   "outputs": [
    {
     "data": {
      "text/plain": [
       "January, 2015    500000\n",
       "Name: subscription_signup_date, dtype: int64"
      ]
     },
     "execution_count": 149,
     "metadata": {},
     "output_type": "execute_result"
    }
   ],
   "source": [
    "# since all subscription_signup_date are the same, we can drop it\n",
    "df['subscription_signup_date'].value_counts()"
   ]
  },
  {
   "cell_type": "code",
   "execution_count": 150,
   "metadata": {},
   "outputs": [
    {
     "data": {
      "text/html": [
       "<div>\n",
       "<style scoped>\n",
       "    .dataframe tbody tr th:only-of-type {\n",
       "        vertical-align: middle;\n",
       "    }\n",
       "\n",
       "    .dataframe tbody tr th {\n",
       "        vertical-align: top;\n",
       "    }\n",
       "\n",
       "    .dataframe thead th {\n",
       "        text-align: right;\n",
       "    }\n",
       "</style>\n",
       "<table border=\"1\" class=\"dataframe\">\n",
       "  <thead>\n",
       "    <tr style=\"text-align: right;\">\n",
       "      <th></th>\n",
       "      <th>user_id</th>\n",
       "      <th>subscription_monthly_cost</th>\n",
       "      <th>country</th>\n",
       "      <th>source</th>\n",
       "      <th>billing_cycles</th>\n",
       "      <th>is_active</th>\n",
       "    </tr>\n",
       "  </thead>\n",
       "  <tbody>\n",
       "    <tr>\n",
       "      <th>0</th>\n",
       "      <td>1459</td>\n",
       "      <td>29</td>\n",
       "      <td>Spain</td>\n",
       "      <td>ads</td>\n",
       "      <td>4</td>\n",
       "      <td>0</td>\n",
       "    </tr>\n",
       "    <tr>\n",
       "      <th>1</th>\n",
       "      <td>12474</td>\n",
       "      <td>49</td>\n",
       "      <td>France</td>\n",
       "      <td>ads</td>\n",
       "      <td>5</td>\n",
       "      <td>0</td>\n",
       "    </tr>\n",
       "    <tr>\n",
       "      <th>2</th>\n",
       "      <td>12294</td>\n",
       "      <td>49</td>\n",
       "      <td>Germany</td>\n",
       "      <td>ads</td>\n",
       "      <td>2</td>\n",
       "      <td>0</td>\n",
       "    </tr>\n",
       "    <tr>\n",
       "      <th>3</th>\n",
       "      <td>3878</td>\n",
       "      <td>49</td>\n",
       "      <td>China</td>\n",
       "      <td>ads</td>\n",
       "      <td>1</td>\n",
       "      <td>0</td>\n",
       "    </tr>\n",
       "    <tr>\n",
       "      <th>4</th>\n",
       "      <td>9567</td>\n",
       "      <td>49</td>\n",
       "      <td>UK</td>\n",
       "      <td>ads</td>\n",
       "      <td>5</td>\n",
       "      <td>0</td>\n",
       "    </tr>\n",
       "  </tbody>\n",
       "</table>\n",
       "</div>"
      ],
      "text/plain": [
       "   user_id  subscription_monthly_cost  country source  billing_cycles  \\\n",
       "0     1459                         29    Spain    ads               4   \n",
       "1    12474                         49   France    ads               5   \n",
       "2    12294                         49  Germany    ads               2   \n",
       "3     3878                         49    China    ads               1   \n",
       "4     9567                         49       UK    ads               5   \n",
       "\n",
       "   is_active  \n",
       "0          0  \n",
       "1          0  \n",
       "2          0  \n",
       "3          0  \n",
       "4          0  "
      ]
     },
     "execution_count": 150,
     "metadata": {},
     "output_type": "execute_result"
    }
   ],
   "source": [
    "df = df.drop(labels='subscription_signup_date',axis=1)\n",
    "df.head()"
   ]
  },
  {
   "cell_type": "markdown",
   "metadata": {},
   "source": [
    "## Question01\n",
    "* A model that predicts monthly retention rate for the different subscription price points"
   ]
  },
  {
   "cell_type": "code",
   "execution_count": 151,
   "metadata": {},
   "outputs": [],
   "source": [
    "# create a conversion rate function\n",
    "def retention_rate(df):\n",
    "    conversions = []\n",
    "    for i in range(1,9):\n",
    "        conversions.append(len(df[df['billing_cycles'] >= i])/len(df))\n",
    "    return pd.Series(conversions, index=[1,2,3,4,5,6,7,8])"
   ]
  },
  {
   "cell_type": "code",
   "execution_count": 152,
   "metadata": {
    "scrolled": false
   },
   "outputs": [
    {
     "data": {
      "text/html": [
       "<div>\n",
       "<style scoped>\n",
       "    .dataframe tbody tr th:only-of-type {\n",
       "        vertical-align: middle;\n",
       "    }\n",
       "\n",
       "    .dataframe tbody tr th {\n",
       "        vertical-align: top;\n",
       "    }\n",
       "\n",
       "    .dataframe thead th {\n",
       "        text-align: right;\n",
       "    }\n",
       "</style>\n",
       "<table border=\"1\" class=\"dataframe\">\n",
       "  <thead>\n",
       "    <tr style=\"text-align: right;\">\n",
       "      <th></th>\n",
       "      <th>1</th>\n",
       "      <th>2</th>\n",
       "      <th>3</th>\n",
       "      <th>4</th>\n",
       "      <th>5</th>\n",
       "      <th>6</th>\n",
       "      <th>7</th>\n",
       "      <th>8</th>\n",
       "    </tr>\n",
       "    <tr>\n",
       "      <th>subscription_monthly_cost</th>\n",
       "      <th></th>\n",
       "      <th></th>\n",
       "      <th></th>\n",
       "      <th></th>\n",
       "      <th></th>\n",
       "      <th></th>\n",
       "      <th></th>\n",
       "      <th></th>\n",
       "    </tr>\n",
       "  </thead>\n",
       "  <tbody>\n",
       "    <tr>\n",
       "      <th>29</th>\n",
       "      <td>1.0</td>\n",
       "      <td>0.607542</td>\n",
       "      <td>0.458473</td>\n",
       "      <td>0.376232</td>\n",
       "      <td>0.323028</td>\n",
       "      <td>0.285416</td>\n",
       "      <td>0.257157</td>\n",
       "      <td>0.235901</td>\n",
       "    </tr>\n",
       "    <tr>\n",
       "      <th>49</th>\n",
       "      <td>1.0</td>\n",
       "      <td>0.383666</td>\n",
       "      <td>0.206247</td>\n",
       "      <td>0.134043</td>\n",
       "      <td>0.096466</td>\n",
       "      <td>0.074072</td>\n",
       "      <td>0.059408</td>\n",
       "      <td>0.048845</td>\n",
       "    </tr>\n",
       "    <tr>\n",
       "      <th>99</th>\n",
       "      <td>1.0</td>\n",
       "      <td>0.158769</td>\n",
       "      <td>0.070040</td>\n",
       "      <td>0.042411</td>\n",
       "      <td>0.029676</td>\n",
       "      <td>0.022182</td>\n",
       "      <td>0.017937</td>\n",
       "      <td>0.015007</td>\n",
       "    </tr>\n",
       "  </tbody>\n",
       "</table>\n",
       "</div>"
      ],
      "text/plain": [
       "                             1         2         3         4         5  \\\n",
       "subscription_monthly_cost                                                \n",
       "29                         1.0  0.607542  0.458473  0.376232  0.323028   \n",
       "49                         1.0  0.383666  0.206247  0.134043  0.096466   \n",
       "99                         1.0  0.158769  0.070040  0.042411  0.029676   \n",
       "\n",
       "                                  6         7         8  \n",
       "subscription_monthly_cost                                \n",
       "29                         0.285416  0.257157  0.235901  \n",
       "49                         0.074072  0.059408  0.048845  \n",
       "99                         0.022182  0.017937  0.015007  "
      ]
     },
     "execution_count": 152,
     "metadata": {},
     "output_type": "execute_result"
    }
   ],
   "source": [
    "df_retention_rate = df.groupby('subscription_monthly_cost').apply(retention_rate)\n",
    "df_retention_rate"
   ]
  },
  {
   "cell_type": "code",
   "execution_count": 153,
   "metadata": {},
   "outputs": [
    {
     "data": {
      "image/png": "[encoded data removed]",
      "text/plain": [
       "<Figure size 1008x432 with 1 Axes>"
      ]
     },
     "metadata": {
      "needs_background": "light"
     },
     "output_type": "display_data"
    }
   ],
   "source": [
    "# plot\n",
    "fig, ax = plt.subplots(figsize=(14,6))\n",
    "\n",
    "df_retention_rate.T.plot(kind='line', ax=ax)\n",
    "ax.set_title('Retention Rate vs. Subscription Cost')\n",
    "ax.set_xlabel('Billing Cycles')\n",
    "ax.set_ylabel('Retention Rate')\n",
    "ax.grid(True)"
   ]
  },
  {
   "cell_type": "markdown",
   "metadata": {},
   "source": [
    "* This is not a very big dataset, so we can use Linear Regression to make prediction\n",
    "* According to above plot, we can see that the Retention Rate is not very linear. Therefore, we should add more nonlinear factors to help our Model to make accurate prediction. In this case, we can add log and square of billing cycles\n",
    "* Retension rate should be non-negative, we use log(rate) to deal with it, and when we do the prediction, we transform back to it back by exp()"
   ]
  },
  {
   "cell_type": "code",
   "execution_count": 154,
   "metadata": {},
   "outputs": [
    {
     "data": {
      "text/html": [
       "<div>\n",
       "<style scoped>\n",
       "    .dataframe tbody tr th:only-of-type {\n",
       "        vertical-align: middle;\n",
       "    }\n",
       "\n",
       "    .dataframe tbody tr th {\n",
       "        vertical-align: top;\n",
       "    }\n",
       "\n",
       "    .dataframe thead th {\n",
       "        text-align: right;\n",
       "    }\n",
       "</style>\n",
       "<table border=\"1\" class=\"dataframe\">\n",
       "  <thead>\n",
       "    <tr style=\"text-align: right;\">\n",
       "      <th></th>\n",
       "      <th>cycles</th>\n",
       "      <th>cycles_log</th>\n",
       "      <th>cycles_square</th>\n",
       "      <th>29_rate</th>\n",
       "      <th>49_rate</th>\n",
       "      <th>99_rate</th>\n",
       "    </tr>\n",
       "  </thead>\n",
       "  <tbody>\n",
       "    <tr>\n",
       "      <th>0</th>\n",
       "      <td>1</td>\n",
       "      <td>0.000000</td>\n",
       "      <td>1</td>\n",
       "      <td>1.000000</td>\n",
       "      <td>1.000000</td>\n",
       "      <td>1.000000</td>\n",
       "    </tr>\n",
       "    <tr>\n",
       "      <th>1</th>\n",
       "      <td>2</td>\n",
       "      <td>0.693147</td>\n",
       "      <td>4</td>\n",
       "      <td>0.607542</td>\n",
       "      <td>0.383666</td>\n",
       "      <td>0.158769</td>\n",
       "    </tr>\n",
       "    <tr>\n",
       "      <th>2</th>\n",
       "      <td>3</td>\n",
       "      <td>1.098612</td>\n",
       "      <td>9</td>\n",
       "      <td>0.458473</td>\n",
       "      <td>0.206247</td>\n",
       "      <td>0.070040</td>\n",
       "    </tr>\n",
       "    <tr>\n",
       "      <th>3</th>\n",
       "      <td>4</td>\n",
       "      <td>1.386294</td>\n",
       "      <td>16</td>\n",
       "      <td>0.376232</td>\n",
       "      <td>0.134043</td>\n",
       "      <td>0.042411</td>\n",
       "    </tr>\n",
       "    <tr>\n",
       "      <th>4</th>\n",
       "      <td>5</td>\n",
       "      <td>1.609438</td>\n",
       "      <td>25</td>\n",
       "      <td>0.323028</td>\n",
       "      <td>0.096466</td>\n",
       "      <td>0.029676</td>\n",
       "    </tr>\n",
       "    <tr>\n",
       "      <th>5</th>\n",
       "      <td>6</td>\n",
       "      <td>1.791759</td>\n",
       "      <td>36</td>\n",
       "      <td>0.285416</td>\n",
       "      <td>0.074072</td>\n",
       "      <td>0.022182</td>\n",
       "    </tr>\n",
       "    <tr>\n",
       "      <th>6</th>\n",
       "      <td>7</td>\n",
       "      <td>1.945910</td>\n",
       "      <td>49</td>\n",
       "      <td>0.257157</td>\n",
       "      <td>0.059408</td>\n",
       "      <td>0.017937</td>\n",
       "    </tr>\n",
       "    <tr>\n",
       "      <th>7</th>\n",
       "      <td>8</td>\n",
       "      <td>2.079442</td>\n",
       "      <td>64</td>\n",
       "      <td>0.235901</td>\n",
       "      <td>0.048845</td>\n",
       "      <td>0.015007</td>\n",
       "    </tr>\n",
       "  </tbody>\n",
       "</table>\n",
       "</div>"
      ],
      "text/plain": [
       "   cycles  cycles_log  cycles_square   29_rate   49_rate   99_rate\n",
       "0       1    0.000000              1  1.000000  1.000000  1.000000\n",
       "1       2    0.693147              4  0.607542  0.383666  0.158769\n",
       "2       3    1.098612              9  0.458473  0.206247  0.070040\n",
       "3       4    1.386294             16  0.376232  0.134043  0.042411\n",
       "4       5    1.609438             25  0.323028  0.096466  0.029676\n",
       "5       6    1.791759             36  0.285416  0.074072  0.022182\n",
       "6       7    1.945910             49  0.257157  0.059408  0.017937\n",
       "7       8    2.079442             64  0.235901  0.048845  0.015007"
      ]
     },
     "execution_count": 154,
     "metadata": {},
     "output_type": "execute_result"
    }
   ],
   "source": [
    "# prepare data for mdoel\n",
    "df_model = pd.DataFrame()\n",
    "df_model['cycles'] = df_retention_rate.columns\n",
    "df_model['cycles_log'] = np.log(df_model['cycles'])\n",
    "df_model['cycles_square'] = df_model['cycles']*df_model['cycles']\n",
    "df_model['29_rate'] = df_retention_rate.T[29].values\n",
    "df_model['49_rate'] = df_retention_rate.T[49].values\n",
    "df_model['99_rate'] = df_retention_rate.T[99].values\n",
    "df_model"
   ]
  },
  {
   "cell_type": "code",
   "execution_count": 155,
   "metadata": {},
   "outputs": [
    {
     "data": {
      "text/plain": [
       "LinearRegression()"
      ]
     },
     "execution_count": 155,
     "metadata": {},
     "output_type": "execute_result"
    }
   ],
   "source": [
    "# build models\n",
    "\n",
    "lm_29 = LinearRegression()\n",
    "lm_49 = LinearRegression()\n",
    "lm_99 = LinearRegression()\n",
    "\n",
    "# fit models\n",
    "lm_29.fit(df_model.iloc[:,:3], np.log(df_model['29_rate']))\n",
    "lm_49.fit(df_model.iloc[:,:3], np.log(df_model['49_rate']))\n",
    "lm_99.fit(df_model.iloc[:,:3], np.log(df_model['99_rate']))"
   ]
  },
  {
   "cell_type": "code",
   "execution_count": 156,
   "metadata": {},
   "outputs": [],
   "source": [
    "# make prediction\n",
    "df_model['29_rate_pred'] = np.exp(lm_29.predict(df_model.iloc[:,:3]))\n",
    "df_model['49_rate_pred'] = np.exp(lm_49.predict(df_model.iloc[:,:3]))\n",
    "df_model['99_rate_pred'] = np.exp(lm_99.predict(df_model.iloc[:,:3]))"
   ]
  },
  {
   "cell_type": "code",
   "execution_count": 157,
   "metadata": {},
   "outputs": [
    {
     "data": {
      "text/html": [
       "<div>\n",
       "<style scoped>\n",
       "    .dataframe tbody tr th:only-of-type {\n",
       "        vertical-align: middle;\n",
       "    }\n",
       "\n",
       "    .dataframe tbody tr th {\n",
       "        vertical-align: top;\n",
       "    }\n",
       "\n",
       "    .dataframe thead th {\n",
       "        text-align: right;\n",
       "    }\n",
       "</style>\n",
       "<table border=\"1\" class=\"dataframe\">\n",
       "  <thead>\n",
       "    <tr style=\"text-align: right;\">\n",
       "      <th></th>\n",
       "      <th>cycles</th>\n",
       "      <th>cycles_log</th>\n",
       "      <th>cycles_square</th>\n",
       "      <th>29_rate</th>\n",
       "      <th>49_rate</th>\n",
       "      <th>99_rate</th>\n",
       "      <th>29_rate_pred</th>\n",
       "      <th>49_rate_pred</th>\n",
       "      <th>99_rate_pred</th>\n",
       "    </tr>\n",
       "  </thead>\n",
       "  <tbody>\n",
       "    <tr>\n",
       "      <th>0</th>\n",
       "      <td>1</td>\n",
       "      <td>0.000000</td>\n",
       "      <td>1</td>\n",
       "      <td>1.000000</td>\n",
       "      <td>1.000000</td>\n",
       "      <td>1.000000</td>\n",
       "      <td>0.999502</td>\n",
       "      <td>1.003844</td>\n",
       "      <td>0.992027</td>\n",
       "    </tr>\n",
       "    <tr>\n",
       "      <th>1</th>\n",
       "      <td>2</td>\n",
       "      <td>0.693147</td>\n",
       "      <td>4</td>\n",
       "      <td>0.607542</td>\n",
       "      <td>0.383666</td>\n",
       "      <td>0.158769</td>\n",
       "      <td>0.608619</td>\n",
       "      <td>0.378064</td>\n",
       "      <td>0.163419</td>\n",
       "    </tr>\n",
       "    <tr>\n",
       "      <th>2</th>\n",
       "      <td>3</td>\n",
       "      <td>1.098612</td>\n",
       "      <td>9</td>\n",
       "      <td>0.458473</td>\n",
       "      <td>0.206247</td>\n",
       "      <td>0.070040</td>\n",
       "      <td>0.458101</td>\n",
       "      <td>0.208259</td>\n",
       "      <td>0.069098</td>\n",
       "    </tr>\n",
       "    <tr>\n",
       "      <th>3</th>\n",
       "      <td>4</td>\n",
       "      <td>1.386294</td>\n",
       "      <td>16</td>\n",
       "      <td>0.376232</td>\n",
       "      <td>0.134043</td>\n",
       "      <td>0.042411</td>\n",
       "      <td>0.375765</td>\n",
       "      <td>0.135129</td>\n",
       "      <td>0.041513</td>\n",
       "    </tr>\n",
       "    <tr>\n",
       "      <th>4</th>\n",
       "      <td>5</td>\n",
       "      <td>1.609438</td>\n",
       "      <td>25</td>\n",
       "      <td>0.323028</td>\n",
       "      <td>0.096466</td>\n",
       "      <td>0.029676</td>\n",
       "      <td>0.322898</td>\n",
       "      <td>0.096500</td>\n",
       "      <td>0.029441</td>\n",
       "    </tr>\n",
       "    <tr>\n",
       "      <th>5</th>\n",
       "      <td>6</td>\n",
       "      <td>1.791759</td>\n",
       "      <td>36</td>\n",
       "      <td>0.285416</td>\n",
       "      <td>0.074072</td>\n",
       "      <td>0.022182</td>\n",
       "      <td>0.285608</td>\n",
       "      <td>0.073590</td>\n",
       "      <td>0.022695</td>\n",
       "    </tr>\n",
       "    <tr>\n",
       "      <th>6</th>\n",
       "      <td>7</td>\n",
       "      <td>1.945910</td>\n",
       "      <td>49</td>\n",
       "      <td>0.257157</td>\n",
       "      <td>0.059408</td>\n",
       "      <td>0.017937</td>\n",
       "      <td>0.257606</td>\n",
       "      <td>0.058968</td>\n",
       "      <td>0.018197</td>\n",
       "    </tr>\n",
       "    <tr>\n",
       "      <th>7</th>\n",
       "      <td>8</td>\n",
       "      <td>2.079442</td>\n",
       "      <td>64</td>\n",
       "      <td>0.235901</td>\n",
       "      <td>0.048845</td>\n",
       "      <td>0.015007</td>\n",
       "      <td>0.235610</td>\n",
       "      <td>0.049174</td>\n",
       "      <td>0.014781</td>\n",
       "    </tr>\n",
       "  </tbody>\n",
       "</table>\n",
       "</div>"
      ],
      "text/plain": [
       "   cycles  cycles_log  cycles_square   29_rate   49_rate   99_rate  \\\n",
       "0       1    0.000000              1  1.000000  1.000000  1.000000   \n",
       "1       2    0.693147              4  0.607542  0.383666  0.158769   \n",
       "2       3    1.098612              9  0.458473  0.206247  0.070040   \n",
       "3       4    1.386294             16  0.376232  0.134043  0.042411   \n",
       "4       5    1.609438             25  0.323028  0.096466  0.029676   \n",
       "5       6    1.791759             36  0.285416  0.074072  0.022182   \n",
       "6       7    1.945910             49  0.257157  0.059408  0.017937   \n",
       "7       8    2.079442             64  0.235901  0.048845  0.015007   \n",
       "\n",
       "   29_rate_pred  49_rate_pred  99_rate_pred  \n",
       "0      0.999502      1.003844      0.992027  \n",
       "1      0.608619      0.378064      0.163419  \n",
       "2      0.458101      0.208259      0.069098  \n",
       "3      0.375765      0.135129      0.041513  \n",
       "4      0.322898      0.096500      0.029441  \n",
       "5      0.285608      0.073590      0.022695  \n",
       "6      0.257606      0.058968      0.018197  \n",
       "7      0.235610      0.049174      0.014781  "
      ]
     },
     "execution_count": 157,
     "metadata": {},
     "output_type": "execute_result"
    }
   ],
   "source": [
    "df_model"
   ]
  },
  {
   "cell_type": "code",
   "execution_count": 158,
   "metadata": {},
   "outputs": [
    {
     "name": "stdout",
     "output_type": "stream",
     "text": [
      "MAE of $29 monthly cost:  0.0004347270380152153\n",
      "MAE of $49 monthly cost:  0.0017286989106734948\n",
      "MAE of $99 monthly cost:  0.0019621328744890794\n"
     ]
    }
   ],
   "source": [
    "# MAE\n",
    "print('MAE of $29 monthly cost: ', mean_absolute_error(df_model['29_rate'], df_model['29_rate_pred']))\n",
    "print('MAE of $49 monthly cost: ', mean_absolute_error(df_model['49_rate'], df_model['49_rate_pred']))\n",
    "print('MAE of $99 monthly cost: ', mean_absolute_error(df_model['99_rate'], df_model['99_rate_pred']))"
   ]
  },
  {
   "cell_type": "markdown",
   "metadata": {},
   "source": [
    "* As we can see above, our MAE is very low, which means our models' predictions are very accurate"
   ]
  },
  {
   "cell_type": "markdown",
   "metadata": {},
   "source": [
    "## Question02\n",
    "* Based on your model, for each price point, what percentage of users is still subscribed after at least 12 months?"
   ]
  },
  {
   "cell_type": "code",
   "execution_count": 159,
   "metadata": {
    "scrolled": true
   },
   "outputs": [
    {
     "data": {
      "text/html": [
       "<div>\n",
       "<style scoped>\n",
       "    .dataframe tbody tr th:only-of-type {\n",
       "        vertical-align: middle;\n",
       "    }\n",
       "\n",
       "    .dataframe tbody tr th {\n",
       "        vertical-align: top;\n",
       "    }\n",
       "\n",
       "    .dataframe thead th {\n",
       "        text-align: right;\n",
       "    }\n",
       "</style>\n",
       "<table border=\"1\" class=\"dataframe\">\n",
       "  <thead>\n",
       "    <tr style=\"text-align: right;\">\n",
       "      <th></th>\n",
       "      <th>cycles</th>\n",
       "      <th>cycles_log</th>\n",
       "      <th>cycles_square</th>\n",
       "    </tr>\n",
       "  </thead>\n",
       "  <tbody>\n",
       "    <tr>\n",
       "      <th>0</th>\n",
       "      <td>9</td>\n",
       "      <td>2.197225</td>\n",
       "      <td>81</td>\n",
       "    </tr>\n",
       "    <tr>\n",
       "      <th>1</th>\n",
       "      <td>10</td>\n",
       "      <td>2.302585</td>\n",
       "      <td>100</td>\n",
       "    </tr>\n",
       "    <tr>\n",
       "      <th>2</th>\n",
       "      <td>11</td>\n",
       "      <td>2.397895</td>\n",
       "      <td>121</td>\n",
       "    </tr>\n",
       "    <tr>\n",
       "      <th>3</th>\n",
       "      <td>12</td>\n",
       "      <td>2.484907</td>\n",
       "      <td>144</td>\n",
       "    </tr>\n",
       "  </tbody>\n",
       "</table>\n",
       "</div>"
      ],
      "text/plain": [
       "   cycles  cycles_log  cycles_square\n",
       "0       9    2.197225             81\n",
       "1      10    2.302585            100\n",
       "2      11    2.397895            121\n",
       "3      12    2.484907            144"
      ]
     },
     "execution_count": 159,
     "metadata": {},
     "output_type": "execute_result"
    }
   ],
   "source": [
    "# make a new dataframe for further prediction, in this case we try to predict 9-12 months\n",
    "df_model_new = pd.DataFrame()\n",
    "df_model_new['cycles'] = [9,10,11,12]\n",
    "df_model_new['cycles_log'] = np.log(df_model_new['cycles'])\n",
    "df_model_new['cycles_square'] = df_model_new['cycles']*df_model_new['cycles']\n",
    "df_model_new"
   ]
  },
  {
   "cell_type": "code",
   "execution_count": 160,
   "metadata": {},
   "outputs": [
    {
     "data": {
      "text/plain": [
       "LinearRegression()"
      ]
     },
     "execution_count": 160,
     "metadata": {},
     "output_type": "execute_result"
    }
   ],
   "source": [
    "# build models\n",
    "\n",
    "lm_29 = LinearRegression()\n",
    "lm_49 = LinearRegression()\n",
    "lm_99 = LinearRegression()\n",
    "\n",
    "# fit models\n",
    "lm_29.fit(df_model.iloc[:,:3], np.log(df_model['29_rate']))\n",
    "lm_49.fit(df_model.iloc[:,:3], np.log(df_model['49_rate']))\n",
    "lm_99.fit(df_model.iloc[:,:3], np.log(df_model['99_rate']))"
   ]
  },
  {
   "cell_type": "code",
   "execution_count": 161,
   "metadata": {},
   "outputs": [],
   "source": [
    "# make prediction\n",
    "df_model_new['29_rate_pred'] = np.exp(lm_29.predict(df_model_new.iloc[:,:3]))\n",
    "df_model_new['49_rate_pred'] = np.exp(lm_49.predict(df_model_new.iloc[:,:3]))\n",
    "df_model_new['99_rate_pred'] = np.exp(lm_99.predict(df_model_new.iloc[:,:3]))"
   ]
  },
  {
   "cell_type": "code",
   "execution_count": 162,
   "metadata": {
    "scrolled": true
   },
   "outputs": [
    {
     "data": {
      "text/html": [
       "<div>\n",
       "<style scoped>\n",
       "    .dataframe tbody tr th:only-of-type {\n",
       "        vertical-align: middle;\n",
       "    }\n",
       "\n",
       "    .dataframe tbody tr th {\n",
       "        vertical-align: top;\n",
       "    }\n",
       "\n",
       "    .dataframe thead th {\n",
       "        text-align: right;\n",
       "    }\n",
       "</style>\n",
       "<table border=\"1\" class=\"dataframe\">\n",
       "  <thead>\n",
       "    <tr style=\"text-align: right;\">\n",
       "      <th></th>\n",
       "      <th>cycles</th>\n",
       "      <th>cycles_log</th>\n",
       "      <th>cycles_square</th>\n",
       "      <th>29_rate_pred</th>\n",
       "      <th>49_rate_pred</th>\n",
       "      <th>99_rate_pred</th>\n",
       "    </tr>\n",
       "  </thead>\n",
       "  <tbody>\n",
       "    <tr>\n",
       "      <th>0</th>\n",
       "      <td>9</td>\n",
       "      <td>2.197225</td>\n",
       "      <td>81</td>\n",
       "      <td>0.217726</td>\n",
       "      <td>0.042412</td>\n",
       "      <td>0.011960</td>\n",
       "    </tr>\n",
       "    <tr>\n",
       "      <th>1</th>\n",
       "      <td>10</td>\n",
       "      <td>2.302585</td>\n",
       "      <td>100</td>\n",
       "      <td>0.202786</td>\n",
       "      <td>0.037674</td>\n",
       "      <td>0.009529</td>\n",
       "    </tr>\n",
       "    <tr>\n",
       "      <th>2</th>\n",
       "      <td>11</td>\n",
       "      <td>2.397895</td>\n",
       "      <td>121</td>\n",
       "      <td>0.190026</td>\n",
       "      <td>0.034361</td>\n",
       "      <td>0.007414</td>\n",
       "    </tr>\n",
       "    <tr>\n",
       "      <th>3</th>\n",
       "      <td>12</td>\n",
       "      <td>2.484907</td>\n",
       "      <td>144</td>\n",
       "      <td>0.178925</td>\n",
       "      <td>0.032107</td>\n",
       "      <td>0.005599</td>\n",
       "    </tr>\n",
       "  </tbody>\n",
       "</table>\n",
       "</div>"
      ],
      "text/plain": [
       "   cycles  cycles_log  cycles_square  29_rate_pred  49_rate_pred  99_rate_pred\n",
       "0       9    2.197225             81      0.217726      0.042412      0.011960\n",
       "1      10    2.302585            100      0.202786      0.037674      0.009529\n",
       "2      11    2.397895            121      0.190026      0.034361      0.007414\n",
       "3      12    2.484907            144      0.178925      0.032107      0.005599"
      ]
     },
     "execution_count": 162,
     "metadata": {},
     "output_type": "execute_result"
    }
   ],
   "source": [
    "df_model_new"
   ]
  },
  {
   "cell_type": "code",
   "execution_count": 163,
   "metadata": {},
   "outputs": [
    {
     "name": "stdout",
     "output_type": "stream",
     "text": [
      "The percentage of users is still subscribed after at least 12 months in $29 month cost:  17.9 %\n",
      "The percentage of users is still subscribed after at least 12 months in $49 month cost:  3.2 %\n",
      "The percentage of users is still subscribed after at least 12 months in $99 month cost:  0.6 %\n"
     ]
    }
   ],
   "source": [
    "print('The percentage of users is still subscribed after at least 12 months in $29 month cost: ', round(df_model_new.loc[3,'29_rate_pred'],3)*100,'%')\n",
    "print('The percentage of users is still subscribed after at least 12 months in $49 month cost: ', round(df_model_new.loc[3,'49_rate_pred'],3)*100,'%')\n",
    "print('The percentage of users is still subscribed after at least 12 months in $99 month cost: ', round(df_model_new.loc[3,'99_rate_pred'],3)*100,'%')"
   ]
  },
  {
   "cell_type": "markdown",
   "metadata": {},
   "source": [
    "## Question03\n",
    "* How do user country and source affect subscription retention rate? How would you use these findings to improve the company revenue?"
   ]
  },
  {
   "cell_type": "markdown",
   "metadata": {},
   "source": [
    "### (1) country"
   ]
  },
  {
   "cell_type": "code",
   "execution_count": 164,
   "metadata": {
    "scrolled": true
   },
   "outputs": [
    {
     "data": {
      "text/html": [
       "<div>\n",
       "<style scoped>\n",
       "    .dataframe tbody tr th:only-of-type {\n",
       "        vertical-align: middle;\n",
       "    }\n",
       "\n",
       "    .dataframe tbody tr th {\n",
       "        vertical-align: top;\n",
       "    }\n",
       "\n",
       "    .dataframe thead th {\n",
       "        text-align: right;\n",
       "    }\n",
       "</style>\n",
       "<table border=\"1\" class=\"dataframe\">\n",
       "  <thead>\n",
       "    <tr style=\"text-align: right;\">\n",
       "      <th></th>\n",
       "      <th>1</th>\n",
       "      <th>2</th>\n",
       "      <th>3</th>\n",
       "      <th>4</th>\n",
       "      <th>5</th>\n",
       "      <th>6</th>\n",
       "      <th>7</th>\n",
       "      <th>8</th>\n",
       "    </tr>\n",
       "    <tr>\n",
       "      <th>country</th>\n",
       "      <th></th>\n",
       "      <th></th>\n",
       "      <th></th>\n",
       "      <th></th>\n",
       "      <th></th>\n",
       "      <th></th>\n",
       "      <th></th>\n",
       "      <th></th>\n",
       "    </tr>\n",
       "  </thead>\n",
       "  <tbody>\n",
       "    <tr>\n",
       "      <th>China</th>\n",
       "      <td>1.0</td>\n",
       "      <td>0.514831</td>\n",
       "      <td>0.402777</td>\n",
       "      <td>0.360426</td>\n",
       "      <td>0.336274</td>\n",
       "      <td>0.319856</td>\n",
       "      <td>0.307084</td>\n",
       "      <td>0.295453</td>\n",
       "    </tr>\n",
       "    <tr>\n",
       "      <th>France</th>\n",
       "      <td>1.0</td>\n",
       "      <td>0.334946</td>\n",
       "      <td>0.177732</td>\n",
       "      <td>0.119004</td>\n",
       "      <td>0.088479</td>\n",
       "      <td>0.069935</td>\n",
       "      <td>0.058341</td>\n",
       "      <td>0.049688</td>\n",
       "    </tr>\n",
       "    <tr>\n",
       "      <th>Germany</th>\n",
       "      <td>1.0</td>\n",
       "      <td>0.451284</td>\n",
       "      <td>0.278411</td>\n",
       "      <td>0.195910</td>\n",
       "      <td>0.146474</td>\n",
       "      <td>0.115151</td>\n",
       "      <td>0.093868</td>\n",
       "      <td>0.078465</td>\n",
       "    </tr>\n",
       "    <tr>\n",
       "      <th>India</th>\n",
       "      <td>1.0</td>\n",
       "      <td>0.446728</td>\n",
       "      <td>0.326962</td>\n",
       "      <td>0.284527</td>\n",
       "      <td>0.261603</td>\n",
       "      <td>0.246736</td>\n",
       "      <td>0.234847</td>\n",
       "      <td>0.225769</td>\n",
       "    </tr>\n",
       "    <tr>\n",
       "      <th>Italy</th>\n",
       "      <td>1.0</td>\n",
       "      <td>0.341684</td>\n",
       "      <td>0.179502</td>\n",
       "      <td>0.119914</td>\n",
       "      <td>0.090015</td>\n",
       "      <td>0.071135</td>\n",
       "      <td>0.057523</td>\n",
       "      <td>0.048695</td>\n",
       "    </tr>\n",
       "    <tr>\n",
       "      <th>Spain</th>\n",
       "      <td>1.0</td>\n",
       "      <td>0.339098</td>\n",
       "      <td>0.178985</td>\n",
       "      <td>0.119879</td>\n",
       "      <td>0.088648</td>\n",
       "      <td>0.070065</td>\n",
       "      <td>0.057617</td>\n",
       "      <td>0.048503</td>\n",
       "    </tr>\n",
       "    <tr>\n",
       "      <th>UK</th>\n",
       "      <td>1.0</td>\n",
       "      <td>0.458938</td>\n",
       "      <td>0.285133</td>\n",
       "      <td>0.198067</td>\n",
       "      <td>0.149421</td>\n",
       "      <td>0.117356</td>\n",
       "      <td>0.095735</td>\n",
       "      <td>0.079494</td>\n",
       "    </tr>\n",
       "    <tr>\n",
       "      <th>US</th>\n",
       "      <td>1.0</td>\n",
       "      <td>0.456509</td>\n",
       "      <td>0.284255</td>\n",
       "      <td>0.198853</td>\n",
       "      <td>0.149284</td>\n",
       "      <td>0.117398</td>\n",
       "      <td>0.094875</td>\n",
       "      <td>0.078981</td>\n",
       "    </tr>\n",
       "  </tbody>\n",
       "</table>\n",
       "</div>"
      ],
      "text/plain": [
       "           1         2         3         4         5         6         7  \\\n",
       "country                                                                    \n",
       "China    1.0  0.514831  0.402777  0.360426  0.336274  0.319856  0.307084   \n",
       "France   1.0  0.334946  0.177732  0.119004  0.088479  0.069935  0.058341   \n",
       "Germany  1.0  0.451284  0.278411  0.195910  0.146474  0.115151  0.093868   \n",
       "India    1.0  0.446728  0.326962  0.284527  0.261603  0.246736  0.234847   \n",
       "Italy    1.0  0.341684  0.179502  0.119914  0.090015  0.071135  0.057523   \n",
       "Spain    1.0  0.339098  0.178985  0.119879  0.088648  0.070065  0.057617   \n",
       "UK       1.0  0.458938  0.285133  0.198067  0.149421  0.117356  0.095735   \n",
       "US       1.0  0.456509  0.284255  0.198853  0.149284  0.117398  0.094875   \n",
       "\n",
       "                8  \n",
       "country            \n",
       "China    0.295453  \n",
       "France   0.049688  \n",
       "Germany  0.078465  \n",
       "India    0.225769  \n",
       "Italy    0.048695  \n",
       "Spain    0.048503  \n",
       "UK       0.079494  \n",
       "US       0.078981  "
      ]
     },
     "execution_count": 164,
     "metadata": {},
     "output_type": "execute_result"
    }
   ],
   "source": [
    "# calculate each country's retention rate\n",
    "country_rate = df.groupby('country').apply(retention_rate)\n",
    "country_rate"
   ]
  },
  {
   "cell_type": "code",
   "execution_count": 165,
   "metadata": {},
   "outputs": [
    {
     "data": {
      "image/png": "[encoded data removed]",
      "text/plain": [
       "<Figure size 1008x576 with 1 Axes>"
      ]
     },
     "metadata": {
      "needs_background": "light"
     },
     "output_type": "display_data"
    }
   ],
   "source": [
    "# plot\n",
    "fig, ax = plt.subplots(figsize=(14,8))\n",
    "\n",
    "country_rate.T.plot(kind='line', ax=ax)\n",
    "ax.set_title('Retention Rate vs. Country')\n",
    "ax.set_xlabel('Country')\n",
    "ax.set_ylabel('Retention Rate')\n",
    "ax.grid(True)\n",
    "\n",
    "plt.show()"
   ]
  },
  {
   "cell_type": "markdown",
   "metadata": {},
   "source": [
    "### (2) source"
   ]
  },
  {
   "cell_type": "code",
   "execution_count": 166,
   "metadata": {},
   "outputs": [
    {
     "data": {
      "text/html": [
       "<div>\n",
       "<style scoped>\n",
       "    .dataframe tbody tr th:only-of-type {\n",
       "        vertical-align: middle;\n",
       "    }\n",
       "\n",
       "    .dataframe tbody tr th {\n",
       "        vertical-align: top;\n",
       "    }\n",
       "\n",
       "    .dataframe thead th {\n",
       "        text-align: right;\n",
       "    }\n",
       "</style>\n",
       "<table border=\"1\" class=\"dataframe\">\n",
       "  <thead>\n",
       "    <tr style=\"text-align: right;\">\n",
       "      <th></th>\n",
       "      <th>1</th>\n",
       "      <th>2</th>\n",
       "      <th>3</th>\n",
       "      <th>4</th>\n",
       "      <th>5</th>\n",
       "      <th>6</th>\n",
       "      <th>7</th>\n",
       "      <th>8</th>\n",
       "    </tr>\n",
       "    <tr>\n",
       "      <th>source</th>\n",
       "      <th></th>\n",
       "      <th></th>\n",
       "      <th></th>\n",
       "      <th></th>\n",
       "      <th></th>\n",
       "      <th></th>\n",
       "      <th></th>\n",
       "      <th></th>\n",
       "    </tr>\n",
       "  </thead>\n",
       "  <tbody>\n",
       "    <tr>\n",
       "      <th>ads</th>\n",
       "      <td>1.0</td>\n",
       "      <td>0.388873</td>\n",
       "      <td>0.222094</td>\n",
       "      <td>0.152607</td>\n",
       "      <td>0.114959</td>\n",
       "      <td>0.092043</td>\n",
       "      <td>0.076756</td>\n",
       "      <td>0.066237</td>\n",
       "    </tr>\n",
       "    <tr>\n",
       "      <th>friend_referral</th>\n",
       "      <td>1.0</td>\n",
       "      <td>0.699443</td>\n",
       "      <td>0.617038</td>\n",
       "      <td>0.561282</td>\n",
       "      <td>0.519854</td>\n",
       "      <td>0.487596</td>\n",
       "      <td>0.461110</td>\n",
       "      <td>0.436507</td>\n",
       "    </tr>\n",
       "    <tr>\n",
       "      <th>seo</th>\n",
       "      <td>1.0</td>\n",
       "      <td>0.562395</td>\n",
       "      <td>0.420012</td>\n",
       "      <td>0.337594</td>\n",
       "      <td>0.286254</td>\n",
       "      <td>0.247877</td>\n",
       "      <td>0.218680</td>\n",
       "      <td>0.194475</td>\n",
       "    </tr>\n",
       "  </tbody>\n",
       "</table>\n",
       "</div>"
      ],
      "text/plain": [
       "                   1         2         3         4         5         6  \\\n",
       "source                                                                   \n",
       "ads              1.0  0.388873  0.222094  0.152607  0.114959  0.092043   \n",
       "friend_referral  1.0  0.699443  0.617038  0.561282  0.519854  0.487596   \n",
       "seo              1.0  0.562395  0.420012  0.337594  0.286254  0.247877   \n",
       "\n",
       "                        7         8  \n",
       "source                               \n",
       "ads              0.076756  0.066237  \n",
       "friend_referral  0.461110  0.436507  \n",
       "seo              0.218680  0.194475  "
      ]
     },
     "execution_count": 166,
     "metadata": {},
     "output_type": "execute_result"
    }
   ],
   "source": [
    "# calculate each country's retention rate\n",
    "source_rate = df.groupby('source').apply(retention_rate)\n",
    "source_rate"
   ]
  },
  {
   "cell_type": "code",
   "execution_count": 167,
   "metadata": {},
   "outputs": [
    {
     "data": {
      "image/png": "[encoded data removed]",
      "text/plain": [
       "<Figure size 1008x576 with 1 Axes>"
      ]
     },
     "metadata": {
      "needs_background": "light"
     },
     "output_type": "display_data"
    }
   ],
   "source": [
    "# plot\n",
    "fig, ax = plt.subplots(figsize=(14,8))\n",
    "\n",
    "source_rate.T.plot(kind='line', ax=ax)\n",
    "ax.set_title('Retention Rate vs. Source')\n",
    "ax.set_xlabel('Source')\n",
    "ax.set_ylabel('Retention Rate')\n",
    "ax.grid(True)\n",
    "\n",
    "plt.show()"
   ]
  },
  {
   "cell_type": "markdown",
   "metadata": {},
   "source": [
    "* **China** and **India** have higher retention rate. Due to the large population of both countries, our marketing team should increase the exposure of our products, more advertising and promotional activities\n",
    "* **France**, **Italy**, and **Spain** have very low retention rate, we should try to figure out the reasons. Maybe there is a very strong competitor in these three countries because their location are very close.\n",
    "* For source, if the users start subscribing our services by **friend referral**, their retention rate is very high. Therefore, we should send some recommended Discount coupons to old users, encouraging them to bring more friends to our sit to subscribe our services."
   ]
  },
  {
   "cell_type": "code",
   "execution_count": null,
   "metadata": {},
   "outputs": [],
   "source": []
  }
 ],
 "metadata": {
  "kernelspec": {
   "display_name": "Python 3",
   "language": "python",
   "name": "python3"
  },
  "language_info": {
   "codemirror_mode": {
    "name": "ipython",
    "version": 3
   },
   "file_extension": ".py",
   "mimetype": "text/x-python",
   "name": "python",
   "nbconvert_exporter": "python",
   "pygments_lexer": "ipython3",
   "version": "3.8.5"
  }
 },
 "nbformat": 4,
 "nbformat_minor": 4
}
