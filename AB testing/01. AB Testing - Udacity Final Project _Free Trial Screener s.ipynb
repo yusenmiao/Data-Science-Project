{
 "cells": [
  {
   "cell_type": "markdown",
   "metadata": {},
   "source": [
    "## Experiment Overview: Free Trial Screener\n",
    "  At the time of this experiment, Udacity courses currently have two options on the course overview page: \"start free trial\", and \"access course materials\". If the student clicks \"start free trial\", they will be asked to enter their credit card information, and then they will be enrolled in a free trial for the paid version of the course. After 14 days, they will automatically be charged unless they cancel first. If the student clicks \"access course materials\", they will be able to view the videos and take the quizzes for free, but they will not receive coaching support or a verified certificate, and they will not submit their final project for feedback.\n",
    "  \n",
    "  In the experiment, Udacity tested a change where if the student clicked \"start free trial\", they were asked how much time they had available to devote to the course. If the student indicated 5 or more hours per week, they would be taken through the checkout process as usual. If they indicated fewer than 5 hours per week, a message would appear indicating that Udacity courses usually require a greater time commitment for successful completion, and suggesting that the student might like to access the course materials for free. At this point, the student would have the option to continue enrolling in the free trial, or access the course materials for free instead. This screenshot shows what the experiment looks like.\n",
    "\n",
    "The hypothesis was that this might set clearer expectations for students upfront, thus reducing the number of frustrated students who left the free trial because they didn't have enough time—without significantly reducing the number of students to continue past the free trial and eventually complete the course. If this hypothesis held true, Udacity could improve the overall student experience and improve coaches' capacity to support students who are likely to complete the course.\n",
    "\n",
    "The unit of diversion is a cookie, although if the student enrolls in the free trial, they are tracked by user-id from that point forward. The same user-id cannot enroll in the free trial twice. For users that do not enroll, their user-id is not tracked in the experiment, even if they were signed in when they visited the course overview page.\n",
    "\n",
    "* The Free Trial Screener image: https://drive.google.com/file/d/0ByAfiG8HpNUMakVrS0s4cGN2TjQ/view?resourcekey=0-6_dPu8BRM1XlRgV51nIbtA\n",
    "* Final Project Baseline Values: https://docs.google.com/spreadsheets/d/1MYNUtC47Pg8hdoCjOXaHqF-thheGpUshrFA21BAJnNc/edit#gid=0\n",
    "* Final Project Results: https://docs.google.com/spreadsheets/d/1Mu5u9GrybDdska-ljPXyBjTpdZIUev_6i7t4LRDfXM8/edit#gid=0\n"
   ]
  },
  {
   "cell_type": "markdown",
   "metadata": {},
   "source": [
    "# 1. Metric Choice (invariant metric and evaluation metric)"
   ]
  },
  {
   "cell_type": "markdown",
   "metadata": {},
   "source": [
    "Which of the following metrics would you choose to measure for this experiment and why? For each metric you choose, \n",
    "indicate whether you would use it as an invariant metric or an evaluation metric. The practical significance boundary \n",
    "for each metric, that is, the difference that would have to be observed before that was a meaningful change for the business, \n",
    "is given in parentheses. All practical significance boundaries are given as absolute changes.\n",
    "\n",
    "\n",
    "Any place \"unique cookies\" are mentioned, the uniqueness is determined by day. (That is, the same cookie visiting on \n",
    "different days would be counted twice.) User-ids are automatically unique since the site does not allow the same user-id \n",
    "to enroll twice.\n",
    "\n",
    "* Number of cookies: That is, number of unique cookies to view the course overview page. (dmin=3000)\n",
    "* Number of user-ids: That is, number of users who enroll in the free trial. (dmin=50)\n",
    "* Number of clicks: That is, number of unique cookies to click the \"Start free trial\" button (which happens \n",
    "    before the free trial screener is trigger). (dmin=240)\n",
    "* Click-through-probability: That is, number of unique cookies to click the \"Start free trial\" button divided\n",
    "    by number of unique cookies to view the course overview page. (dmin=0.01) (click free/ all people in that website)\n",
    "* Gross conversion: That is, number of user-ids to complete checkout and enroll in the free trial divided by number \n",
    "    of unique cookies to click the \"Start free trial\" button. (dmin=0.01) (enroll / click free)\n",
    "* Retention: That is, number of user-ids to remain enrolled past the 14-day boundary (and thus make at least one payment)\n",
    "    divided by number of user-ids to complete checkout. (dmin=0.01) (paid users / enroll)\n",
    "* Net conversion: That is, number of user-ids to remain enrolled past the 14-day boundary (and thus make at least one payment)\n",
    "    divided by the number of unique cookies to click the \"Start free trial\" button. (dmin=0.0075) (paid users / click free)\n",
    "    \n",
    "    \n",
    "You should also decide now what results you will be looking for in order to launch the experiment. Would a change in any one \n",
    "of your evaluation metrics be sufficient? Would you want to see multiple metrics all move or not move at the same time in order\n",
    "to launch? This decision will inform your choices while designing the experiment."
   ]
  },
  {
   "cell_type": "markdown",
   "metadata": {},
   "source": [
    "## Answer:\n",
    "* Invariant Metrics: number of cookies, number of clicks, click-through-probability.\n",
    "* Evaluation Metrics: gross conversion, retention, net conversion."
   ]
  },
  {
   "cell_type": "markdown",
   "metadata": {},
   "source": [
    "#  2. Standard Deviation -- Measure Variability"
   ]
  },
  {
   "cell_type": "code",
   "execution_count": 15,
   "metadata": {},
   "outputs": [],
   "source": [
    "import math\n",
    "\n",
    "n_pageviews = 40000\n",
    "n_clicks = 3200\n",
    "n_enroll = 660\n",
    "ctp = 0.08 # n_clicks / n_pageviews\n",
    "\n",
    "gross_conversion = 0.20625   # n_enroll/n_clicks\n",
    "retention = 0.53   # payment/n_enroll\n",
    "net_conversion = 0.1093125 # payment/n_clicks\n",
    "\n",
    "n_samples = 5000"
   ]
  },
  {
   "cell_type": "code",
   "execution_count": 16,
   "metadata": {},
   "outputs": [
    {
     "name": "stdout",
     "output_type": "stream",
     "text": [
      "SD of gross conversion:  0.0202\n",
      "SD of Retention:  0.0549\n",
      "SD of net conversion:  0.0156\n"
     ]
    }
   ],
   "source": [
    "# standard deviation\n",
    "# gross_conversion\n",
    "std_gross_conversion = math.sqrt(gross_conversion*(1-gross_conversion)/(ctp*n_samples))\n",
    "# retention\n",
    "std_retention = math.sqrt(retention*(1-retention)/(n_enroll/n_pageviews*n_samples))\n",
    "# net_conversion\n",
    "std_net_conversion = math.sqrt(net_conversion*(1-net_conversion)/(ctp*n_samples))\n",
    "\n",
    "print('SD of gross conversion: ', round(std_gross_conversion,4))\n",
    "print('SD of Retention: ', round(std_retention,4))\n",
    "print('SD of net conversion: ', round(std_net_conversion,4))"
   ]
  },
  {
   "cell_type": "markdown",
   "metadata": {},
   "source": [
    "# 3. Sample size "
   ]
  },
  {
   "cell_type": "code",
   "execution_count": 17,
   "metadata": {},
   "outputs": [],
   "source": [
    "import scipy.stats as stats\n",
    "\n",
    "def min_sample_size(bcr, mde, power=0.8, sig_level=0.05):\n",
    "    \"\"\"Returns the minimum sample size to set up a split test\n",
    "    Arguments:\n",
    "        1. bcr (float): probability of success for control, sometimes referred to as baseline conversion rate\n",
    "        2. mde (float): minimum change in measurement between control group and test group\n",
    "                       if alternative hypothesis is true, sometimes referred to as minimum detectable effect\n",
    "        3. power (float): probability of rejecting the null hypothesis when the null hypothesis is false, typically 0.8\n",
    "        4. sig_level (float): significance level often denoted as alpha, typically 0.05\n",
    "    Returns:\n",
    "        min_N: minimum sample size (float)\n",
    "    References:\n",
    "        Stanford lecture on sample sizes\n",
    "        http://statweb.stanford.edu/~susan/courses/s141/hopower.pdf\n",
    "    \"\"\"\n",
    "    # standard normal distribution to determine z-values\n",
    "    standard_norm = stats.norm(0, 1)\n",
    "\n",
    "    # find Z_beta from desired power\n",
    "    Z_beta = standard_norm.ppf(power)\n",
    "\n",
    "    # find Z_alpha\n",
    "    Z_alpha = standard_norm.ppf(1-sig_level/2)\n",
    "\n",
    "    # average of probabilities from both groups\n",
    "    pooled_prob = (bcr + bcr + mde) / 2\n",
    "    \n",
    "    ## the formula for Sample Size\n",
    "    min_N = (2 * pooled_prob * (1 - pooled_prob) * (Z_beta + Z_alpha)**2\n",
    "             / mde**2)\n",
    "\n",
    "    return min_N"
   ]
  },
  {
   "cell_type": "code",
   "execution_count": 18,
   "metadata": {
    "scrolled": true
   },
   "outputs": [
    {
     "name": "stdout",
     "output_type": "stream",
     "text": [
      "number of clicks needed for gross_conversion: 52312\n",
      "number of pageviews needed for gross_conversion: 653903\n"
     ]
    }
   ],
   "source": [
    "# Gross Conversion sample size\n",
    "# sample size of one group\n",
    "one_group_sample_size_gross_conversion = min_sample_size(bcr=gross_conversion, mde=0.01)\n",
    "# sample size of two groups\n",
    "two_group_sample_size_gross_conversion = one_group_sample_size_gross_conversion*2\n",
    "# the number of pageviews required: sample size of two groups / Click Through Probability\n",
    "number_Pageviews_Required_gross_conversion = two_group_sample_size_gross_conversion / ctp\n",
    "\n",
    "print(\"number of clicks needed for gross_conversion:\",int(two_group_sample_size_gross_conversion))\n",
    "print(\"number of pageviews needed for gross_conversion:\",int(number_Pageviews_Required_gross_conversion))"
   ]
  },
  {
   "cell_type": "code",
   "execution_count": 19,
   "metadata": {},
   "outputs": [
    {
     "name": "stdout",
     "output_type": "stream",
     "text": [
      "number of clicks needed for retention: 78104\n",
      "number of pageviews needed for retention: 4733588\n"
     ]
    }
   ],
   "source": [
    "# Retention sample size\n",
    "\n",
    "# sample size of one group\n",
    "one_group_sample_size_retention = min_sample_size(bcr=retention, mde=0.01)\n",
    "# sample size of two groups\n",
    "two_group_sample_size_retention = one_group_sample_size_retention*2\n",
    "\n",
    "# the number of pageviews required: sample size of two groups / (enrollments/pageview)\n",
    "enroll_rate = n_enroll / n_pageviews\n",
    "number_Pageviews_Required_retention = two_group_sample_size_retention / enroll_rate\n",
    "\n",
    "print(\"number of clicks needed for retention:\",int(two_group_sample_size_retention))\n",
    "print(\"number of pageviews needed for retention:\",int(number_Pageviews_Required_retention))"
   ]
  },
  {
   "cell_type": "code",
   "execution_count": 20,
   "metadata": {
    "scrolled": true
   },
   "outputs": [
    {
     "name": "stdout",
     "output_type": "stream",
     "text": [
      "number of clicks needed for gross_conversion: 55970\n",
      "number of pageviews needed for gross_conversion: 699627\n"
     ]
    }
   ],
   "source": [
    "# Net conversion sample size\n",
    "\n",
    "# sample size of one group\n",
    "one_group_sample_size_net_conversion = min_sample_size(bcr=net_conversion, mde=0.0075)\n",
    "# sample size of two groups\n",
    "two_group_sample_size_net_conversion = one_group_sample_size_net_conversion*2\n",
    "\n",
    "# the number of pageviews required: sample size of two groups / Click Through Probability\n",
    "\n",
    "number_Pageviews_Required_net_conversion = two_group_sample_size_net_conversion / ctp\n",
    "\n",
    "print(\"number of clicks needed for gross_conversion:\",int(two_group_sample_size_net_conversion))\n",
    "print(\"number of pageviews needed for gross_conversion:\",int(number_Pageviews_Required_net_conversion))"
   ]
  },
  {
   "cell_type": "markdown",
   "metadata": {},
   "source": [
    "# 4. Duration and Exposure"
   ]
  },
  {
   "cell_type": "markdown",
   "metadata": {},
   "source": [
    " If we divert 100% of traffic, given 40,000 page views per day, the experiment would take ~ 119 days. If we eliminate retention, we are left with Gross Conversion and Net Conversion. This reduces the number of required pageviews to 699,627, and an ~ 18 day experiment with 100% diversion and ~ 35 days given 50% diversion.\n",
    "\n",
    " A 119 day experiment with 100% diversion of traffic presents both a business risk (potential for: frustrated students, \n",
    "lower conversion and retention, and inefficient use of coaching resources) and an opportunity risk (performing other \n",
    "experiments). However, in general, this is not a risky experiment as the change would not be expected to cause a precipitous\n",
    "drop in enrollment. In terms of timing, an 18 day experiment is more reasonable, but % diversion may be scaled down depending\n",
    "on other experiments of interest to be performed concurrently."
   ]
  },
  {
   "cell_type": "code",
   "execution_count": 21,
   "metadata": {
    "scrolled": true
   },
   "outputs": [
    {
     "name": "stdout",
     "output_type": "stream",
     "text": [
      "When fraction of traffic: 100.0%        \n",
      "Duration: 17 days\n"
     ]
    }
   ],
   "source": [
    "fraction_of_traffic=1\n",
    "duration=699627/(n_pageviews*fraction_of_traffic)\n",
    "print(f'When fraction of traffic: {float(fraction_of_traffic)*100}%\\\n",
    "        \\nDuration: {int(duration)} days')"
   ]
  },
  {
   "cell_type": "code",
   "execution_count": 22,
   "metadata": {},
   "outputs": [
    {
     "name": "stdout",
     "output_type": "stream",
     "text": [
      "When fraction of traffic: 50.0%        \n",
      "Duration: 34 days\n"
     ]
    }
   ],
   "source": [
    "fraction_of_traffic=0.5\n",
    "duration=699627/(n_pageviews*fraction_of_traffic)\n",
    "print(f'When fraction of traffic: {float(fraction_of_traffic)*100}%\\\n",
    "        \\nDuration: {int(duration)} days')"
   ]
  },
  {
   "cell_type": "markdown",
   "metadata": {},
   "source": [
    "# 5. Sanity Check\n",
    "* We check Invariant Metrics: number of cookies(pageview), number of clicks. For invariant metrics we expect equal diversion into the experiment and control group.. We will test this at the 95% confidence interval."
   ]
  },
  {
   "cell_type": "code",
   "execution_count": 23,
   "metadata": {},
   "outputs": [],
   "source": [
    "dates=['Sat, Oct 11', 'Sun, Oct 12', 'Mon, Oct 13', 'Tue, Oct 14',\n",
    "       'Wed, Oct 15', 'Thu, Oct 16', 'Fri, Oct 17', 'Sat, Oct 18',\n",
    "       'Sun, Oct 19', 'Mon, Oct 20', 'Tue, Oct 21', 'Wed, Oct 22',\n",
    "       'Thu, Oct 23', 'Fri, Oct 24', 'Sat, Oct 25', 'Sun, Oct 26',\n",
    "       'Mon, Oct 27', 'Tue, Oct 28', 'Wed, Oct 29', 'Thu, Oct 30',\n",
    "       'Fri, Oct 31', 'Sat, Nov 1', 'Sun, Nov 2', 'Mon, Nov 3',\n",
    "       'Tue, Nov 4', 'Wed, Nov 5', 'Thu, Nov 6', 'Fri, Nov 7',\n",
    "       'Sat, Nov 8', 'Sun, Nov 9', 'Mon, Nov 10', 'Tue, Nov 11',\n",
    "       'Wed, Nov 12', 'Thu, Nov 13', 'Fri, Nov 14', 'Sat, Nov 15',\n",
    "       'Sun, Nov 16']\n",
    "pageviews_cont=[ 7723,  9102, 10511,  9871, 10014,  9670,  9008,  7434,  8459,\n",
    "       10667, 10660,  9947,  8324,  9434,  8687,  8896,  9535,  9363,\n",
    "        9327,  9345,  8890,  8460,  8836,  9437,  9420,  9570,  9921,\n",
    "        9424,  9010,  9656, 10419,  9880, 10134,  9717,  9192,  8630,\n",
    "        8970]\n",
    "pageviews_exp=[ 7716,  9288, 10480,  9867,  9793,  9500,  9088,  7664,  8434,\n",
    "       10496, 10551,  9737,  8176,  9402,  8669,  8881,  9655,  9396,\n",
    "        9262,  9308,  8715,  8448,  8836,  9359,  9427,  9633,  9842,\n",
    "        9272,  8969,  9697, 10445,  9931, 10042,  9721,  9304,  8668,\n",
    "        8988]\n",
    "clicks_cont=[687, 779, 909, 836, 837, 823, 748, 632, 691, 861, 867, 838, 665,\n",
    "       673, 691, 708, 759, 736, 739, 734, 706, 681, 693, 788, 781, 805,\n",
    "       830, 781, 756, 825, 874, 830, 801, 814, 735, 743, 722]\n",
    "clicks_exp=[686, 785, 884, 827, 832, 788, 780, 652, 697, 860, 864, 801, 642,\n",
    "       697, 669, 693, 771, 736, 727, 728, 722, 695, 724, 789, 743, 808,\n",
    "       831, 767, 760, 850, 851, 831, 802, 829, 770, 724, 710]\n",
    "enrolls_cont=[134, 147, 167, 156, 163, 138, 146, 110, 131, 165, 196, 162, 127,\n",
    "       220, 176, 161, 233, 154, 196, 167, 174, 156, 206]\n",
    "enrolls_exp=[105, 116, 145, 138, 140, 129, 127,  94, 120, 153, 143, 128, 122,\n",
    "       194, 127, 153, 213, 162, 201, 207, 182, 142, 182]\n",
    "payment_cont=[ 70,  70,  95, 105,  64,  82,  76,  70,  60,  97, 105,  92,  56,\n",
    "       122, 128, 104, 124,  91,  86,  75, 101,  93,  67]\n",
    "payment_exp=[ 34,  91,  79,  92,  94,  61,  44,  62,  77,  98,  71,  70,  68,\n",
    "        94,  81, 101, 119, 120,  96,  67, 123, 100, 103]"
   ]
  },
  {
   "cell_type": "code",
   "execution_count": 24,
   "metadata": {},
   "outputs": [],
   "source": [
    "ctp_cont=[i/j for i,j in zip(clicks_cont,pageviews_cont)]\n",
    "ctp_exp=[i/j for i,j in zip(clicks_exp,pageviews_exp)]"
   ]
  },
  {
   "cell_type": "code",
   "execution_count": 25,
   "metadata": {
    "scrolled": true
   },
   "outputs": [
    {
     "name": "stdout",
     "output_type": "stream",
     "text": [
      "page view lower boundary:  0.4988\n",
      "page view higher boundary:  0.5012\n",
      "page view Observed:  0.5006\n",
      "Pass!\n"
     ]
    }
   ],
   "source": [
    "#number of cookies(pageview)\n",
    "sum_pageview_cont = sum(pageviews_cont)\n",
    "sum_pageview_exp = sum(pageviews_exp)\n",
    "\n",
    "pageview_SD = math.sqrt(0.5*0.5/(sum_pageview_cont+sum_pageview_exp))\n",
    "margin = 1.96*pageview_SD\n",
    "\n",
    "pageview_low = 0.5 - margin\n",
    "pageview_high = 0.5+ margin\n",
    "pageview_observed =sum_pageview_cont/(sum_pageview_cont+sum_pageview_exp)\n",
    "\n",
    "print('page view lower boundary: ', round(pageview_low,4))\n",
    "print('page view higher boundary: ', round(pageview_high,4))\n",
    "print('page view Observed: ', round(pageview_observed,4))\n",
    "if ((pageview_observed >= pageview_low) & (pageview_observed <= pageview_high)):\n",
    "    print(f'Pass!')\n",
    "else:\n",
    "    print(f'No Pass!')    "
   ]
  },
  {
   "cell_type": "code",
   "execution_count": 26,
   "metadata": {},
   "outputs": [
    {
     "name": "stdout",
     "output_type": "stream",
     "text": [
      "clicks lower boundary:  0.4959\n",
      "clicks higher boundary:  0.5041\n",
      "clicks Observed:  0.5005\n",
      "Pass!\n"
     ]
    }
   ],
   "source": [
    "#number of clicks\n",
    "sum_clicks_cont = sum(clicks_cont)\n",
    "sum_clicks_exp = sum(clicks_exp)\n",
    "\n",
    "clicks_SD = math.sqrt(0.5*0.5/(sum_clicks_cont+sum_clicks_exp))\n",
    "margin = 1.96*clicks_SD\n",
    "\n",
    "clicks_low = 0.5 - margin\n",
    "clicks_high = 0.5+ margin\n",
    "clicks_observed = sum_clicks_cont/(sum_clicks_cont+sum_clicks_exp)\n",
    "\n",
    "\n",
    "print('clicks lower boundary: ', round(clicks_low,4))\n",
    "print('clicks higher boundary: ', round(clicks_high,4))\n",
    "print('clicks Observed: ', round(sum_clicks_cont/(sum_clicks_cont+sum_clicks_exp),4))\n",
    "if ((clicks_observed >= clicks_low) & (clicks_observed <= clicks_high)):\n",
    "    print(f'Pass!')\n",
    "else:\n",
    "    print(f'No Pass!')"
   ]
  },
  {
   "cell_type": "code",
   "execution_count": 27,
   "metadata": {},
   "outputs": [
    {
     "name": "stdout",
     "output_type": "stream",
     "text": [
      "clicks lower boundary:  -0.0013\n",
      "clicks higher boundary:  0.0013\n",
      "clicks Observed:  0.0001\n",
      "Pass!\n"
     ]
    }
   ],
   "source": [
    "#click_through_probability\n",
    "sum_ctp_cont = sum_clicks_cont / sum_pageview_cont\n",
    "sum_ctp_exp = sum_clicks_exp / sum_pageview_exp\n",
    "\n",
    "p_pool = (sum_clicks_cont+sum_clicks_exp) / (sum_pageview_cont+sum_pageview_exp)\n",
    "d = sum_ctp_exp - sum_ctp_cont\n",
    "SE = math.sqrt(p_pool*(1-p_pool)*(1/sum_pageview_cont+1/sum_pageview_exp))\n",
    "m = 1.96*SE\n",
    "\n",
    "ctp_low =  - m\n",
    "ctp_high =  + m\n",
    "\n",
    "print('clicks lower boundary: ', round(ctp_low,4))\n",
    "print('clicks higher boundary: ', round(ctp_high,4))\n",
    "print('clicks Observed: ', round(d,4))\n",
    "if ((d >= ctp_low) & (d <= ctp_high)):\n",
    "    print(f'Pass!')\n",
    "else:\n",
    "    print(f'No Pass!')"
   ]
  },
  {
   "cell_type": "markdown",
   "metadata": {},
   "source": [
    "# 6. Effective Size Test (Analyze result)"
   ]
  },
  {
   "cell_type": "code",
   "execution_count": 28,
   "metadata": {},
   "outputs": [
    {
     "name": "stdout",
     "output_type": "stream",
     "text": [
      "Confidence Interval: [-0.0291,-0.0120]\n",
      "Gross conversion Observed: -0.0206\n",
      "Statistically significant: Yes! CI does not include 0.\n",
      "Practically significant: Yes! CI does not include d_min (0.01) or -d_min (-0.01).\n"
     ]
    }
   ],
   "source": [
    "#gross conversion\n",
    "prctical_b = 0.01\n",
    "\n",
    "n = len(enrolls_exp)\n",
    "\n",
    "sum_enroll_cont = sum(enrolls_cont[:n])\n",
    "sum_enroll_exp = sum(enrolls_exp[:n])\n",
    "sum_clicks_cont = sum(clicks_cont[:n]) \n",
    "sum_clicks_exp = sum(clicks_exp[:n])\n",
    "\n",
    "sum_gc_cont = sum_enroll_cont / sum_clicks_cont\n",
    "sum_gc_exp = sum_enroll_exp / sum_clicks_exp\n",
    "\n",
    "p_pool = (sum_enroll_cont+sum_enroll_exp) / (sum_clicks_cont+sum_clicks_exp)\n",
    "d_hat = sum_gc_exp - sum_gc_cont\n",
    "SE = math.sqrt(p_pool*(1-p_pool)*(1/sum_clicks_cont+1/sum_clicks_exp))\n",
    "m = 1.96*SE\n",
    "\n",
    "low = d_hat - m\n",
    "high = d_hat + m\n",
    "\n",
    "Statist_signifi = (high<0 or low>0)\n",
    "Practic_signifi = ((prctical_b>low and prctical_b<high) or (-prctical_b>low and -prctical_b<high))\n",
    "\n",
    "print(f'Confidence Interval: [{low:.4f},{high:.4f}]')\n",
    "print(f'Gross conversion Observed: {d_hat: .4f}')\n",
    "\n",
    "if (Statist_signifi == True):\n",
    "    print('Statistically significant: Yes! CI does not include 0.')\n",
    "else:\n",
    "    print('Statistically significant: No! CI includes 0.')\n",
    "\n",
    "if (Practic_signifi == False):\n",
    "    print(f'Practically significant: Yes! CI does not include d_min ({prctical_b}) or -d_min ({-prctical_b}).')\n",
    "else:\n",
    "    print(f'Practically significant: No! CI includes d_min ({prctical_b}) or -d_min ({-prctical_b}).')    \n"
   ]
  },
  {
   "cell_type": "code",
   "execution_count": 29,
   "metadata": {},
   "outputs": [
    {
     "name": "stdout",
     "output_type": "stream",
     "text": [
      "Confidence Interval: [0.0081,0.0541]\n",
      "Retention Observed:  0.0311\n",
      "Statistically significant: Yes! CI does not include 0.\n",
      "Practically significant: No! CI includes d_min (0.01) or -d_min (-0.01).\n"
     ]
    }
   ],
   "source": [
    "#retention\n",
    "prctical_b = 0.01\n",
    "\n",
    "\n",
    "sum_pay_cont = sum(payment_cont) \n",
    "sum_pay_exp = sum(payment_exp)\n",
    "sum_enroll_cont = sum(enrolls_cont)\n",
    "sum_enroll_exp = sum(enrolls_exp)\n",
    "\n",
    "sum_gc_cont = sum_pay_cont / sum_enroll_cont\n",
    "sum_gc_exp = sum_pay_exp / sum_enroll_exp\n",
    "\n",
    "p_pool = (sum_pay_cont+sum_pay_exp) / (sum_enroll_cont+sum_enroll_exp)\n",
    "d_hat = sum_gc_exp - sum_gc_cont\n",
    "SE = math.sqrt(p_pool*(1-p_pool)*(1/sum_enroll_cont+1/sum_enroll_exp))\n",
    "m = 1.96*SE\n",
    "\n",
    "low = d_hat - m\n",
    "high = d_hat + m\n",
    "\n",
    "\n",
    "Statist_signifi = (high<0 or low>0)\n",
    "Practic_signifi = ((prctical_b>low and prctical_b<high) or (-prctical_b>low and -prctical_b<high))\n",
    "\n",
    "print(f'Confidence Interval: [{low:.4f},{high:.4f}]')\n",
    "print(f'Retention Observed: {d_hat: .4f}')\n",
    "\n",
    "if (Statist_signifi == True):\n",
    "    print('Statistically significant: Yes! CI does not include 0.')\n",
    "else:\n",
    "    print('Statistically significant: No! CI includes 0.')\n",
    "\n",
    "if (Practic_signifi == False):\n",
    "    print(f'Practically significant: Yes! CI does not include d_min ({prctical_b}) or -d_min ({-prctical_b}).')\n",
    "else:\n",
    "    print(f'Practically significant: No! CI includes d_min ({prctical_b}) or -d_min ({-prctical_b}).')   \n"
   ]
  },
  {
   "cell_type": "code",
   "execution_count": 30,
   "metadata": {},
   "outputs": [
    {
     "name": "stdout",
     "output_type": "stream",
     "text": [
      "Confidence Interval: [-0.0116,0.0019]\n",
      "Net Conversion Observed: -0.0049\n",
      "Statistically significant: No! CI includes 0.\n",
      "Practically significant: No! CI includes d_min (0.0075) or -d_min (-0.0075).\n"
     ]
    }
   ],
   "source": [
    "#net conversion\n",
    "prctical_b = 0.0075\n",
    "\n",
    "n = len(enrolls_exp)\n",
    "\n",
    "sum_payment_cont = sum(payment_cont[:n])\n",
    "sum_payment_exp = sum(payment_exp[:n])\n",
    "sum_clicks_cont = sum(clicks_cont[:n]) \n",
    "sum_clicks_exp = sum(clicks_exp[:n])\n",
    "\n",
    "sum_gc_cont = sum_payment_cont / sum_clicks_cont\n",
    "sum_gc_exp = sum_payment_exp / sum_clicks_exp\n",
    "\n",
    "p_pool = (sum_payment_cont+sum_payment_exp) / (sum_clicks_cont+sum_clicks_exp)\n",
    "d_hat = sum_gc_exp - sum_gc_cont\n",
    "SE = math.sqrt(p_pool*(1-p_pool)*(1/sum_clicks_cont+1/sum_clicks_exp))\n",
    "m = 1.96*SE\n",
    "\n",
    "low = d_hat - m\n",
    "high = d_hat + m\n",
    "\n",
    "Statist_signifi = (high<0 or low>0)\n",
    "Practic_signifi = ((prctical_b>low and prctical_b<high) or (-prctical_b>low and -prctical_b<high))\n",
    "\n",
    "print(f'Confidence Interval: [{low:.4f},{high:.4f}]')\n",
    "print(f'Net Conversion Observed: {d_hat: .4f}')\n",
    "\n",
    "if (Statist_signifi == True):\n",
    "    print('Statistically significant: Yes! CI does not include 0.')\n",
    "else:\n",
    "    print('Statistically significant: No! CI includes 0.')\n",
    "\n",
    "if (Practic_signifi == False):\n",
    "    print(f'Practically significant: Yes! CI does not include d_min ({prctical_b}) or -d_min ({-prctical_b}).')\n",
    "else:\n",
    "    print(f'Practically significant: No! CI includes d_min ({prctical_b}) or -d_min ({-prctical_b}).')   "
   ]
  },
  {
   "cell_type": "markdown",
   "metadata": {},
   "source": [
    "# 7. Sign Tests"
   ]
  },
  {
   "cell_type": "code",
   "execution_count": 31,
   "metadata": {},
   "outputs": [
    {
     "name": "stdout",
     "output_type": "stream",
     "text": [
      "P-value:  0.0026\n",
      "Statistically Significant:  True\n"
     ]
    }
   ],
   "source": [
    "from scipy.stats import binom_test\n",
    "# gross conversion\n",
    "alpha = 0.05\n",
    "beta = 0.2\n",
    "\n",
    "gc_exp = [i/j for i,j in zip(enrolls_exp,clicks_exp)]\n",
    "gc_cont = [i/j for i,j in zip(enrolls_cont,clicks_cont)]\n",
    "succ = sum([i>j for i,j in zip(gc_exp,gc_cont)])\n",
    "days = len(gc_exp)\n",
    "\n",
    "# The prob of the gross conversion in experiment group > the gross conversion in control group is 0.5\n",
    "p_value = round(binom_test(succ,n=days, p=0.5),4)\n",
    "print('P-value: ',p_value)\n",
    "print('Statistically Significant: ', p_value<alpha)"
   ]
  },
  {
   "cell_type": "code",
   "execution_count": 32,
   "metadata": {},
   "outputs": [
    {
     "name": "stdout",
     "output_type": "stream",
     "text": [
      "P-value:  0.6776\n",
      "Statistically Significant:  False\n"
     ]
    }
   ],
   "source": [
    "# retention\n",
    "\n",
    "rt_exp = [i/j for i,j in zip(payment_exp,enrolls_exp)]\n",
    "rt_cont = [i/j for i,j in zip(payment_cont,enrolls_cont)]\n",
    "succ = sum([i>j for i,j in zip(rt_exp,rt_cont)])\n",
    "days = len(rt_exp)\n",
    "\n",
    "# The prob of the retention in experiment group > the retention in control group is 0.5\n",
    "p_value = round(binom_test(succ,n=days, p=0.5),4)\n",
    "print('P-value: ',p_value)\n",
    "print('Statistically Significant: ', p_value<alpha)"
   ]
  },
  {
   "cell_type": "code",
   "execution_count": 33,
   "metadata": {},
   "outputs": [
    {
     "name": "stdout",
     "output_type": "stream",
     "text": [
      "P-value:  0.6776\n",
      "Statistically Significant:  False\n"
     ]
    }
   ],
   "source": [
    "# net conversion\n",
    "\n",
    "nc_exp = [i/j for i,j in zip(payment_exp,clicks_exp)]\n",
    "nc_cont = [i/j for i,j in zip(payment_cont,clicks_cont)]\n",
    "succ = sum([i>j for i,j in zip(nc_exp,nc_cont)])\n",
    "days = len(nc_exp)\n",
    "\n",
    "# The prob of the net conversion in experiment group > the net conversion in control group is 0.5\n",
    "p_value = round(binom_test(succ,n=days, p=0.5),4)\n",
    "print('P-value: ',p_value)\n",
    "print('Statistically Significant: ', p_value<alpha)"
   ]
  },
  {
   "cell_type": "markdown",
   "metadata": {},
   "source": [
    "## Recomendation:\n",
    "* In Gross Conversion: a statistically and practically signficant decrease\n",
    "* In Retention: there is no practically significant differences\n",
    "* In Net Conversion: there is no statistically or practicallysignificant differences\n",
    "\n",
    "The result shows us:\n",
    "\n",
    "This \"Free Trial Screener\" decreased number of user-ids to complete checkout and enroll in the free trial.But it didn't increase number of user-ids to remain enrolled past the 14-day boundary (and thus make at least one payment). Therefore, my recomendation is **not to launch**."
   ]
  },
  {
   "cell_type": "markdown",
   "metadata": {},
   "source": [
    "## Conclusion: Not to launch!"
   ]
  }
 ],
 "metadata": {
  "kernelspec": {
   "display_name": "Python 3",
   "language": "python",
   "name": "python3"
  },
  "language_info": {
   "codemirror_mode": {
    "name": "ipython",
    "version": 3
   },
   "file_extension": ".py",
   "mimetype": "text/x-python",
   "name": "python",
   "nbconvert_exporter": "python",
   "pygments_lexer": "ipython3",
   "version": "3.8.5"
  }
 },
 "nbformat": 4,
 "nbformat_minor": 4
}
