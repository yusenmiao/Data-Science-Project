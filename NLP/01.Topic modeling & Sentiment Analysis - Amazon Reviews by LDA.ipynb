{
 "cells": [
  {
   "cell_type": "code",
   "execution_count": 164,
   "metadata": {},
   "outputs": [],
   "source": [
    "import pandas as pd\n",
    "import numpy as np\n",
    "import json\n",
    "import re\n",
    "import gzip\n",
    "import spacy\n",
    "\n",
    "import gensim\n",
    "from gensim import corpora\n",
    "\n",
    "import pyLDAvis\n",
    "import pyLDAvis.gensim\n",
    "import matplotlib.pyplot as plt\n",
    "import seaborn as sns\n",
    "\n",
    "import matplotlib.pyplot as plt\n",
    "\n",
    "from nltk.corpus import stopwords\n",
    "stop_words = stopwords.words('english')\n",
    "\n",
    "import warnings\n",
    "warnings.simplefilter('ignore')"
   ]
  },
  {
   "cell_type": "code",
   "execution_count": 165,
   "metadata": {
    "colab": {},
    "colab_type": "code",
    "id": "k-_gLizownvx"
   },
   "outputs": [],
   "source": [
    "def parse(path):\n",
    "    g = gzip.open(path, 'rb')\n",
    "    for l in g:\n",
    "        yield eval(l)\n",
    "    \n",
    "def getDF(path):\n",
    "    i = 0\n",
    "    df = {}\n",
    "    for d in parse(path):\n",
    "        df[i] = d\n",
    "        i += 1\n",
    "    return pd.DataFrame.from_dict(df, orient='index')"
   ]
  },
  {
   "cell_type": "code",
   "execution_count": 166,
   "metadata": {
    "colab": {
     "base_uri": "https://localhost:8080/",
     "height": 35
    },
    "colab_type": "code",
    "id": "FPle7KMpCVuc",
    "outputId": "0e836477-df77-4f96-8df5-3319afddfb50"
   },
   "outputs": [
    {
     "data": {
      "text/plain": [
       "(278677, 9)"
      ]
     },
     "execution_count": 166,
     "metadata": {},
     "output_type": "execute_result"
    }
   ],
   "source": [
    "df = getDF('reviews_Clothing_Shoes_and_Jewelry_5.json.gz')\n",
    "df.shape"
   ]
  },
  {
   "cell_type": "code",
   "execution_count": 167,
   "metadata": {
    "colab": {
     "base_uri": "https://localhost:8080/",
     "height": 459
    },
    "colab_type": "code",
    "id": "17zMP_rlEnCo",
    "outputId": "7f4dcd45-133b-49a5-b5fe-7f85e8d741b6",
    "scrolled": true
   },
   "outputs": [
    {
     "data": {
      "text/html": [
       "<div>\n",
       "<style scoped>\n",
       "    .dataframe tbody tr th:only-of-type {\n",
       "        vertical-align: middle;\n",
       "    }\n",
       "\n",
       "    .dataframe tbody tr th {\n",
       "        vertical-align: top;\n",
       "    }\n",
       "\n",
       "    .dataframe thead th {\n",
       "        text-align: right;\n",
       "    }\n",
       "</style>\n",
       "<table border=\"1\" class=\"dataframe\">\n",
       "  <thead>\n",
       "    <tr style=\"text-align: right;\">\n",
       "      <th></th>\n",
       "      <th>reviewerID</th>\n",
       "      <th>asin</th>\n",
       "      <th>reviewerName</th>\n",
       "      <th>helpful</th>\n",
       "      <th>reviewText</th>\n",
       "      <th>overall</th>\n",
       "      <th>summary</th>\n",
       "      <th>unixReviewTime</th>\n",
       "      <th>reviewTime</th>\n",
       "    </tr>\n",
       "  </thead>\n",
       "  <tbody>\n",
       "    <tr>\n",
       "      <th>0</th>\n",
       "      <td>A1KLRMWW2FWPL4</td>\n",
       "      <td>0000031887</td>\n",
       "      <td>Amazon Customer \"cameramom\"</td>\n",
       "      <td>[0, 0]</td>\n",
       "      <td>This is a great tutu and at a really great price. It doesn't look cheap at all. I'm so glad I looked on Amazon and found such an affordable tutu that isn't made poorly. A++</td>\n",
       "      <td>5.0</td>\n",
       "      <td>Great tutu-  not cheaply made</td>\n",
       "      <td>1297468800</td>\n",
       "      <td>02 12, 2011</td>\n",
       "    </tr>\n",
       "    <tr>\n",
       "      <th>1</th>\n",
       "      <td>A2G5TCU2WDFZ65</td>\n",
       "      <td>0000031887</td>\n",
       "      <td>Amazon Customer</td>\n",
       "      <td>[0, 0]</td>\n",
       "      <td>I bought this for my 4 yr old daughter for dance class, she wore it today for the first time and the teacher thought it was adorable. I bought this to go with a light blue long sleeve leotard and ...</td>\n",
       "      <td>5.0</td>\n",
       "      <td>Very Cute!!</td>\n",
       "      <td>1358553600</td>\n",
       "      <td>01 19, 2013</td>\n",
       "    </tr>\n",
       "    <tr>\n",
       "      <th>2</th>\n",
       "      <td>A1RLQXYNCMWRWN</td>\n",
       "      <td>0000031887</td>\n",
       "      <td>Carola</td>\n",
       "      <td>[0, 0]</td>\n",
       "      <td>What can I say... my daughters have it in orange, black, white and pink and I am thinking to buy for they the fuccia one. It is a very good way for exalt a dancer outfit: great colors, comfortable...</td>\n",
       "      <td>5.0</td>\n",
       "      <td>I have buy more than one</td>\n",
       "      <td>1357257600</td>\n",
       "      <td>01 4, 2013</td>\n",
       "    </tr>\n",
       "    <tr>\n",
       "      <th>3</th>\n",
       "      <td>A8U3FAMSJVHS5</td>\n",
       "      <td>0000031887</td>\n",
       "      <td>Caromcg</td>\n",
       "      <td>[0, 0]</td>\n",
       "      <td>We bought several tutus at once, and they are got high reviews. Sturdy and seemingly well-made. The girls have been wearing them regularly, including out to play, and the tutus have stood up well....</td>\n",
       "      <td>5.0</td>\n",
       "      <td>Adorable, Sturdy</td>\n",
       "      <td>1398556800</td>\n",
       "      <td>04 27, 2014</td>\n",
       "    </tr>\n",
       "    <tr>\n",
       "      <th>4</th>\n",
       "      <td>A3GEOILWLK86XM</td>\n",
       "      <td>0000031887</td>\n",
       "      <td>CJ</td>\n",
       "      <td>[0, 0]</td>\n",
       "      <td>Thank you Halo Heaven great product for Little Girls.  My Great Grand Daughters Love these Tutu's.  Will buy more from this seller.  Made well and cute on the girls.  Thanks for a great product.NE...</td>\n",
       "      <td>5.0</td>\n",
       "      <td>Grammy's Angels Love it</td>\n",
       "      <td>1394841600</td>\n",
       "      <td>03 15, 2014</td>\n",
       "    </tr>\n",
       "  </tbody>\n",
       "</table>\n",
       "</div>"
      ],
      "text/plain": [
       "       reviewerID        asin                 reviewerName helpful  \\\n",
       "0  A1KLRMWW2FWPL4  0000031887  Amazon Customer \"cameramom\"  [0, 0]   \n",
       "1  A2G5TCU2WDFZ65  0000031887              Amazon Customer  [0, 0]   \n",
       "2  A1RLQXYNCMWRWN  0000031887                       Carola  [0, 0]   \n",
       "3   A8U3FAMSJVHS5  0000031887                      Caromcg  [0, 0]   \n",
       "4  A3GEOILWLK86XM  0000031887                           CJ  [0, 0]   \n",
       "\n",
       "                                                                                                                                                                                                reviewText  \\\n",
       "0                             This is a great tutu and at a really great price. It doesn't look cheap at all. I'm so glad I looked on Amazon and found such an affordable tutu that isn't made poorly. A++   \n",
       "1  I bought this for my 4 yr old daughter for dance class, she wore it today for the first time and the teacher thought it was adorable. I bought this to go with a light blue long sleeve leotard and ...   \n",
       "2  What can I say... my daughters have it in orange, black, white and pink and I am thinking to buy for they the fuccia one. It is a very good way for exalt a dancer outfit: great colors, comfortable...   \n",
       "3  We bought several tutus at once, and they are got high reviews. Sturdy and seemingly well-made. The girls have been wearing them regularly, including out to play, and the tutus have stood up well....   \n",
       "4  Thank you Halo Heaven great product for Little Girls.  My Great Grand Daughters Love these Tutu's.  Will buy more from this seller.  Made well and cute on the girls.  Thanks for a great product.NE...   \n",
       "\n",
       "   overall                        summary  unixReviewTime   reviewTime  \n",
       "0      5.0  Great tutu-  not cheaply made      1297468800  02 12, 2011  \n",
       "1      5.0                    Very Cute!!      1358553600  01 19, 2013  \n",
       "2      5.0       I have buy more than one      1357257600   01 4, 2013  \n",
       "3      5.0               Adorable, Sturdy      1398556800  04 27, 2014  \n",
       "4      5.0        Grammy's Angels Love it      1394841600  03 15, 2014  "
      ]
     },
     "execution_count": 167,
     "metadata": {},
     "output_type": "execute_result"
    }
   ],
   "source": [
    "df.head()"
   ]
  },
  {
   "cell_type": "code",
   "execution_count": 171,
   "metadata": {},
   "outputs": [],
   "source": [
    "df = df.sample(n=50000, random_state=1)"
   ]
  },
  {
   "cell_type": "markdown",
   "metadata": {},
   "source": [
    "# Sentiment Analysis"
   ]
  },
  {
   "cell_type": "code",
   "execution_count": 172,
   "metadata": {
    "scrolled": true
   },
   "outputs": [
    {
     "data": {
      "text/html": [
       "<div>\n",
       "<style scoped>\n",
       "    .dataframe tbody tr th:only-of-type {\n",
       "        vertical-align: middle;\n",
       "    }\n",
       "\n",
       "    .dataframe tbody tr th {\n",
       "        vertical-align: top;\n",
       "    }\n",
       "\n",
       "    .dataframe thead th {\n",
       "        text-align: right;\n",
       "    }\n",
       "</style>\n",
       "<table border=\"1\" class=\"dataframe\">\n",
       "  <thead>\n",
       "    <tr style=\"text-align: right;\">\n",
       "      <th></th>\n",
       "      <th>reviewerID</th>\n",
       "      <th>asin</th>\n",
       "      <th>reviewerName</th>\n",
       "      <th>helpful</th>\n",
       "      <th>reviewText</th>\n",
       "      <th>overall</th>\n",
       "      <th>summary</th>\n",
       "      <th>unixReviewTime</th>\n",
       "      <th>reviewTime</th>\n",
       "      <th>polarity</th>\n",
       "      <th>subjectivity</th>\n",
       "    </tr>\n",
       "  </thead>\n",
       "  <tbody>\n",
       "    <tr>\n",
       "      <th>10773</th>\n",
       "      <td>A2AGUIRQZHZK7K</td>\n",
       "      <td>B0007LPM3W</td>\n",
       "      <td>Jason Zurawski</td>\n",
       "      <td>[0, 0]</td>\n",
       "      <td>These a super comfortable for walking, and work well on land and water.  Footbed is a little slick to start until broken in.</td>\n",
       "      <td>5.0</td>\n",
       "      <td>Good wet and dry</td>\n",
       "      <td>1403395200</td>\n",
       "      <td>06 22, 2014</td>\n",
       "      <td>-0.020833</td>\n",
       "      <td>0.548333</td>\n",
       "    </tr>\n",
       "    <tr>\n",
       "      <th>152404</th>\n",
       "      <td>A2FFWYG9YYZFA5</td>\n",
       "      <td>B005C2P31W</td>\n",
       "      <td>She</td>\n",
       "      <td>[6, 10]</td>\n",
       "      <td>I bought the purple and grey, size 9.5 pair.  I have narrow, long feet and have a hard time finding shoes to wear, especially since I don't wear leather or suede.  Just about every shoe I try on i...</td>\n",
       "      <td>5.0</td>\n",
       "      <td>Great Walking Shoes</td>\n",
       "      <td>1328140800</td>\n",
       "      <td>02 2, 2012</td>\n",
       "      <td>0.119990</td>\n",
       "      <td>0.646924</td>\n",
       "    </tr>\n",
       "    <tr>\n",
       "      <th>105929</th>\n",
       "      <td>A2DMS2AADHQRTA</td>\n",
       "      <td>B003JZANUK</td>\n",
       "      <td>H. Epstein</td>\n",
       "      <td>[0, 0]</td>\n",
       "      <td>I bought them for my husband for the winter months to keep feet worm.The slippers are light worm and true to size.</td>\n",
       "      <td>5.0</td>\n",
       "      <td>Light and worm</td>\n",
       "      <td>1353974400</td>\n",
       "      <td>11 27, 2012</td>\n",
       "      <td>0.375000</td>\n",
       "      <td>0.675000</td>\n",
       "    </tr>\n",
       "    <tr>\n",
       "      <th>33709</th>\n",
       "      <td>A24367KW657RM0</td>\n",
       "      <td>B000M49W1M</td>\n",
       "      <td>Blackberrie6</td>\n",
       "      <td>[1, 1]</td>\n",
       "      <td>I have a nice pair of jeans that I thought these shoes would go well with, so I ordered them. They were very pretty, however they were snug across my toes. I ended up stretching the shoe out becau...</td>\n",
       "      <td>3.0</td>\n",
       "      <td>OUCH!!</td>\n",
       "      <td>1327881600</td>\n",
       "      <td>01 30, 2012</td>\n",
       "      <td>0.231250</td>\n",
       "      <td>0.875000</td>\n",
       "    </tr>\n",
       "    <tr>\n",
       "      <th>112712</th>\n",
       "      <td>AT3T99Y0CWNQ5</td>\n",
       "      <td>B003X4KKT6</td>\n",
       "      <td>victoria \"We are all in Gods Hands\"</td>\n",
       "      <td>[0, 0]</td>\n",
       "      <td>I can use these for walking, short hikes, camping, shower shoe - dries fast - ,  swimming, water sports, kayaking, small to carry along not buky, clean easily, But I would not suggest using these ...</td>\n",
       "      <td>5.0</td>\n",
       "      <td>these are great summer shoes for any activity</td>\n",
       "      <td>1389052800</td>\n",
       "      <td>01 7, 2014</td>\n",
       "      <td>0.035714</td>\n",
       "      <td>0.619048</td>\n",
       "    </tr>\n",
       "  </tbody>\n",
       "</table>\n",
       "</div>"
      ],
      "text/plain": [
       "            reviewerID        asin                         reviewerName  \\\n",
       "10773   A2AGUIRQZHZK7K  B0007LPM3W                       Jason Zurawski   \n",
       "152404  A2FFWYG9YYZFA5  B005C2P31W                                  She   \n",
       "105929  A2DMS2AADHQRTA  B003JZANUK                           H. Epstein   \n",
       "33709   A24367KW657RM0  B000M49W1M                         Blackberrie6   \n",
       "112712   AT3T99Y0CWNQ5  B003X4KKT6  victoria \"We are all in Gods Hands\"   \n",
       "\n",
       "        helpful  \\\n",
       "10773    [0, 0]   \n",
       "152404  [6, 10]   \n",
       "105929   [0, 0]   \n",
       "33709    [1, 1]   \n",
       "112712   [0, 0]   \n",
       "\n",
       "                                                                                                                                                                                                     reviewText  \\\n",
       "10773                                                                              These a super comfortable for walking, and work well on land and water.  Footbed is a little slick to start until broken in.   \n",
       "152404  I bought the purple and grey, size 9.5 pair.  I have narrow, long feet and have a hard time finding shoes to wear, especially since I don't wear leather or suede.  Just about every shoe I try on i...   \n",
       "105929                                                                                       I bought them for my husband for the winter months to keep feet worm.The slippers are light worm and true to size.   \n",
       "33709   I have a nice pair of jeans that I thought these shoes would go well with, so I ordered them. They were very pretty, however they were snug across my toes. I ended up stretching the shoe out becau...   \n",
       "112712  I can use these for walking, short hikes, camping, shower shoe - dries fast - ,  swimming, water sports, kayaking, small to carry along not buky, clean easily, But I would not suggest using these ...   \n",
       "\n",
       "        overall                                        summary  \\\n",
       "10773       5.0                               Good wet and dry   \n",
       "152404      5.0                            Great Walking Shoes   \n",
       "105929      5.0                                 Light and worm   \n",
       "33709       3.0                                         OUCH!!   \n",
       "112712      5.0  these are great summer shoes for any activity   \n",
       "\n",
       "        unixReviewTime   reviewTime  polarity  subjectivity  \n",
       "10773       1403395200  06 22, 2014 -0.020833      0.548333  \n",
       "152404      1328140800   02 2, 2012  0.119990      0.646924  \n",
       "105929      1353974400  11 27, 2012  0.375000      0.675000  \n",
       "33709       1327881600  01 30, 2012  0.231250      0.875000  \n",
       "112712      1389052800   01 7, 2014  0.035714      0.619048  "
      ]
     },
     "execution_count": 172,
     "metadata": {},
     "output_type": "execute_result"
    }
   ],
   "source": [
    "from textblob import TextBlob\n",
    "\n",
    "pol = lambda x: TextBlob(x).sentiment.polarity\n",
    "sub = lambda x: TextBlob(x).sentiment.subjectivity\n",
    "\n",
    "df['polarity'] = df['reviewText'].apply(pol)\n",
    "df['subjectivity'] = df['reviewText'].apply(sub)\n",
    "df.head()"
   ]
  },
  {
   "cell_type": "code",
   "execution_count": 173,
   "metadata": {},
   "outputs": [
    {
     "data": {
      "image/png": "[encoded data removed]",
      "text/plain": [
       "<Figure size 720x576 with 1 Axes>"
      ]
     },
     "metadata": {
      "needs_background": "light"
     },
     "output_type": "display_data"
    }
   ],
   "source": [
    "# Let's plot the results\n",
    "\n",
    "\n",
    "plt.rcParams['figure.figsize'] = [10, 8]\n",
    "\n",
    "for index, text in enumerate(df.index):\n",
    "    x = df.polarity.loc[text]\n",
    "    y = df.subjectivity.loc[text]\n",
    "    plt.scatter(x, y, color='blue')\n",
    "    plt.xlim(-.99, .99) \n",
    "    \n",
    "plt.title('Sentiment Analysis', fontsize=20)\n",
    "plt.xlabel('<-- Negative -------- Positive -->', fontsize=15)\n",
    "plt.ylabel('<-- Facts -------- Opinions -->', fontsize=15)\n",
    "\n",
    "plt.show()"
   ]
  },
  {
   "cell_type": "markdown",
   "metadata": {},
   "source": [
    "# Text Clean\n",
    "* Tokenizing, Stemming, remove stop words, remove punctuation and numbers"
   ]
  },
  {
   "cell_type": "markdown",
   "metadata": {},
   "source": [
    "### (1) take a look at the original text (top 20 most frequent words)"
   ]
  },
  {
   "cell_type": "code",
   "execution_count": 174,
   "metadata": {
    "colab": {},
    "colab_type": "code",
    "id": "jjLyeSxg41OQ"
   },
   "outputs": [],
   "source": [
    "def freq_words(x, terms = 30):\n",
    "    all_words = ' '.join([text for text in x])\n",
    "    all_words = all_words.split()\n",
    "\n",
    "    fdist = FreqDist(all_words)\n",
    "    words_df = pd.DataFrame({'word':list(fdist.keys()), 'count':list(fdist.values())})\n",
    "\n",
    "    # selecting top 20 most frequent words\n",
    "    d = words_df.nlargest(columns=\"count\", n = terms) \n",
    "    plt.figure(figsize=(20,5))\n",
    "    ax = sns.barplot(data=d, x= \"word\", y = \"count\")\n",
    "    ax.set(ylabel = 'Count')\n",
    "    plt.show()"
   ]
  },
  {
   "cell_type": "code",
   "execution_count": 175,
   "metadata": {
    "colab": {
     "base_uri": "https://localhost:8080/",
     "height": 426
    },
    "colab_type": "code",
    "id": "pennLlyl5Whp",
    "outputId": "057ab4de-0c87-4d9a-edf8-7a4bbc7e8949"
   },
   "outputs": [
    {
     "data": {
      "image/png": "[encoded data removed]",
      "text/plain": [
       "<Figure size 1440x360 with 1 Axes>"
      ]
     },
     "metadata": {
      "needs_background": "light"
     },
     "output_type": "display_data"
    }
   ],
   "source": [
    "freq_words(df['reviewText'])"
   ]
  },
  {
   "cell_type": "markdown",
   "metadata": {},
   "source": [
    "### (2) remove unwanted characters, numbers, punctuations, and stopwords. Make entire text lowercase"
   ]
  },
  {
   "cell_type": "code",
   "execution_count": 176,
   "metadata": {},
   "outputs": [],
   "source": [
    "# replace \"n't\" with \" not\"\n",
    "df['reviewText'] = df['reviewText'].str.replace(\"n\\'t\", \" not\")\n",
    "\n",
    "# remove unwanted characters, numbers and symbols\n",
    "df['reviewText'] = df['reviewText'].str.replace(\"[^a-zA-Z#]\", \" \")"
   ]
  },
  {
   "cell_type": "code",
   "execution_count": 177,
   "metadata": {
    "colab": {},
    "colab_type": "code",
    "id": "B8MogVp8vC6l"
   },
   "outputs": [],
   "source": [
    "# function to remove stopwords\n",
    "def remove_stopwords(rev):\n",
    "    rev_new = \" \".join([i for i in rev if i not in stop_words])\n",
    "    return rev_new"
   ]
  },
  {
   "cell_type": "code",
   "execution_count": 178,
   "metadata": {
    "colab": {},
    "colab_type": "code",
    "id": "KYxtiTbOwULK"
   },
   "outputs": [],
   "source": [
    "# remove short words (length < 3)\n",
    "df['reviewText'] = df['reviewText'].apply(lambda x: ' '.join([w for w in x.split() if len(w)>2]))\n",
    "\n",
    "# remove stopwords from the text\n",
    "reviews = [remove_stopwords(r.split()) for r in df['reviewText']]\n",
    "\n",
    "# make entire text lowercase\n",
    "reviews = [r.lower() for r in reviews]"
   ]
  },
  {
   "cell_type": "code",
   "execution_count": 179,
   "metadata": {
    "colab": {
     "base_uri": "https://localhost:8080/",
     "height": 426
    },
    "colab_type": "code",
    "id": "9eSP1Ruj9fdT",
    "outputId": "1bfc8f92-c390-4d1c-cfa3-ed6b9982271f"
   },
   "outputs": [
    {
     "data": {
      "image/png": "[encoded data removed]",
      "text/plain": [
       "<Figure size 1440x360 with 1 Axes>"
      ]
     },
     "metadata": {
      "needs_background": "light"
     },
     "output_type": "display_data"
    }
   ],
   "source": [
    "freq_words(reviews, 35)"
   ]
  },
  {
   "cell_type": "markdown",
   "metadata": {},
   "source": [
    "### (3) Tokenize text"
   ]
  },
  {
   "cell_type": "code",
   "execution_count": 180,
   "metadata": {
    "colab": {
     "base_uri": "https://localhost:8080/",
     "height": 73
    },
    "colab_type": "code",
    "id": "OKGHMX01NlBa",
    "outputId": "74723838-835d-4ecc-dc02-6aa7d3b11811"
   },
   "outputs": [
    {
     "name": "stdout",
     "output_type": "stream",
     "text": [
      "['bought', 'purple', 'grey', 'size', 'pair', 'narrow', 'long', 'feet', 'hard', 'time', 'finding', 'shoes', 'wear', 'especially', 'since', 'wear', 'leather', 'suede', 'just', 'every', 'shoe', 'try', 'wide', 'rubs', 'blisters', 'feet', 'even', 'right', 'size', 'like', 'pretty', 'narrow', 'despite', 'medium', 'width', 'they', 'also', 'light', 'shoes', 'squishy', 'inside', 'really', 'comfortable', 'make', 'great', 'walking', 'shoes', 'tried', 'nikes', 'similar', 'wide', 'made', 'already', 'big', 'feet', 'look', 'even', 'bigger', 'they', 'also', 'rubbed', 'uncomfortably', 'skin', 'right', 'ankles', 'these', 'rub', 'blisters', 'feet', 'take', 'time', 'break', 'used', 'wear', 'converse', 'time', 'think', 'way', 'comfortable', 'though', 'still', 'like', 'converse', 'the', 'downside', 'pretty', 'expensive', 'happy', 'though', 'glad', 'got']\n"
     ]
    },
    {
     "data": {
      "text/plain": [
       "91"
      ]
     },
     "execution_count": 180,
     "metadata": {},
     "output_type": "execute_result"
    }
   ],
   "source": [
    "tokenized_reviews = pd.Series(reviews).apply(lambda x: x.split())\n",
    "print(tokenized_reviews[1])\n",
    "len(tokenized_reviews[1])"
   ]
  },
  {
   "cell_type": "markdown",
   "metadata": {},
   "source": [
    "### we focus on noun and adjective\n"
   ]
  },
  {
   "cell_type": "code",
   "execution_count": 181,
   "metadata": {},
   "outputs": [],
   "source": [
    "nlp = spacy.load('en_core_web_sm', disable=['parser', 'ner'])"
   ]
  },
  {
   "cell_type": "code",
   "execution_count": 182,
   "metadata": {},
   "outputs": [],
   "source": [
    "def lemmatization(texts, tags=['NOUN', 'ADJ']):\n",
    "    output = []\n",
    "    for sent in texts:\n",
    "        doc = nlp(\" \".join(sent)) \n",
    "        output.append([token.lemma_ for token in doc if token.pos_ in tags])\n",
    "    return output"
   ]
  },
  {
   "cell_type": "code",
   "execution_count": 183,
   "metadata": {
    "colab": {},
    "colab_type": "code",
    "id": "tRUfUgkD_k24"
   },
   "outputs": [
    {
     "name": "stdout",
     "output_type": "stream",
     "text": [
      "['purple', 'size', 'pair', 'narrow', 'long', 'foot', 'hard', 'time', 'shoe', 'leather', 'suede', 'shoe', 'wide', 'rub', 'blister', 'foot', 'right', 'size', 'narrow', 'medium', 'width', 'light', 'shoe', 'comfortable', 'great', 'shoe', 'nike', 'similar', 'big', 'foot', 'big', 'skin', 'right', 'ankle', 'rub', 'blister', 'foot', 'time', 'break', 'wear', 'converse', 'time', 'way', 'comfortable', 'downside', 'happy', 'glad']\n"
     ]
    },
    {
     "data": {
      "text/plain": [
       "47"
      ]
     },
     "execution_count": 183,
     "metadata": {},
     "output_type": "execute_result"
    }
   ],
   "source": [
    "reviews_2 = lemmatization(tokenized_reviews)\n",
    "print(reviews_2[1])\n",
    "len(reviews_2[1])"
   ]
  },
  {
   "cell_type": "code",
   "execution_count": 184,
   "metadata": {
    "colab": {
     "base_uri": "https://localhost:8080/",
     "height": 251
    },
    "colab_type": "code",
    "id": "4xggnZ-u_lHd",
    "outputId": "0bd6f14e-acbe-4fe6-969c-4480a90640c6",
    "scrolled": true
   },
   "outputs": [
    {
     "name": "stdout",
     "output_type": "stream",
     "text": [
      "The words that we removed:\n",
      "{'despite', 'especially', 'make', 'like', 'rubs', 'inside', 'made', 'also', 'already', 'try', 'even', 'since', 'take', 'squishy', 'the', 'tried', 'really', 'bigger', 'bought', 'though', 'walking', 'every', 'feet', 'got', 'finding', 'look', 'shoes', 'ankles', 'grey', 'used', 'blisters', 'expensive', 'these', 'rubbed', 'nikes', 'just', 'think', 'uncomfortably', 'still', 'pretty', 'they'}\n"
     ]
    }
   ],
   "source": [
    "print('The words that we removed:')\n",
    "print(set(tokenized_reviews[1]) - set(reviews_2[1]))"
   ]
  },
  {
   "cell_type": "code",
   "execution_count": 185,
   "metadata": {
    "colab": {},
    "colab_type": "code",
    "id": "aZ9ZPfO-CEmD"
   },
   "outputs": [],
   "source": [
    "reviews_3 = []\n",
    "for i in range(len(reviews_2)):\n",
    "    reviews_3.append(' '.join(reviews_2[i]))\n",
    "    \n",
    "df['reviews'] = reviews_3"
   ]
  },
  {
   "cell_type": "code",
   "execution_count": 186,
   "metadata": {
    "colab": {
     "base_uri": "https://localhost:8080/",
     "height": 426
    },
    "colab_type": "code",
    "id": "Zyj9zVQqCY6R",
    "outputId": "a71332fc-e6bf-4581-e3f8-4fb081bbb8f1"
   },
   "outputs": [
    {
     "data": {
      "image/png": "[encoded data removed]",
      "text/plain": [
       "<Figure size 1440x360 with 1 Axes>"
      ]
     },
     "metadata": {
      "needs_background": "light"
     },
     "output_type": "display_data"
    }
   ],
   "source": [
    "freq_words(df['reviews'], 35)"
   ]
  },
  {
   "cell_type": "markdown",
   "metadata": {},
   "source": [
    "#### Now we have clean and imformative text available for topic modeling"
   ]
  },
  {
   "cell_type": "markdown",
   "metadata": {},
   "source": [
    "# Topic Modeling"
   ]
  },
  {
   "cell_type": "code",
   "execution_count": 187,
   "metadata": {
    "colab": {},
    "colab_type": "code",
    "id": "FBtKwstViu_h"
   },
   "outputs": [],
   "source": [
    "# Create the term dictionary of our corpus, where every unique term is assigned an index\n",
    "dictionary = corpora.Dictionary(reviews_2)"
   ]
  },
  {
   "cell_type": "code",
   "execution_count": 188,
   "metadata": {
    "colab": {},
    "colab_type": "code",
    "id": "rDoMrZfkiu-c"
   },
   "outputs": [],
   "source": [
    "# Convert list of reviews (reviews_2) into a Document Term Matrix using the dictionary prepared above.\n",
    "doc_term_matrix = [dictionary.doc2bow(rev) for rev in reviews_2]"
   ]
  },
  {
   "cell_type": "code",
   "execution_count": 189,
   "metadata": {
    "colab": {},
    "colab_type": "code",
    "id": "X6JSF612qkm1"
   },
   "outputs": [],
   "source": [
    "# Creating the object for LDA model using gensim library\n",
    "LDA = gensim.models.ldamodel.LdaModel"
   ]
  },
  {
   "cell_type": "code",
   "execution_count": 190,
   "metadata": {
    "colab": {},
    "colab_type": "code",
    "id": "U8MLxPhRiuh6"
   },
   "outputs": [],
   "source": [
    "# Build LDA model\n",
    "lda_model = LDA(corpus=doc_term_matrix,\n",
    "                id2word=dictionary,\n",
    "                num_topics=7, \n",
    "                random_state=100,\n",
    "                chunksize=1000,\n",
    "                passes=50)"
   ]
  },
  {
   "cell_type": "code",
   "execution_count": 191,
   "metadata": {
    "colab": {
     "base_uri": "https://localhost:8080/",
     "height": 289
    },
    "colab_type": "code",
    "id": "TB5lGOR3iucK",
    "outputId": "a6c66aa2-34c9-4b80-bc56-601eed395193"
   },
   "outputs": [
    {
     "data": {
      "text/plain": [
       "[(0,\n",
       "  '0.034*\"good\" + 0.027*\"quality\" + 0.025*\"price\" + 0.023*\"product\" + 0.021*\"bag\" + 0.020*\"great\" + 0.012*\"time\" + 0.011*\"item\" + 0.010*\"cheap\" + 0.009*\"amazon\"'),\n",
       " (1,\n",
       "  '0.071*\"color\" + 0.045*\"great\" + 0.036*\"love\" + 0.029*\"nice\" + 0.028*\"dress\" + 0.024*\"fit\" + 0.021*\"good\" + 0.020*\"perfect\" + 0.019*\"comfortable\" + 0.017*\"black\"'),\n",
       " (2,\n",
       "  '0.048*\"watch\" + 0.023*\"gift\" + 0.018*\"band\" + 0.017*\"nice\" + 0.017*\"earring\" + 0.016*\"time\" + 0.015*\"beautiful\" + 0.013*\"price\" + 0.012*\"great\" + 0.011*\"big\"'),\n",
       " (3,\n",
       "  '0.051*\"year\" + 0.043*\"ring\" + 0.040*\"old\" + 0.026*\"month\" + 0.021*\"son\" + 0.018*\"time\" + 0.015*\"wife\" + 0.014*\"daughter\" + 0.012*\"gold\" + 0.011*\"last\"'),\n",
       " (4,\n",
       "  '0.120*\"size\" + 0.043*\"small\" + 0.037*\"fit\" + 0.035*\"large\" + 0.028*\"big\" + 0.022*\"pant\" + 0.019*\"little\" + 0.014*\"medium\" + 0.014*\"short\" + 0.014*\"bit\"'),\n",
       " (5,\n",
       "  '0.088*\"shoe\" + 0.040*\"foot\" + 0.035*\"pair\" + 0.032*\"comfortable\" + 0.023*\"boot\" + 0.019*\"sock\" + 0.015*\"great\" + 0.014*\"day\" + 0.013*\"toe\" + 0.012*\"good\"'),\n",
       " (6,\n",
       "  '0.032*\"shirt\" + 0.028*\"bra\" + 0.018*\"top\" + 0.013*\"strap\" + 0.011*\"fabric\" + 0.011*\"comfortable\" + 0.009*\"side\" + 0.009*\"pocket\" + 0.009*\"material\" + 0.009*\"little\"')]"
      ]
     },
     "execution_count": 191,
     "metadata": {},
     "output_type": "execute_result"
    }
   ],
   "source": [
    "lda_model.print_topics()"
   ]
  },
  {
   "cell_type": "code",
   "execution_count": 192,
   "metadata": {
    "colab": {
     "base_uri": "https://localhost:8080/",
     "height": 860
    },
    "colab_type": "code",
    "id": "4nRZyKPDCauL",
    "outputId": "b0ef59ff-5204-4ea1-80c9-f100cc9bf1cb"
   },
   "outputs": [
    {
     "data": {
      "text/html": [
       "\n",
       "<link rel=\"stylesheet\" type=\"text/css\" href=\"https://cdn.rawgit.com/bmabey/pyLDAvis/files/ldavis.v1.0.0.css\">\n",
       "\n",
       "\n",
       "<div id=\"ldavis_el7161223382907520807135101569\"></div>\n",
       "<script type=\"text/javascript\">\n",
       "\n",
       "var ldavis_el7161223382907520807135101569_data = {\"mdsDat\": {\"x\": [0.013833178506461916, -0.0338631656280777, 0.1755143450070382, 0.08297411517151056, 0.11788132764621913, 0.051213455603297854, -0.4075532563064505], \"y\": [-0.10008770327986242, 0.14439852505824147, -0.13577937059140394, -0.16722598800961633, 0.07935732145617971, 0.23479405722202498, -0.05545684185556318], \"topics\": [1, 2, 3, 4, 5, 6, 7], \"cluster\": [1, 1, 1, 1, 1, 1, 1], \"Freq\": [20.251498334674377, 16.65220189132844, 16.130394367334073, 14.924324006363578, 14.775941727396061, 10.252329085886522, 7.013310587016923]}, \"tinfo\": {\"Term\": [\"size\", \"shoe\", \"color\", \"foot\", \"watch\", \"year\", \"small\", \"pair\", \"shirt\", \"large\", \"dress\", \"fit\", \"ring\", \"bra\", \"old\", \"love\", \"boot\", \"product\", \"big\", \"quality\", \"price\", \"pant\", \"bag\", \"sock\", \"comfortable\", \"great\", \"gift\", \"month\", \"nice\", \"band\", \"shoe\", \"foot\", \"boot\", \"sock\", \"toe\", \"heel\", \"sandal\", \"slipper\", \"narrow\", \"arch\", \"sole\", \"flop\", \"knee\", \"croc\", \"walk\", \"pain\", \"width\", \"flip\", \"sneaker\", \"mile\", \"balance\", \"sol\", \"blister\", \"insole\", \"clark\", \"hiking\", \"flimsy\", \"bed\", \"floor\", \"cushion\", \"pair\", \"wide\", \"comfortable\", \"support\", \"ankle\", \"comfort\", \"day\", \"new\", \"style\", \"great\", \"time\", \"good\", \"first\", \"work\", \"fit\", \"problem\", \"year\", \"wear\", \"love\", \"little\", \"lot\", \"product\", \"bag\", \"plastic\", \"hat\", \"purse\", \"costume\", \"glass\", \"ear\", \"travel\", \"customer\", \"number\", \"smell\", \"rain\", \"service\", \"sunglass\", \"fast\", \"condition\", \"lining\", \"coat\", \"luggage\", \"compartment\", \"pay\", \"dollar\", \"elegant\", \"unique\", \"cloth\", \"wind\", \"runner\", \"weekend\", \"resistant\", \"shipping\", \"excellent\", \"money\", \"value\", \"item\", \"quality\", \"zipper\", \"price\", \"head\", \"good\", \"worth\", \"amazon\", \"jacket\", \"cheap\", \"trip\", \"use\", \"leather\", \"great\", \"case\", \"time\", \"store\", \"thing\", \"review\", \"warm\", \"easy\", \"day\", \"lot\", \"nice\", \"well\", \"purchase\", \"size\", \"pant\", \"medium\", \"leg\", \"tall\", \"legging\", \"underwear\", \"calf\", \"skinny\", \"butt\", \"baggy\", \"brief\", \"sizing\", \"backpack\", \"pantie\", \"chart\", \"belly\", \"waistband\", \"boxer\", \"cozy\", \"suitcase\", \"fleece\", \"compression\", \"vest\", \"pajama\", \"crotch\", \"test\", \"ice\", \"shine\", \"scrub\", \"large\", \"lbs\", \"small\", \"waist\", \"big\", \"true\", \"order\", \"jean\", \"tight\", \"short\", \"fit\", \"loose\", \"inch\", \"bit\", \"little\", \"review\", \"length\", \"snug\", \"half\", \"perfect\", \"woman\", \"way\", \"pair\", \"nice\", \"comfortable\", \"great\", \"good\", \"material\", \"love\", \"bra\", \"wallet\", \"shoulder\", \"body\", \"sleeve\", \"arm\", \"bras\", \"cup\", \"neck\", \"chest\", \"stuff\", \"thigh\", \"tank\", \"breast\", \"stretchy\", \"cover\", \"bust\", \"hook\", \"coverage\", \"roll\", \"hane\", \"underwire\", \"collar\", \"sheer\", \"garment\", \"wire\", \"nylon\", \"denim\", \"patty\", \"torso\", \"card\", \"shirt\", \"front\", \"seam\", \"supportive\", \"top\", \"strap\", \"pocket\", \"fabric\", \"side\", \"sport\", \"button\", \"shape\", \"thin\", \"place\", \"skin\", \"material\", \"bottom\", \"low\", \"thing\", \"long\", \"comfortable\", \"little\", \"enough\", \"way\", \"small\", \"large\", \"fit\", \"bit\", \"good\", \"support\", \"problem\", \"color\", \"dress\", \"belt\", \"skirt\", \"scarf\", \"purple\", \"hair\", \"robe\", \"weird\", \"classy\", \"flattering\", \"tee\", \"gray\", \"clip\", \"wardrobe\", \"accessory\", \"itchy\", \"slack\", \"keep\", \"stud\", \"rich\", \"fake\", \"formal\", \"polyester\", \"plain\", \"door\", \"spandex\", \"subtle\", \"dad\", \"polish\", \"red\", \"shade\", \"pink\", \"black\", \"blue\", \"dark\", \"love\", \"brown\", \"outfit\", \"bright\", \"summer\", \"great\", \"nice\", \"white\", \"soft\", \"perfect\", \"casual\", \"picture\", \"compliment\", \"cute\", \"light\", \"sexy\", \"fit\", \"material\", \"different\", \"good\", \"comfortable\", \"warm\", \"price\", \"quality\", \"wear\", \"shirt\", \"look\", \"fabric\", \"happy\", \"beautiful\", \"watch\", \"gift\", \"earring\", \"chain\", \"bracelet\", \"jewelry\", \"necklace\", \"silver\", \"wrist\", \"stone\", \"pendant\", \"gorgeous\", \"date\", \"mother\", \"birthday\", \"pin\", \"battery\", \"collection\", \"diamond\", \"link\", \"steel\", \"charm\", \"waste\", \"crystal\", \"granddaughter\", \"function\", \"heart\", \"stainless\", \"pic\", \"digital\", \"clasp\", \"band\", \"piece\", \"beautiful\", \"face\", \"metal\", \"real\", \"time\", \"nice\", \"box\", \"cheap\", \"picture\", \"price\", \"big\", \"friend\", \"little\", \"small\", \"love\", \"great\", \"day\", \"look\", \"cute\", \"good\", \"ring\", \"old\", \"son\", \"wife\", \"gold\", \"kid\", \"glove\", \"finger\", \"child\", \"feature\", \"boy\", \"shiny\", \"school\", \"pearl\", \"bead\", \"sparkle\", \"tool\", \"dial\", \"cap\", \"age\", \"sterling\", \"adult\", \"multiple\", \"boob\", \"shock\", \"scratch\", \"glue\", \"pool\", \"flower\", \"separate\", \"month\", \"year\", \"baby\", \"daughter\", \"hand\", \"last\", \"construction\", \"time\", \"cold\", \"durable\", \"minute\", \"couple\", \"new\", \"water\", \"next\", \"day\", \"one\", \"use\"], \"Freq\": [16069.0, 14792.0, 8735.0, 6676.0, 4076.0, 3977.0, 7687.0, 7012.0, 5315.0, 5981.0, 3462.0, 10484.0, 2473.0, 3402.0, 2327.0, 7148.0, 3848.0, 3132.0, 5254.0, 5945.0, 6352.0, 2872.0, 2894.0, 3199.0, 10223.0, 13184.0, 1939.0, 1773.0, 7888.0, 2100.0, 14791.350802998451, 6675.872267967375, 3847.6307925304723, 3198.484606870691, 2219.1271580449907, 1847.7657621664907, 1572.8666599531225, 1091.5805406491045, 1082.0445292752008, 966.2577796162241, 924.1047849759887, 690.4636442140745, 663.0666337997701, 628.1135694050121, 615.6602870273709, 563.7297009132503, 549.7113402181941, 543.74230508783, 531.1086965172647, 468.97712911279126, 421.2536206189553, 411.20075744420217, 354.50872437887585, 344.24203861078087, 324.12134038533037, 319.78521573523165, 277.0400414333008, 263.13255460442883, 260.40242228997084, 256.450335041863, 5818.215127957829, 1551.518599741041, 5334.920630072128, 1452.9928028818836, 625.3143556447045, 828.7851948542411, 2274.657162720538, 1189.868505257278, 1176.336037568746, 2468.670500184656, 1770.9000339484796, 1943.7764400273907, 935.3867474215436, 1111.1401741675597, 1580.2188465641345, 886.2168424952223, 1034.012174599892, 923.1186322084488, 1052.6579576043896, 1013.953140202483, 876.7615660351458, 3131.6476861293727, 2893.257563428773, 925.8997818298337, 922.6932269571088, 810.8860053714343, 633.3246985724205, 538.200403078679, 513.8995657543485, 474.7355081036954, 426.71410021259675, 420.1158932042513, 400.8938345761986, 398.92591617396164, 391.72490715336215, 386.8733107896395, 380.9646119515573, 371.1405249660362, 369.2853470402629, 353.8303355170128, 346.1316569045519, 345.972465554101, 324.1718537449693, 286.4221882904985, 278.9142247038551, 236.91279550894274, 233.02230207662274, 229.12705762194605, 223.3127211501979, 219.72992061847722, 216.83051292081075, 663.9594833372578, 871.7242591147287, 1113.6446482383553, 515.555072335132, 1557.284586611621, 3706.474394687189, 609.023155015037, 3495.689252750971, 581.9579931151811, 4733.512399573746, 1106.6281586536081, 1251.0729777394765, 706.3467565403864, 1332.628899108103, 617.0598945493771, 1056.9840198156867, 1030.6134702249772, 2725.1792330506723, 634.4126826920984, 1692.3361208743097, 708.9639278288647, 926.5728219293607, 855.2017442303382, 828.1225860754316, 701.1981891778694, 877.3035002335777, 773.752335646708, 836.4819457089917, 681.1820035831995, 662.5391844646321, 16068.758429567019, 2871.970701481024, 1891.6474329060477, 1304.6887374993566, 756.4070367647113, 715.8626280679871, 560.1222138976141, 545.8938710654302, 515.3191409930804, 376.73938294838, 371.30272484346324, 361.27356037253037, 344.3575331830177, 336.6575832110113, 333.0431572514998, 281.005448649867, 275.1786031938718, 266.788424609187, 234.09037942786682, 212.45929818740024, 197.28995642911974, 194.46888757685556, 182.37835039441376, 169.29129312590172, 160.85381816243222, 159.72416234607488, 152.464245941578, 149.56800352211332, 146.27306911015168, 140.61770023588443, 4671.273214181002, 519.5709019818956, 5792.986348460621, 1519.76393589522, 3750.0036879699414, 1755.291941774213, 1686.4766746055057, 1760.5723445843282, 1696.6052516490713, 1872.5337255254715, 4982.633018520282, 855.644727849761, 661.7904599802484, 1819.3385150146466, 2603.4509060142746, 1296.9256634978083, 997.6206830661288, 512.9698387487925, 650.8879761153853, 1451.7081471982003, 764.0329170626447, 976.8280008820676, 1193.836100596311, 1169.6604057669501, 1225.9783589096444, 1308.7526811785995, 1167.2643046731744, 890.0003696225907, 765.3786094283819, 3401.204857463475, 1004.1610064131619, 919.4464290029741, 858.0552263322868, 815.1312726189908, 770.2537976802214, 724.9711756737478, 719.3411217478209, 656.6229056308341, 584.473296185315, 584.3823812063387, 512.094615517451, 437.51918728478887, 377.7805945215009, 367.7295983489069, 356.7443644556417, 326.3908451139781, 313.2674405221159, 274.3537868102561, 272.24453052744116, 263.5499513164991, 234.37357955863888, 226.36162510993827, 225.37548529367425, 220.77195066913578, 207.63628981744958, 202.04385340260225, 190.80385617426242, 190.25209431767732, 189.41433867991665, 551.1767208754839, 3942.510340643784, 922.9477489749574, 511.02647959673044, 370.95164246616747, 2192.086733597496, 1666.6096633392258, 1146.1627232278906, 1396.9032431061887, 1163.9452327866625, 412.4278614509535, 549.2615220398828, 661.5505550324796, 963.6338132184121, 626.8057271240052, 500.67241431383985, 1127.5419545465063, 655.5239276666126, 651.3151970923917, 912.9652267422254, 914.9821582884784, 1300.1435818041498, 1059.163417871351, 771.7181042530004, 797.6462506813, 953.6648706914006, 883.41521168311, 981.0888562294912, 797.1151460889254, 914.9261707729443, 675.8707575026517, 666.6401827036306, 8734.660030161516, 3461.9585272858385, 1222.6996041580212, 1014.4884945790487, 464.9829086983823, 408.3721243361811, 350.5113823960601, 341.24887258987013, 332.0349004007618, 287.9171403788333, 284.5117309099612, 270.60655815159106, 269.2628865125219, 235.53978191211542, 192.41277036280002, 190.84825826291294, 177.29787440686675, 176.49697524050305, 165.31705865248696, 154.6785615226157, 153.7858425154876, 149.9580219007752, 148.3489030471617, 146.36346099632183, 141.38321379012598, 141.4598656255524, 134.62991933459787, 121.22890828604932, 118.39674260201475, 116.31302184616558, 793.3429076143042, 197.95444740038008, 528.5535145071035, 2104.156061114103, 906.5158247835566, 689.0899739335149, 4440.268608862368, 525.2890179441602, 358.47559639886816, 454.2635867513343, 908.6037968535779, 5457.725076181696, 3596.9017620659115, 768.1816791537987, 1723.1497814058366, 2443.546575326026, 722.0240004421403, 1166.474129858181, 804.6628256037029, 1359.7462496163655, 1244.7880938244764, 490.3800459292339, 2940.530300784895, 1525.3370017510877, 1089.258642808045, 2613.613270534537, 2362.521568963393, 1100.7008733137282, 1672.6564173824256, 1497.1991982261488, 1094.397705439146, 1372.4688021951615, 921.55536494959, 881.4545769779552, 906.8990554761716, 849.3435821054542, 4075.97559480358, 1938.1655235885307, 1425.5973574360944, 856.9107946464919, 849.2813129442503, 800.9898805265752, 795.0106980827738, 778.0241974617428, 733.2737736229801, 646.2002295757072, 439.182065806226, 424.03326728876726, 392.49666114592634, 378.98009753334844, 349.9199680094426, 338.4579182712764, 317.11397539388497, 301.6800605039441, 291.93853173996956, 251.34658533559465, 238.68347349041758, 236.8703776452495, 227.78819778619504, 214.52749973289582, 206.99675928927897, 206.2609827528333, 190.9257695933913, 188.80508563613813, 180.38486353831647, 170.18492709769205, 323.3424617280571, 1540.555899350886, 863.6331058581658, 1261.2947491095617, 557.6901939032612, 457.38709996593815, 515.1751251151345, 1372.7563167777498, 1440.5848416715485, 575.1869235740634, 752.3429321440998, 706.2830996050953, 1099.2873018882283, 959.6106369727077, 492.23177544146426, 946.8969686544397, 940.036704283198, 889.5641889318171, 1008.1934707348911, 621.977235880636, 510.582945082816, 509.7258962559537, 544.7816519240564, 2472.3547848143903, 2326.936236665279, 1192.2766472450664, 857.0534917846554, 703.3377182667847, 637.7728460108123, 589.3051522552925, 540.1697326296206, 459.321633532436, 423.62314924340114, 390.6789598087312, 386.88611246304043, 358.0190149009519, 323.01086192579817, 253.03960462292227, 252.07457390372505, 231.8169596819082, 230.59177707979478, 228.92476080479383, 226.66996243282884, 216.41900210176928, 210.7356122842034, 198.29873799254244, 190.328466837719, 181.20873861327422, 170.5286669314259, 170.40862283162272, 169.09577653504778, 163.98859569253676, 163.66212819868073, 1520.1792082178283, 2943.1309968764417, 400.06254439670323, 803.0932700830554, 613.0822934577114, 655.6494796798484, 270.35453627929667, 1050.7540229386502, 456.1314538061649, 409.5303856385748, 289.41176358309053, 358.8903790446973, 452.6098447452193, 342.2355209372126, 312.12077052930374, 438.75752086005735, 354.18001026764676, 298.92338259218394], \"Total\": [16069.0, 14792.0, 8735.0, 6676.0, 4076.0, 3977.0, 7687.0, 7012.0, 5315.0, 5981.0, 3462.0, 10484.0, 2473.0, 3402.0, 2327.0, 7148.0, 3848.0, 3132.0, 5254.0, 5945.0, 6352.0, 2872.0, 2894.0, 3199.0, 10223.0, 13184.0, 1939.0, 1773.0, 7888.0, 2100.0, 14792.20894973764, 6676.730411204787, 3848.4897570856465, 3199.343246475639, 2219.985190107794, 1848.623951155926, 1573.724717358344, 1092.4387672404027, 1082.9035563331208, 967.1154443486736, 924.9627715047949, 691.3215646462485, 663.9288179135698, 628.9714945145263, 616.5188023939616, 564.5894743646274, 550.5702520417815, 544.6004905879971, 531.967026408757, 469.83746888853744, 422.1116015829159, 412.05886328209357, 355.3666928854514, 345.09976685383566, 324.9791789635199, 320.64456498464193, 277.90446264233964, 263.99308413064455, 261.2618351768584, 257.3086304073306, 7012.769232155393, 1852.4800364431665, 10223.99564606849, 2129.577079950855, 775.3975499370129, 1192.8514768770374, 5015.975630907233, 2229.6413506331337, 2852.593343826096, 13184.586347287262, 7070.846812430124, 11918.019780395874, 2097.0787666471615, 3413.8564481151407, 10484.902556670006, 2283.3593433777683, 3977.857453770554, 3067.257403453657, 7148.304945564991, 6678.034517579146, 3429.9280055490985, 3132.50457895409, 2894.1134075742993, 926.7575245679719, 923.5492305228072, 811.7418031914102, 634.181639997891, 539.0565512729096, 514.7564665158459, 475.59210170765715, 427.57161242314703, 420.97414245887126, 401.7502028576351, 399.78281047096476, 392.58140457352687, 387.7290488483395, 381.8218167728471, 371.9977577892598, 370.1429851883503, 354.68660237207195, 346.9872689607412, 346.8282411499992, 325.0294929929751, 287.27976062932066, 279.7724811992701, 237.7711487239377, 233.8798198567725, 229.98366466379844, 224.17383386899115, 220.5884730110522, 217.68801351861725, 704.4520847244214, 1006.5544814223205, 1355.8964517293336, 582.407767961551, 2113.390244174999, 5945.6560206518925, 717.215176135612, 6352.39115628202, 697.5200665072647, 11918.019780395874, 1679.179408729278, 2076.9265827014947, 937.9624882672291, 2405.613048635928, 783.3363787889324, 1916.2589703448482, 1839.8419574914656, 13184.586347287262, 960.8671273821416, 7070.846812430124, 1283.700640080866, 2980.601420352976, 2556.0152512257514, 2747.8835020751517, 1773.2008779772484, 5015.975630907233, 3429.9280055490985, 7888.403166142611, 2213.571140579761, 1940.43901787505, 16069.618148806203, 2872.8297842059214, 1892.5068039028647, 1305.5478696697603, 757.2665280983281, 716.7220424538089, 560.9813842285251, 546.7528868626094, 516.1782065193624, 377.5990439574166, 372.16155644970456, 362.13233809481926, 345.2168974411572, 337.5197505552553, 333.90202037907216, 281.8638441997635, 276.03834406945083, 267.6474692323461, 234.94860811900278, 213.32010781153835, 198.15168334095853, 195.3286013082282, 183.23841369755817, 170.1513152130185, 161.712966359187, 160.5831528911468, 153.32775020615387, 150.43079465335987, 147.13912485002618, 141.47669732338565, 5981.88233563851, 572.0115712533368, 7687.261023274122, 1881.6970320290777, 5254.639707506959, 2356.4467856090737, 2299.0335846950243, 2539.5865427051135, 2456.9934835978625, 2839.690272831343, 10484.902556670006, 1289.397513077944, 920.2957273364843, 3992.397483902796, 6678.034517579146, 2556.0152512257514, 1799.8287401874559, 679.9875361801567, 1035.99978937379, 5025.294714246361, 1494.8287368770077, 2918.9615801191107, 7012.769232155393, 7888.403166142611, 10223.99564606849, 13184.586347287262, 11918.019780395874, 3993.093217716816, 7148.304945564991, 3402.0593784694433, 1005.0161525888949, 920.3017858639922, 858.9111813495432, 815.9867382601585, 771.1096270792336, 725.8257731175121, 720.1957863680644, 657.4788724408079, 585.3287112999418, 585.2395791001277, 512.9505565931069, 438.3746350029795, 378.6353219745564, 368.58572521671334, 357.6010492649184, 327.24604686398607, 314.1227123296873, 275.2093740632495, 273.1008895463426, 264.40581794366284, 235.22788035610813, 227.21689010431007, 226.23180092169764, 221.6277054451176, 208.49131049186525, 202.90088847472106, 191.66085003051646, 191.10737104294327, 190.26937183762948, 601.1965303825547, 5315.693421023362, 1085.6967437899573, 569.5143485526766, 409.19039718825974, 3431.929627283544, 2470.7959006464966, 1751.0293761662747, 2279.0727274608507, 2028.3967896019078, 498.0348347021186, 794.9637699135634, 1097.0261274854427, 2125.454143348811, 1037.1442547975485, 705.4270517056362, 3993.093217716816, 1351.9093697305839, 1340.4777307052739, 2980.601420352976, 3244.5174788614595, 10223.99564606849, 6678.034517579146, 2330.700893341731, 2918.9615801191107, 7687.261023274122, 5981.88233563851, 10484.902556670006, 3992.397483902796, 11918.019780395874, 2129.577079950855, 2283.3593433777683, 8735.520017542429, 3462.8180957288896, 1223.5593018844627, 1015.3477868514033, 465.8415923180017, 409.231872258883, 351.37236794116313, 342.1082061688229, 332.89667351993086, 288.7778854824896, 285.37190491578394, 271.4663575713675, 270.12363558016807, 236.40628159713796, 193.27343518374468, 191.7097195984732, 178.15940119111744, 177.3568467650715, 166.1826106644617, 155.54081504094898, 154.64526241331143, 150.8222167121509, 149.2093338645873, 147.22454459238736, 142.24567418338586, 142.32323320750507, 135.49025117626556, 122.0902037632038, 119.25748609179612, 117.17644341873665, 845.2554150733685, 205.85511369109196, 588.4828497926612, 2765.049032651074, 1118.7593638136743, 857.2299697080762, 7148.304945564991, 658.573982081608, 428.84929535613, 588.1307871426569, 1392.2737964331013, 13184.586347287262, 7888.403166142611, 1137.918602449872, 3204.4156014890823, 5025.294714246361, 1082.0046551339574, 2124.230607960239, 1287.0645665236457, 2797.4868557125305, 2527.017230952561, 656.9238858723736, 10484.902556670006, 3993.093217716816, 2402.6934670616492, 11918.019780395874, 10223.99564606849, 2747.8835020751517, 6352.39115628202, 5945.6560206518925, 3067.257403453657, 5315.693421023362, 2125.8942993218957, 2279.0727274608507, 2597.9095986975226, 2111.35675425045, 4076.8337367689937, 1939.0243510868784, 1426.4555310435708, 857.7690391788951, 850.1393731784106, 801.8482700742295, 795.8686599983403, 778.8832614855047, 734.1324762471336, 647.058892290102, 440.0399538528829, 424.89320484033595, 393.35589254706434, 379.83968905801095, 350.7790610911165, 339.31669269697375, 317.97220227633034, 302.5392054245301, 292.7968379490481, 252.20502682929745, 239.54263402528636, 237.72869612989265, 228.64960841882194, 215.38561705600796, 207.85672436601823, 207.12068821178065, 191.7845735908121, 189.66339016762888, 181.24471375679641, 171.04323572467214, 337.98289741788824, 2100.4334533033466, 1211.9969830802377, 2111.35675425045, 759.5949567343156, 617.7339398699631, 826.7059091549404, 7070.846812430124, 7888.403166142611, 1351.16230058276, 2405.613048635928, 2124.230607960239, 6352.39115628202, 5254.639707506959, 1041.0366764755122, 6678.034517579146, 7687.261023274122, 7148.304945564991, 13184.586347287262, 5015.975630907233, 2125.8942993218957, 2797.4868557125305, 11918.019780395874, 2473.2097397979555, 2327.791750509794, 1193.1318877141903, 857.9092231854859, 704.1937113296096, 638.6281690829682, 590.1604905780888, 541.025070596384, 460.17733236513453, 424.48005397949345, 391.5345928576435, 387.74235741282274, 358.8741288783174, 323.8676562469477, 253.89498739002934, 252.93033688955, 232.6730504918018, 231.44904108522212, 229.78112388151743, 227.52545679412017, 217.27535682799802, 211.59111366978243, 199.15538731358023, 191.1858767467812, 182.06481231756734, 171.38518581333005, 171.26518279580412, 169.95124713700073, 164.84618596466385, 164.51956768422113, 1773.0671374219228, 3977.857453770554, 570.5177815482548, 1804.169740125276, 1212.5727603870384, 1806.6264780963725, 378.7144177618352, 7070.846812430124, 1212.8539974410237, 980.9710220538192, 479.48747140419675, 990.6913735689311, 2229.6413506331337, 968.810847163817, 741.7426225562152, 5015.975630907233, 2093.5002057144443, 1916.2589703448482], \"Category\": [\"Default\", \"Default\", \"Default\", \"Default\", \"Default\", \"Default\", \"Default\", \"Default\", \"Default\", \"Default\", \"Default\", \"Default\", \"Default\", \"Default\", \"Default\", \"Default\", \"Default\", \"Default\", \"Default\", \"Default\", \"Default\", \"Default\", \"Default\", \"Default\", \"Default\", \"Default\", \"Default\", \"Default\", \"Default\", \"Default\", \"Topic1\", \"Topic1\", \"Topic1\", \"Topic1\", \"Topic1\", \"Topic1\", \"Topic1\", \"Topic1\", \"Topic1\", \"Topic1\", \"Topic1\", \"Topic1\", \"Topic1\", \"Topic1\", \"Topic1\", \"Topic1\", \"Topic1\", \"Topic1\", \"Topic1\", \"Topic1\", \"Topic1\", \"Topic1\", \"Topic1\", \"Topic1\", \"Topic1\", \"Topic1\", \"Topic1\", \"Topic1\", \"Topic1\", \"Topic1\", \"Topic1\", \"Topic1\", \"Topic1\", \"Topic1\", \"Topic1\", \"Topic1\", \"Topic1\", \"Topic1\", \"Topic1\", \"Topic1\", \"Topic1\", \"Topic1\", \"Topic1\", \"Topic1\", \"Topic1\", \"Topic1\", \"Topic1\", \"Topic1\", \"Topic1\", \"Topic1\", \"Topic1\", \"Topic2\", \"Topic2\", \"Topic2\", \"Topic2\", \"Topic2\", \"Topic2\", \"Topic2\", \"Topic2\", \"Topic2\", \"Topic2\", \"Topic2\", \"Topic2\", \"Topic2\", \"Topic2\", \"Topic2\", \"Topic2\", \"Topic2\", \"Topic2\", \"Topic2\", \"Topic2\", \"Topic2\", \"Topic2\", \"Topic2\", \"Topic2\", \"Topic2\", \"Topic2\", \"Topic2\", \"Topic2\", \"Topic2\", \"Topic2\", \"Topic2\", \"Topic2\", \"Topic2\", \"Topic2\", \"Topic2\", \"Topic2\", \"Topic2\", \"Topic2\", \"Topic2\", \"Topic2\", \"Topic2\", \"Topic2\", \"Topic2\", \"Topic2\", \"Topic2\", \"Topic2\", \"Topic2\", \"Topic2\", \"Topic2\", \"Topic2\", \"Topic2\", \"Topic2\", \"Topic2\", \"Topic2\", \"Topic2\", \"Topic2\", \"Topic2\", \"Topic2\", \"Topic2\", \"Topic2\", \"Topic3\", \"Topic3\", \"Topic3\", \"Topic3\", \"Topic3\", \"Topic3\", \"Topic3\", \"Topic3\", \"Topic3\", \"Topic3\", \"Topic3\", \"Topic3\", \"Topic3\", \"Topic3\", \"Topic3\", \"Topic3\", \"Topic3\", \"Topic3\", \"Topic3\", \"Topic3\", \"Topic3\", \"Topic3\", \"Topic3\", \"Topic3\", \"Topic3\", \"Topic3\", \"Topic3\", \"Topic3\", \"Topic3\", \"Topic3\", \"Topic3\", \"Topic3\", \"Topic3\", \"Topic3\", \"Topic3\", \"Topic3\", \"Topic3\", \"Topic3\", \"Topic3\", \"Topic3\", \"Topic3\", \"Topic3\", \"Topic3\", \"Topic3\", \"Topic3\", \"Topic3\", \"Topic3\", \"Topic3\", \"Topic3\", \"Topic3\", \"Topic3\", \"Topic3\", \"Topic3\", \"Topic3\", \"Topic3\", \"Topic3\", \"Topic3\", \"Topic3\", \"Topic3\", \"Topic4\", \"Topic4\", \"Topic4\", \"Topic4\", \"Topic4\", \"Topic4\", \"Topic4\", \"Topic4\", \"Topic4\", \"Topic4\", \"Topic4\", \"Topic4\", \"Topic4\", \"Topic4\", \"Topic4\", \"Topic4\", \"Topic4\", \"Topic4\", \"Topic4\", \"Topic4\", \"Topic4\", \"Topic4\", \"Topic4\", \"Topic4\", \"Topic4\", \"Topic4\", \"Topic4\", \"Topic4\", \"Topic4\", \"Topic4\", \"Topic4\", \"Topic4\", \"Topic4\", \"Topic4\", \"Topic4\", \"Topic4\", \"Topic4\", \"Topic4\", \"Topic4\", \"Topic4\", \"Topic4\", \"Topic4\", \"Topic4\", \"Topic4\", \"Topic4\", \"Topic4\", \"Topic4\", \"Topic4\", \"Topic4\", \"Topic4\", \"Topic4\", \"Topic4\", \"Topic4\", \"Topic4\", \"Topic4\", \"Topic4\", \"Topic4\", \"Topic4\", \"Topic4\", \"Topic4\", \"Topic4\", \"Topic4\", \"Topic5\", \"Topic5\", \"Topic5\", \"Topic5\", \"Topic5\", \"Topic5\", \"Topic5\", \"Topic5\", \"Topic5\", \"Topic5\", \"Topic5\", \"Topic5\", \"Topic5\", \"Topic5\", \"Topic5\", \"Topic5\", \"Topic5\", \"Topic5\", \"Topic5\", \"Topic5\", \"Topic5\", \"Topic5\", \"Topic5\", \"Topic5\", \"Topic5\", \"Topic5\", \"Topic5\", \"Topic5\", \"Topic5\", \"Topic5\", \"Topic5\", \"Topic5\", \"Topic5\", \"Topic5\", \"Topic5\", \"Topic5\", \"Topic5\", \"Topic5\", \"Topic5\", \"Topic5\", \"Topic5\", \"Topic5\", \"Topic5\", \"Topic5\", \"Topic5\", \"Topic5\", \"Topic5\", \"Topic5\", \"Topic5\", \"Topic5\", \"Topic5\", \"Topic5\", \"Topic5\", \"Topic5\", \"Topic5\", \"Topic5\", \"Topic5\", \"Topic5\", \"Topic5\", \"Topic5\", \"Topic5\", \"Topic5\", \"Topic5\", \"Topic5\", \"Topic5\", \"Topic5\", \"Topic6\", \"Topic6\", \"Topic6\", \"Topic6\", \"Topic6\", \"Topic6\", \"Topic6\", \"Topic6\", \"Topic6\", \"Topic6\", \"Topic6\", \"Topic6\", \"Topic6\", \"Topic6\", \"Topic6\", \"Topic6\", \"Topic6\", \"Topic6\", \"Topic6\", \"Topic6\", \"Topic6\", \"Topic6\", \"Topic6\", \"Topic6\", \"Topic6\", \"Topic6\", \"Topic6\", \"Topic6\", \"Topic6\", \"Topic6\", \"Topic6\", \"Topic6\", \"Topic6\", \"Topic6\", \"Topic6\", \"Topic6\", \"Topic6\", \"Topic6\", \"Topic6\", \"Topic6\", \"Topic6\", \"Topic6\", \"Topic6\", \"Topic6\", \"Topic6\", \"Topic6\", \"Topic6\", \"Topic6\", \"Topic6\", \"Topic6\", \"Topic6\", \"Topic6\", \"Topic6\", \"Topic7\", \"Topic7\", \"Topic7\", \"Topic7\", \"Topic7\", \"Topic7\", \"Topic7\", \"Topic7\", \"Topic7\", \"Topic7\", \"Topic7\", \"Topic7\", \"Topic7\", \"Topic7\", \"Topic7\", \"Topic7\", \"Topic7\", \"Topic7\", \"Topic7\", \"Topic7\", \"Topic7\", \"Topic7\", \"Topic7\", \"Topic7\", \"Topic7\", \"Topic7\", \"Topic7\", \"Topic7\", \"Topic7\", \"Topic7\", \"Topic7\", \"Topic7\", \"Topic7\", \"Topic7\", \"Topic7\", \"Topic7\", \"Topic7\", \"Topic7\", \"Topic7\", \"Topic7\", \"Topic7\", \"Topic7\", \"Topic7\", \"Topic7\", \"Topic7\", \"Topic7\", \"Topic7\", \"Topic7\"], \"logprob\": [30.0, 29.0, 28.0, 27.0, 26.0, 25.0, 24.0, 23.0, 22.0, 21.0, 20.0, 19.0, 18.0, 17.0, 16.0, 15.0, 14.0, 13.0, 12.0, 11.0, 10.0, 9.0, 8.0, 7.0, 6.0, 5.0, 4.0, 3.0, 2.0, 1.0, -2.427999973297119, -3.2235000133514404, -3.774600028991699, -3.959399938583374, -4.324900150299072, -4.5081000328063965, -4.669099807739258, -5.03439998626709, -5.0432000160217285, -5.156400203704834, -5.201000213623047, -5.492400169372559, -5.532899856567383, -5.587100028991699, -5.607100009918213, -5.695199966430664, -5.720399856567383, -5.731299877166748, -5.754799842834473, -5.879199981689453, -5.986599922180176, -6.010700225830078, -6.15910005569458, -6.188399791717529, -6.248700141906738, -6.2621002197265625, -6.405600070953369, -6.457099914550781, -6.467599868774414, -6.482900142669678, -3.3610000610351562, -4.682799816131592, -3.4477999210357666, -4.7484002113342285, -5.5914998054504395, -5.309800148010254, -4.30019998550415, -4.948200225830078, -4.95959997177124, -4.218400001525879, -4.55049991607666, -4.457399845123291, -5.188799858093262, -5.016600131988525, -4.6645002365112305, -5.242800235748291, -5.088600158691406, -5.202000141143799, -5.070700168609619, -5.1082000732421875, -5.253600120544434, -3.7848000526428223, -3.864000082015991, -5.003300189971924, -5.006800174713135, -5.136000156402588, -5.3831000328063965, -5.545899868011475, -5.592100143432617, -5.671299934387207, -5.7779998779296875, -5.793600082397461, -5.840400218963623, -5.845300197601318, -5.863500118255615, -5.875999927520752, -5.89139986038208, -5.917500019073486, -5.922500133514404, -5.9653000831604, -5.987299919128418, -5.98769998550415, -6.052800178527832, -6.176599979400635, -6.203199863433838, -6.366399765014648, -6.382999897003174, -6.399799823760986, -6.42549991607666, -6.441699981689453, -6.454999923706055, -5.335899829864502, -5.063600063323975, -4.818699836730957, -5.588900089263916, -4.483399868011475, -3.616300106048584, -5.4222002029418945, -3.674799919128418, -5.467700004577637, -3.3717000484466553, -4.824999809265137, -4.702300071716309, -5.27400016784668, -4.639200210571289, -5.40910005569458, -4.8709001541137695, -4.896200180053711, -3.923799991607666, -5.381400108337402, -4.400199890136719, -5.270299911499023, -5.002600193023682, -5.082799911499023, -5.1149001121521, -5.281300067901611, -5.057199954986572, -5.1828999519348145, -5.104899883270264, -5.310299873352051, -5.3379998207092285, -2.1175999641418457, -3.8394999504089355, -4.2571001052856445, -4.628499984741211, -5.173699855804443, -5.228799819946289, -5.474100112915039, -5.499800205230713, -5.557499885559082, -5.870699882507324, -5.885200023651123, -5.912600040435791, -5.960599899291992, -5.9832000732421875, -5.99399995803833, -6.163899898529053, -6.184800148010254, -6.215799808502197, -6.34660005569458, -6.44350004196167, -6.517600059509277, -6.5320000648498535, -6.596199989318848, -6.670599937438965, -6.721799850463867, -6.728799819946289, -6.775300025939941, -6.79449987411499, -6.816800117492676, -6.856200218200684, -3.353100061416626, -5.549300193786621, -3.1379001140594482, -4.47599983215332, -3.5727999210357666, -4.331900119781494, -4.3719000816345215, -4.32889986038208, -4.365900039672852, -4.267199993133545, -3.288599967956543, -5.0503997802734375, -5.307300090789795, -4.296000003814697, -3.937700033187866, -4.634500026702881, -4.896900177001953, -5.561999797821045, -5.32390022277832, -4.5218000411987305, -5.163700103759766, -4.918000221252441, -4.717299938201904, -4.737800121307373, -4.690800189971924, -4.625400066375732, -4.739799976348877, -5.011000156402588, -5.161900043487549, -3.5927000045776367, -4.812600135803223, -4.9008002281188965, -4.969900131225586, -5.021200180053711, -5.0777997970581055, -5.138400077819824, -5.146200180053711, -5.237400054931641, -5.353799819946289, -5.354000091552734, -5.486000061035156, -5.643400192260742, -5.790200233459473, -5.817200183868408, -5.847499847412109, -5.936500072479248, -5.977499961853027, -6.110099792480469, -6.1178998947143555, -6.150300025939941, -6.267600059509277, -6.3024001121521, -6.30679988861084, -6.327400207519531, -6.388800144195557, -6.416100025177002, -6.473299980163574, -6.476200103759766, -6.480599880218506, -5.412499904632568, -3.444999933242798, -4.896999835968018, -5.488100051879883, -5.808499813079834, -4.031899929046631, -4.306000232696533, -4.6803998947143555, -4.482500076293945, -4.664999961853027, -5.702499866485596, -5.415999889373779, -5.230000019073486, -4.853799819946289, -5.283899784088135, -5.508600234985352, -4.696800231933594, -5.239099979400635, -5.24560022354126, -4.907899856567383, -4.905600070953369, -4.554299831390381, -4.759300231933594, -5.075900077819824, -5.042900085449219, -4.864200115203857, -4.940800189971924, -4.835899829864502, -5.043600082397461, -4.905700206756592, -5.208600044250488, -5.222300052642822, -2.6394999027252197, -3.565000057220459, -4.6057000160217285, -4.792399883270264, -5.5725998878479, -5.702400207519531, -5.855199813842773, -5.881899833679199, -5.909299850463867, -6.0518999099731445, -6.063799858093262, -6.113900184631348, -6.118899822235107, -6.252699851989746, -6.454899787902832, -6.463099956512451, -6.5366997718811035, -6.541299819946289, -6.6066999435424805, -6.6732001304626465, -6.678999900817871, -6.70419979095459, -6.715000152587891, -6.728499889373779, -6.7631001472473145, -6.762499809265137, -6.811999797821045, -6.916900157928467, -6.940499782562256, -6.9583001136779785, -5.038300037384033, -6.426499843597412, -5.444399833679199, -4.062900066375732, -4.90500020980835, -5.179200172424316, -3.3160998821258545, -5.4506001472473145, -5.832699775695801, -5.595900058746338, -4.902699947357178, -3.109800100326538, -3.526700019836426, -5.070499897003174, -4.262700080871582, -3.9133999347686768, -5.132500171661377, -4.6528000831604, -5.024099826812744, -4.499499797821045, -4.587800025939941, -5.519400119781494, -3.7281999588012695, -4.3846001625061035, -4.72130012512207, -3.846100091934204, -3.9470999240875244, -4.710899829864502, -4.292399883270264, -4.403200149536133, -4.716599941253662, -4.490200042724609, -4.888500213623047, -4.933000087738037, -4.9045000076293945, -4.970099925994873, -3.0362000465393066, -3.779599905014038, -4.086699962615967, -4.595699787139893, -4.604700088500977, -4.6631999015808105, -4.6707000732421875, -4.692299842834473, -4.751500129699707, -4.877999782562256, -5.264200210571289, -5.299300193786621, -5.376500129699707, -5.411600112915039, -5.491399765014648, -5.524700164794922, -5.589799880981445, -5.639699935913086, -5.672500133514404, -5.822199821472168, -5.873899936676025, -5.8815999031066895, -5.920599937438965, -5.980599880218506, -6.01639986038208, -6.019899845123291, -6.0971999168396, -6.10830020904541, -6.1539998054504395, -6.212200164794922, -5.570400238037109, -4.009200096130371, -4.587900161743164, -4.209199905395508, -5.025300025939941, -5.223499774932861, -5.104599952697754, -4.124499797821045, -4.076300144195557, -4.9944000244140625, -4.725900173187256, -4.789000034332275, -4.34660005569458, -4.482500076293945, -5.150100231170654, -4.4959001541137695, -4.5030999183654785, -4.558300018310547, -4.43310022354126, -4.916200160980225, -5.113500118255615, -5.115200042724609, -5.048699855804443, -3.156399965286255, -3.217099905014038, -3.885699987411499, -4.21589994430542, -4.41349983215332, -4.51140022277832, -4.590400218963623, -4.677499771118164, -4.839600086212158, -4.920499801635742, -5.001500129699707, -5.011199951171875, -5.088799953460693, -5.191699981689453, -5.435800075531006, -5.439599990844727, -5.523399829864502, -5.52869987487793, -5.535999774932861, -5.545899868011475, -5.592199802398682, -5.618800163269043, -5.679599761962891, -5.720600128173828, -5.769700050354004, -5.83050012588501, -5.831200122833252, -5.838900089263916, -5.86959981918335, -5.871600151062012, -3.6428000926971436, -2.982100009918213, -4.977700233459473, -4.280900001525879, -4.550899982452393, -4.483699798583984, -5.36959981918335, -4.0121002197265625, -4.84660005569458, -4.954400062561035, -5.301499843597412, -5.086400032043457, -4.854300022125244, -5.133900165557861, -5.22599983215332, -4.88539981842041, -5.099599838256836, -5.269199848175049], \"loglift\": [30.0, 29.0, 28.0, 27.0, 26.0, 25.0, 24.0, 23.0, 22.0, 21.0, 20.0, 19.0, 18.0, 17.0, 16.0, 15.0, 14.0, 13.0, 12.0, 11.0, 10.0, 9.0, 8.0, 7.0, 6.0, 5.0, 4.0, 3.0, 2.0, 1.0, 1.5969, 1.5968, 1.5967, 1.5967, 1.5966, 1.5965, 1.5964, 1.5962, 1.5961, 1.5961, 1.596, 1.5957, 1.5956, 1.5956, 1.5955, 1.5954, 1.5954, 1.5954, 1.5953, 1.5951, 1.5949, 1.5949, 1.5945, 1.5945, 1.5943, 1.5943, 1.5938, 1.5937, 1.5936, 1.5936, 1.4102, 1.4197, 0.9465, 1.2146, 1.3818, 1.2328, 0.8061, 0.9689, 0.7111, -0.0784, 0.2124, -0.2165, 0.7896, 0.4745, -0.2954, 0.6505, 0.2496, 0.3962, -0.3186, -0.288, 0.2329, 1.7924, 1.7923, 1.7917, 1.7917, 1.7916, 1.7913, 1.791, 1.791, 1.7908, 1.7906, 1.7906, 1.7905, 1.7905, 1.7904, 1.7904, 1.7904, 1.7903, 1.7903, 1.7902, 1.7902, 1.7902, 1.79, 1.7896, 1.7896, 1.789, 1.789, 1.7889, 1.7888, 1.7887, 1.7887, 1.7334, 1.6488, 1.5958, 1.6707, 1.4873, 1.32, 1.6291, 1.1953, 1.6115, 0.8692, 1.3756, 1.2857, 1.509, 1.202, 1.554, 1.1977, 1.2131, 0.2161, 1.3775, 0.3628, 1.1989, 0.6242, 0.6978, 0.5932, 0.8649, 0.0491, 0.3036, -0.4513, 0.6141, 0.718, 1.8244, 1.8242, 1.824, 1.8238, 1.8233, 1.8233, 1.8229, 1.8229, 1.8228, 1.8222, 1.8222, 1.8221, 1.822, 1.8219, 1.8219, 1.8214, 1.8213, 1.8213, 1.8208, 1.8204, 1.8201, 1.8201, 1.8198, 1.8194, 1.8191, 1.8191, 1.8188, 1.8187, 1.8186, 1.8184, 1.5772, 1.7283, 1.5415, 1.6108, 1.4871, 1.5299, 1.5146, 1.4581, 1.4542, 1.4081, 1.0805, 1.4144, 1.4947, 1.0385, 0.8825, 1.146, 1.2344, 1.5426, 1.3597, 0.5827, 1.1533, 0.7298, 0.0539, -0.0842, -0.2965, -0.4855, -0.4989, 0.3234, -0.4098, 1.9019, 1.9013, 1.9012, 1.9012, 1.9011, 1.9011, 1.901, 1.901, 1.9009, 1.9007, 1.9007, 1.9005, 1.9002, 1.8999, 1.8999, 1.8998, 1.8996, 1.8995, 1.8991, 1.899, 1.8989, 1.8985, 1.8984, 1.8984, 1.8983, 1.8981, 1.8979, 1.8977, 1.8977, 1.8977, 1.8153, 1.6033, 1.7398, 1.7938, 1.8041, 1.4539, 1.5084, 1.4784, 1.4127, 1.3467, 1.7136, 1.5325, 1.3964, 1.1111, 1.3986, 1.5593, 0.6377, 1.1783, 1.1804, 0.719, 0.6364, -0.1601, 0.0608, 0.7969, 0.6049, -0.1848, -0.0105, -0.4669, 0.291, -0.6648, 0.7545, 0.671, 1.9121, 1.9119, 1.9115, 1.9113, 1.9103, 1.9101, 1.9097, 1.9097, 1.9096, 1.9092, 1.9092, 1.909, 1.909, 1.9085, 1.9077, 1.9077, 1.9073, 1.9073, 1.9069, 1.9066, 1.9066, 1.9064, 1.9064, 1.9063, 1.9061, 1.9061, 1.9058, 1.9051, 1.9049, 1.9048, 1.8488, 1.873, 1.8048, 1.639, 1.7018, 1.6938, 1.436, 1.686, 1.7329, 1.6539, 1.4854, 1.0302, 1.1268, 1.5192, 1.2918, 1.1911, 1.5077, 1.3127, 1.4425, 1.1907, 1.2041, 1.6198, 0.6408, 0.9498, 1.1211, 0.3949, 0.4472, 0.9973, 0.5778, 0.5331, 0.8816, 0.5581, 1.0763, 0.9622, 0.8597, 1.0015, 2.2775, 2.2772, 2.2771, 2.2767, 2.2767, 2.2766, 2.2766, 2.2766, 2.2765, 2.2763, 2.2757, 2.2756, 2.2755, 2.2754, 2.2752, 2.2751, 2.275, 2.2748, 2.2747, 2.2743, 2.2741, 2.274, 2.2739, 2.2737, 2.2735, 2.2735, 2.2732, 2.2731, 2.2729, 2.2726, 2.2334, 1.9677, 1.9388, 1.7625, 1.9687, 1.9771, 1.8047, 0.6385, 0.5773, 1.4236, 1.1153, 1.1765, 0.5235, 0.5773, 1.5286, 0.3243, 0.1763, 0.1938, -0.2932, 0.1902, 0.8513, 0.5751, -0.8078, 2.657, 2.657, 2.6566, 2.6564, 2.6561, 2.656, 2.6559, 2.6558, 2.6555, 2.6553, 2.6552, 2.6551, 2.655, 2.6547, 2.654, 2.654, 2.6537, 2.6536, 2.6536, 2.6536, 2.6534, 2.6533, 2.653, 2.6529, 2.6526, 2.6524, 2.6523, 2.6523, 2.6521, 2.6521, 2.5035, 2.3561, 2.3024, 1.848, 1.9754, 1.6438, 2.3203, 0.7509, 1.6794, 1.7838, 2.1525, 1.642, 1.0628, 1.6168, 1.7917, 0.2209, 0.8806, 0.7994]}, \"token.table\": {\"Topic\": [5, 7, 7, 1, 2, 3, 6, 1, 3, 1, 4, 4, 5, 7, 3, 2, 3, 1, 4, 6, 6, 7, 5, 6, 1, 3, 5, 1, 3, 4, 6, 6, 1, 3, 4, 5, 6, 1, 5, 6, 1, 5, 6, 4, 7, 1, 1, 3, 4, 1, 2, 6, 3, 7, 4, 6, 4, 4, 3, 5, 6, 1, 5, 4, 3, 4, 6, 7, 3, 7, 2, 4, 2, 3, 6, 1, 5, 6, 6, 6, 3, 2, 4, 5, 6, 4, 7, 1, 4, 6, 5, 5, 2, 2, 2, 3, 7, 4, 6, 5, 1, 3, 4, 1, 3, 4, 5, 2, 1, 5, 6, 3, 2, 1, 7, 2, 1, 2, 3, 4, 5, 7, 4, 4, 3, 1, 3, 6, 4, 1, 2, 1, 3, 5, 6, 5, 5, 6, 6, 3, 5, 6, 7, 1, 2, 4, 5, 6, 7, 4, 7, 6, 1, 2, 3, 4, 5, 6, 6, 2, 5, 5, 1, 2, 7, 2, 6, 1, 2, 4, 5, 6, 7, 2, 1, 2, 3, 4, 5, 6, 1, 2, 4, 5, 2, 6, 5, 2, 7, 7, 1, 2, 3, 4, 6, 7, 1, 3, 4, 5, 5, 3, 1, 1, 1, 1, 7, 1, 5, 1, 2, 5, 6, 1, 4, 6, 4, 6, 2, 7, 7, 7, 1, 2, 3, 4, 5, 6, 6, 6, 5, 1, 2, 3, 4, 5, 6, 5, 1, 3, 4, 6, 7, 4, 1, 2, 3, 5, 6, 7, 2, 2, 4, 6, 1, 1, 4, 3, 3, 4, 6, 1, 5, 2, 4, 6, 2, 5, 3, 5, 6, 5, 7, 1, 3, 4, 6, 1, 2, 7, 3, 4, 1, 2, 3, 3, 3, 4, 5, 1, 2, 4, 5, 6, 2, 6, 1, 2, 3, 4, 5, 6, 1, 2, 3, 4, 5, 6, 1, 2, 3, 4, 5, 6, 3, 4, 1, 2, 3, 4, 5, 6, 1, 3, 5, 6, 1, 2, 3, 4, 6, 2, 2, 3, 4, 5, 3, 2, 6, 1, 1, 2, 7, 2, 6, 1, 7, 6, 7, 1, 4, 6, 1, 2, 4, 6, 7, 1, 2, 4, 5, 7, 1, 2, 3, 4, 5, 6, 2, 4, 7, 1, 2, 3, 4, 5, 6, 7, 1, 3, 5, 6, 5, 6, 1, 1, 3, 3, 3, 3, 4, 2, 7, 6, 1, 2, 3, 5, 6, 6, 4, 5, 6, 2, 4, 6, 6, 5, 7, 1, 2, 4, 5, 2, 2, 4, 5, 5, 7, 1, 2, 5, 6, 1, 2, 3, 4, 6, 2, 1, 2, 3, 5, 6, 5, 2, 2, 3, 5, 2, 1, 2, 4, 6, 5, 6, 2, 1, 2, 3, 6, 5, 7, 5, 4, 2, 1, 5, 7, 7, 3, 1, 4, 7, 2, 4, 5, 5, 6, 1, 4, 5, 4, 3, 7, 2, 6, 4, 5, 7, 1, 3, 4, 5, 4, 1, 2, 3, 4, 6, 3, 3, 4, 5, 7, 3, 5, 5, 4, 1, 3, 4, 6, 2, 1, 1, 3, 4, 1, 1, 3, 4, 5, 1, 1, 7, 5, 7, 1, 4, 6, 6, 6, 7, 6, 1, 2, 3, 6, 1, 2, 4, 4, 5, 4, 1, 3, 4, 5, 6, 5, 3, 1, 5, 2, 1, 4, 4, 5, 3, 4, 5, 3, 4, 1, 3, 4, 5, 6, 1, 2, 3, 4, 6, 7, 1, 3, 4, 1, 2, 3, 4, 5, 6, 7, 1, 7, 1, 3, 4, 5, 4, 2, 1, 2, 1, 3, 5, 3, 4, 2, 1, 2, 4, 7, 2, 6, 3, 3, 4, 3, 1, 4, 5, 2, 3, 5, 7, 6, 6, 1, 2, 7, 1, 2, 3, 4, 5, 6, 7, 1, 3, 4, 5, 6, 2, 5, 1, 2, 3, 4, 5, 6, 7, 4, 5, 6, 7, 1, 4, 1, 7, 2, 4, 1, 3, 4, 5, 1, 2, 3, 4, 5, 6, 7, 1, 2, 6, 6, 1, 7, 2, 4], \"Freq\": [0.9962979467083897, 0.9972063398148896, 0.9976905582279716, 0.20077743887200905, 0.6023323166160272, 0.09581465308280528, 0.10111094043914125, 0.806038141403426, 0.19215949291057674, 0.9988466275094751, 0.9985609995774056, 0.09465086233325866, 0.2033240746418149, 0.7011174987648789, 0.9984600884706739, 0.9996152854371962, 0.9968788918963436, 0.9973665694599546, 0.2661355441282189, 0.7336580921316375, 0.9969424928677084, 0.9964749702259601, 0.40211110618366447, 0.5972462955213202, 0.9962382191415549, 0.9962384063962157, 0.9995428894344547, 0.046244845227512335, 0.7136550189430916, 0.057473017525550306, 0.18269568484943144, 0.9977790547454766, 0.17858943225838372, 0.4556159569116409, 0.19962942147255516, 0.1074542306295184, 0.05861139852519185, 0.14430123852720497, 0.7609268317324293, 0.0947541967271371, 0.9989681281538402, 0.8107194713509972, 0.18949562064653958, 0.9989391436864152, 0.9937972575853401, 0.9998727404471469, 0.30771293498979363, 0.20711447547389955, 0.48523962825313605, 0.4699657470654138, 0.10361449541599674, 0.4255595347442723, 0.9959624867472195, 0.9986346216467319, 0.9996886067079993, 0.9986597807202473, 0.9988622984356628, 0.9983220742025777, 0.9968731373155557, 0.7719371437868254, 0.22614017648380572, 0.2019514946211755, 0.7971769524520086, 0.9961923241673138, 0.9984135448248536, 0.6905975099465136, 0.22265165621226393, 0.08553848939228219, 0.9986229851168602, 0.9966005741972077, 0.08150412972080896, 0.916505621962566, 0.6598206785649096, 0.12488719468105543, 0.21438968420247848, 0.2846568159744822, 0.6672799387453772, 0.04713473251525517, 0.999103442600783, 0.9969347573862328, 0.9969352429637933, 0.5541207056371183, 0.04822055652956169, 0.08480166837957401, 0.3126022285364689, 0.9977299741593217, 0.9974415681035754, 0.9969869486203919, 0.041422214280535455, 0.9556696580437822, 0.997306284443527, 0.9982814263885327, 0.9962381540343612, 0.9980641998669245, 0.4658433753708873, 0.15747979592183978, 0.37597270649402587, 0.9946443677503402, 0.9982177337189292, 0.9999404709117048, 0.6949733609504981, 0.11904248161033863, 0.18527034109778054, 0.5218116463157443, 0.11991397907836972, 0.1271518538351392, 0.23112294662494914, 0.9976119558567291, 0.0707035236357959, 0.6254542475474254, 0.30379206309446377, 0.9932415170347293, 0.9973178392386304, 0.28517530607434843, 0.712938265185871, 0.998136748333025, 0.22105774395820177, 0.17159733549266803, 0.05248859673893375, 0.11406175829806758, 0.07873289510840063, 0.36237319671686957, 0.9983192183967191, 0.9956056218384058, 0.9938116109865057, 0.9984554236193548, 0.996368530069016, 0.9982096434233689, 0.9983396370949422, 0.9949141604568064, 0.9986631188635102, 0.15799895506119221, 0.17336989412823126, 0.4861506309575145, 0.18230648660906792, 0.9894557051887862, 0.8037516469876039, 0.19481353417551503, 0.9965530132565584, 0.15131613945650355, 0.13191663439797743, 0.27103879924626456, 0.4450800731998987, 0.4535508478115401, 0.17484135979372337, 0.06100508106827748, 0.09908341598344414, 0.12400379223682546, 0.0875203614018752, 0.9965519821580087, 0.9980598706172354, 0.9972785295270615, 0.22474777053453587, 0.08032651798734339, 0.07658072181176778, 0.07741312096189569, 0.4532413372446474, 0.08781811033849458, 0.993900748426255, 0.9955452461164782, 0.9907026198205052, 0.9997637485694387, 0.16208429854238524, 0.41897262076050523, 0.41795322265646506, 0.9985304380516751, 0.9996806552790065, 0.1753890401603954, 0.39533028023291694, 0.06203470873840352, 0.12294151368156334, 0.11166247572912633, 0.13252869594113478, 0.9972388949908197, 0.22911562848991626, 0.11369970327683111, 0.14974036393816625, 0.3312308336970325, 0.11927742456965679, 0.056635323896383795, 0.13312741880663045, 0.8663217104431475, 0.6129685916413992, 0.3865607224309754, 0.26461471106146905, 0.7346020336930335, 0.9945484376899186, 0.9978476432284747, 0.9988690776516047, 0.9981053177531052, 0.44585831246333724, 0.1554543420995165, 0.021458421455454735, 0.1463941197072134, 0.09250963916351596, 0.13781075112503152, 0.15069286447444166, 0.4752547744785714, 0.09356310129710586, 0.28049855342995755, 0.9986967710928176, 0.9931981220398355, 0.9967454187898246, 0.9988973741331948, 0.9951702276912958, 0.9980883503222922, 0.9948668150269171, 0.9998906034601066, 0.9918950521843035, 0.12967842829231535, 0.18347096150986839, 0.21324897096958523, 0.47260582755421593, 0.14921293715452194, 0.8501453147754552, 0.994589201969845, 0.9971677483017887, 0.9994717182967279, 0.9980399991978306, 0.9980336017123883, 0.9926127262111846, 0.9983048537491825, 0.16311434582427142, 0.39721363844243873, 0.09791895142845923, 0.07677449919197961, 0.21933173867522918, 0.04572907328921189, 0.9978978133089429, 0.9958782937206804, 0.9958402915103866, 0.18726412304228252, 0.20668073523297684, 0.09928259905319879, 0.016382766535898347, 0.41396823959691287, 0.07645291050085896, 0.9989402469427378, 0.37065644601347725, 0.6283785061322231, 0.18473118258775822, 0.30843509949920345, 0.5055366737781062, 0.9984651701433086, 0.13664832686171272, 0.23903834079189748, 0.08083422152383006, 0.34912685201006605, 0.14088250037010383, 0.05350455615148752, 0.9994053045526373, 0.8343845975848186, 0.16486980880112395, 0.995909089161227, 0.9996624780526424, 0.9979897835328261, 0.9964258798055042, 0.9971362602028889, 0.7193339926894557, 0.2477464506543745, 0.03259821719136507, 0.9968131915478765, 0.9934923378538205, 0.7367309489061277, 0.13154219896975175, 0.13154219896975175, 0.7526953463824002, 0.24627850568602613, 0.6934199604492393, 0.3063490796306122, 0.9989421064983391, 0.9928836677933199, 0.9990163774268364, 0.9986010278684865, 0.7808578868513325, 0.147612398649053, 0.07138221316324533, 0.3658752974198022, 0.2706702275919565, 0.3631077081806206, 0.9090725190412249, 0.0909072519041225, 0.4397116810527747, 0.5603742189930911, 0.999580352676077, 0.9989925767437864, 0.554497201714901, 0.18779564547057773, 0.25724669778957837, 0.13454597611581648, 0.1614551713389798, 0.03284504711062579, 0.49267570665938687, 0.1788670035422031, 0.9969120441718795, 0.9952220348482068, 0.1518410839792402, 0.06079633145519874, 0.38978534674355253, 0.15857959362328933, 0.09718428353306399, 0.14180819184254484, 0.24780264098997346, 0.0674984805681644, 0.22037175162665548, 0.28201419963411156, 0.1365380223365152, 0.04592362376555478, 0.07102893123527591, 0.045157466215804555, 0.09595961570858468, 0.11430483635875528, 0.4336998317809562, 0.240369429544543, 0.6638759508358497, 0.3358157555045828, 0.25569049804577476, 0.2256607132125766, 0.03615236232346188, 0.1600616686740369, 0.20729298074178548, 0.11516276707876971, 0.1473076495782837, 0.10701837789875311, 0.6211262717260965, 0.12450504095410493, 0.18426266572145467, 0.14547052556956946, 0.10518638002722716, 0.48564775459379345, 0.0790762856942275, 0.9971547401041596, 0.11269458924810738, 0.22288485429070126, 0.2824877703819225, 0.38190944134080834, 0.9997322049771131, 0.2590111853554315, 0.7398006981714512, 0.9982175349051693, 0.2231549443547431, 0.173101498891997, 0.6027269057805679, 0.8215966629156565, 0.1784797059475663, 0.1421265978492012, 0.8572715425824835, 0.9977893593476412, 0.9941985635981766, 0.9991656169860773, 0.9992716534920276, 0.9989085385039008, 0.533718124514548, 0.1269262430568211, 0.108986138031122, 0.027807162789833598, 0.20317168941604224, 0.3019915442206147, 0.13616583020661646, 0.07145335644505615, 0.06875700337165781, 0.42063107945014194, 0.03562191156837228, 0.10597835612512181, 0.14831899122774225, 0.07137059150531529, 0.45598582174887936, 0.18267321911040732, 0.9976859802999268, 0.995559957960296, 0.9996598705577419, 0.19393358495584445, 0.22832574780515677, 0.08120371783865407, 0.09266777212175818, 0.18055885495888965, 0.05397658891628183, 0.16909480067578556, 0.053935706213899905, 0.7333516183599617, 0.13005464643512962, 0.08220845543892809, 0.8347920910134771, 0.1632275038294508, 0.998955923921021, 0.8296294669619154, 0.17026084282442885, 0.9955911614557648, 0.9997111613745849, 0.9972985477055571, 0.994205503236741, 0.9968326166850423, 0.9973209543150979, 0.9976366831153005, 0.09153691995335757, 0.0499473193658538, 0.2889382777658156, 0.48633963557827364, 0.08337819447925396, 0.9931324134591498, 0.11816042903224101, 0.5489046225163069, 0.33235562907076555, 0.1468650520462689, 0.1402643755498074, 0.7128730616178446, 0.9961195758260275, 0.8989216936166982, 0.10025780703853533, 0.17837441526985287, 0.21694185640928051, 0.6045446398605284, 0.9912427974310143, 0.9991826075884034, 0.34493995830178764, 0.6544721725394845, 0.9899600688977002, 0.9916824698233729, 0.9944028234389247, 0.01322336706500363, 0.550343943562532, 0.26336539404465564, 0.17300571910046417, 0.3880247769890403, 0.15634858395608056, 0.07926917001694841, 0.29211346078068834, 0.08408663338814418, 0.9998389215589724, 0.08967042942196925, 0.34167525693543455, 0.10049272262806899, 0.31796928134112085, 0.14996606299881063, 0.996989793947174, 0.9990861586917247, 0.6233122109868824, 0.12462880419354556, 0.25178045867440985, 0.9980419106313186, 0.06290023988476683, 0.26006829952355515, 0.053223279902495, 0.6229542988587483, 0.9381779588258152, 0.060336791803425695, 0.9968394515274567, 0.12441240319184375, 0.3345050463176931, 0.5074304620749099, 0.03364612161792001, 0.9958274673065194, 0.9995108624317264, 0.9967606559888363, 0.9959689272774932, 0.9947637338009879, 0.9995394891175374, 0.9981933937804609, 0.9975642466035389, 0.9977525139556135, 0.9966305594320172, 0.10184115667567831, 0.897255707952959, 0.9968419094972436, 0.9985190216175459, 0.25269289725940985, 0.7459007208259689, 0.961841542091204, 0.03400449896282034, 0.1659030677939939, 0.6034496202177141, 0.23062349534000254, 0.994555138063353, 0.9922581784335931, 0.9980854363764226, 0.9425765277701661, 0.05678171854037145, 0.7417658784469374, 0.2581036736569105, 0.9941514656016559, 0.9999182711830432, 0.6595789751860881, 0.18628792198261643, 0.15424217358863138, 0.9985854793677597, 0.16811306434128429, 0.15874606075628603, 0.09958603811419187, 0.5738522196283135, 0.9988659898996672, 0.9999615330743719, 0.9964749771804997, 0.7102080913804529, 0.17436246554849444, 0.11482406267827681, 0.9977174423397159, 0.9986725860154945, 0.9923496228658778, 0.998790742283064, 0.9995983598774043, 0.7535844018384422, 0.12410141884237422, 0.12228022401659513, 0.9981326634005436, 0.9981821685165616, 0.13088475194701252, 0.7544255926833418, 0.11470798485243792, 0.9995801493081061, 0.1023587576616402, 0.1579071078560669, 0.2019088908752476, 0.5376955471067258, 0.9974303106268372, 0.9989591240486051, 0.9990513305981967, 0.9963816498086806, 0.9963217662974281, 0.11043404229524677, 0.8272513713753031, 0.060236750342861876, 0.9965022761269713, 0.9977347079466903, 0.99413022789783, 0.9983635302710171, 0.27654422605696993, 0.5523094542940611, 0.151125577056485, 0.018695947677090926, 0.2545738398851232, 0.07042265205089258, 0.6746813848783789, 0.9984108846961749, 0.9965230023977526, 0.9978819287956674, 0.41225644817030505, 0.11077639253555815, 0.16125677394416693, 0.27308484109240444, 0.042417542711400434, 0.991070505826018, 0.9941878700117989, 0.34691452301796455, 0.652888822822629, 0.9981196950537883, 0.68229509684314, 0.3174339197976343, 0.9066683933672833, 0.09286630444193199, 0.9983275002243812, 0.9991453999089683, 0.9982820796818446, 0.9913404442159448, 0.9981468845663796, 0.0870402217704489, 0.22724555197365848, 0.4535501285768256, 0.17266898048516077, 0.059751936026200055, 0.1368851256709402, 0.31101105759059205, 0.04697038625963634, 0.30631401896462845, 0.15802179948777656, 0.040595833838685695, 0.06349223188478452, 0.6906815224902522, 0.24542189632387865, 0.25046504994093327, 0.2392924136081644, 0.031255096576480096, 0.06463157979842264, 0.07170286861663082, 0.19417759094799628, 0.1486384909587357, 0.9995562177116387, 0.997107312211796, 0.062064209681535545, 0.14161129532970082, 0.6387077353142061, 0.15734588369966757, 0.9933285540107174, 0.9987550219914688, 0.21191406973418273, 0.7876565122047635, 0.12221790950630794, 0.7447653860540641, 0.1328271030398416, 0.9982505939481846, 0.9947800390232261, 0.996756760742099, 0.16542649240303517, 0.5515955913880384, 0.12680958250453483, 0.15603318999529184, 0.8859771939615766, 0.11332266434392259, 0.9932335802895373, 0.8077814728553558, 0.191848099803147, 0.9975808878962945, 0.9991584970451071, 0.9989889191469438, 0.9934112249697739, 0.3013228178613502, 0.20997978974154474, 0.4006720078083896, 0.08770386365288091, 0.9971589349165556, 0.9997954940468937, 0.09599397062105205, 0.5501589929142016, 0.3530100855096753, 0.10209110048918145, 0.06714716676469652, 0.3347080710668801, 0.2733848932562644, 0.1075725018577281, 0.0935264108508273, 0.02192560547418662, 0.3009202941235791, 0.192354250848225, 0.07498555541540974, 0.35667042445416636, 0.07498555541540974, 0.9973322585581219, 0.997306450946326, 0.18386578707084236, 0.30764766829298196, 0.10842208574202006, 0.16218136992243834, 0.12107132907858907, 0.09035173811835005, 0.026202004054321517, 0.13885000180139007, 0.6749164644523264, 0.14675917911919079, 0.0395458865890035, 0.8377958031763194, 0.16194506504696896, 0.9989642519920633, 0.9989401871889081, 0.9957228933401143, 0.9976434965528963, 0.10502875421568626, 0.5110953389858873, 0.31776215447421, 0.06622832272199325, 0.3254384057693479, 0.16227981709830672, 0.06971587810360469, 0.1564213399467433, 0.21002640588354857, 0.0251914517517227, 0.051261675076179916, 0.10957733226328824, 0.6592505805188048, 0.23106524412041216, 0.9984573952470776, 0.2599389274293593, 0.7398455158845304, 0.8491175595046939, 0.14918814263875574], \"Term\": [\"accessory\", \"adult\", \"age\", \"amazon\", \"amazon\", \"amazon\", \"amazon\", \"ankle\", \"ankle\", \"arch\", \"arm\", \"baby\", \"baby\", \"baby\", \"backpack\", \"bag\", \"baggy\", \"balance\", \"band\", \"band\", \"battery\", \"bead\", \"beautiful\", \"beautiful\", \"bed\", \"belly\", \"belt\", \"big\", \"big\", \"big\", \"big\", \"birthday\", \"bit\", \"bit\", \"bit\", \"bit\", \"bit\", \"black\", \"black\", \"black\", \"blister\", \"blue\", \"blue\", \"body\", \"boob\", \"boot\", \"bottom\", \"bottom\", \"bottom\", \"box\", \"box\", \"box\", \"boxer\", \"boy\", \"bra\", \"bracelet\", \"bras\", \"breast\", \"brief\", \"bright\", \"bright\", \"brown\", \"brown\", \"bust\", \"butt\", \"button\", \"button\", \"button\", \"calf\", \"cap\", \"card\", \"card\", \"case\", \"case\", \"case\", \"casual\", \"casual\", \"casual\", \"chain\", \"charm\", \"chart\", \"cheap\", \"cheap\", \"cheap\", \"cheap\", \"chest\", \"child\", \"clark\", \"clasp\", \"clasp\", \"classy\", \"clip\", \"cloth\", \"coat\", \"cold\", \"cold\", \"cold\", \"collar\", \"collection\", \"color\", \"comfort\", \"comfort\", \"comfort\", \"comfortable\", \"comfortable\", \"comfortable\", \"comfortable\", \"compartment\", \"compliment\", \"compliment\", \"compliment\", \"compression\", \"condition\", \"construction\", \"construction\", \"costume\", \"couple\", \"couple\", \"couple\", \"couple\", \"couple\", \"couple\", \"cover\", \"coverage\", \"cozy\", \"croc\", \"crotch\", \"crystal\", \"cup\", \"cushion\", \"customer\", \"cute\", \"cute\", \"cute\", \"cute\", \"dad\", \"dark\", \"dark\", \"date\", \"daughter\", \"daughter\", \"daughter\", \"daughter\", \"day\", \"day\", \"day\", \"day\", \"day\", \"day\", \"denim\", \"dial\", \"diamond\", \"different\", \"different\", \"different\", \"different\", \"different\", \"different\", \"digital\", \"dollar\", \"door\", \"dress\", \"durable\", \"durable\", \"durable\", \"ear\", \"earring\", \"easy\", \"easy\", \"easy\", \"easy\", \"easy\", \"easy\", \"elegant\", \"enough\", \"enough\", \"enough\", \"enough\", \"enough\", \"enough\", \"excellent\", \"excellent\", \"fabric\", \"fabric\", \"face\", \"face\", \"fake\", \"fast\", \"feature\", \"finger\", \"first\", \"first\", \"first\", \"first\", \"first\", \"first\", \"fit\", \"fit\", \"fit\", \"fit\", \"flattering\", \"fleece\", \"flimsy\", \"flip\", \"floor\", \"flop\", \"flower\", \"foot\", \"formal\", \"friend\", \"friend\", \"friend\", \"friend\", \"front\", \"front\", \"function\", \"garment\", \"gift\", \"glass\", \"glove\", \"glue\", \"gold\", \"good\", \"good\", \"good\", \"good\", \"good\", \"good\", \"gorgeous\", \"granddaughter\", \"gray\", \"great\", \"great\", \"great\", \"great\", \"great\", \"great\", \"hair\", \"half\", \"half\", \"hand\", \"hand\", \"hand\", \"hane\", \"happy\", \"happy\", \"happy\", \"happy\", \"happy\", \"happy\", \"hat\", \"head\", \"head\", \"heart\", \"heel\", \"hiking\", \"hook\", \"ice\", \"inch\", \"inch\", \"inch\", \"insole\", \"itchy\", \"item\", \"item\", \"item\", \"jacket\", \"jacket\", \"jean\", \"jean\", \"jewelry\", \"keep\", \"kid\", \"knee\", \"large\", \"large\", \"large\", \"last\", \"last\", \"last\", \"lbs\", \"lbs\", \"leather\", \"leather\", \"leg\", \"legging\", \"length\", \"length\", \"length\", \"light\", \"light\", \"light\", \"light\", \"light\", \"lining\", \"link\", \"little\", \"little\", \"little\", \"little\", \"little\", \"little\", \"long\", \"long\", \"long\", \"long\", \"long\", \"long\", \"look\", \"look\", \"look\", \"look\", \"look\", \"look\", \"loose\", \"loose\", \"lot\", \"lot\", \"lot\", \"lot\", \"lot\", \"lot\", \"love\", \"love\", \"love\", \"love\", \"low\", \"low\", \"low\", \"low\", \"low\", \"luggage\", \"material\", \"material\", \"material\", \"material\", \"medium\", \"metal\", \"metal\", \"mile\", \"minute\", \"minute\", \"minute\", \"money\", \"money\", \"month\", \"month\", \"mother\", \"multiple\", \"narrow\", \"neck\", \"necklace\", \"new\", \"new\", \"new\", \"new\", \"new\", \"next\", \"next\", \"next\", \"next\", \"next\", \"nice\", \"nice\", \"nice\", \"nice\", \"nice\", \"nice\", \"number\", \"nylon\", \"old\", \"one\", \"one\", \"one\", \"one\", \"one\", \"one\", \"one\", \"order\", \"order\", \"order\", \"order\", \"outfit\", \"outfit\", \"pain\", \"pair\", \"pair\", \"pajama\", \"pant\", \"pantie\", \"patty\", \"pay\", \"pearl\", \"pendant\", \"perfect\", \"perfect\", \"perfect\", \"perfect\", \"perfect\", \"pic\", \"picture\", \"picture\", \"picture\", \"piece\", \"piece\", \"piece\", \"pin\", \"pink\", \"pink\", \"place\", \"place\", \"place\", \"plain\", \"plastic\", \"pocket\", \"pocket\", \"polish\", \"polyester\", \"pool\", \"price\", \"price\", \"price\", \"price\", \"problem\", \"problem\", \"problem\", \"problem\", \"problem\", \"product\", \"purchase\", \"purchase\", \"purchase\", \"purchase\", \"purchase\", \"purple\", \"purse\", \"quality\", \"quality\", \"quality\", \"rain\", \"real\", \"real\", \"real\", \"real\", \"red\", \"red\", \"resistant\", \"review\", \"review\", \"review\", \"review\", \"rich\", \"ring\", \"robe\", \"roll\", \"runner\", \"sandal\", \"scarf\", \"school\", \"scratch\", \"scrub\", \"seam\", \"seam\", \"separate\", \"service\", \"sexy\", \"sexy\", \"shade\", \"shade\", \"shape\", \"shape\", \"shape\", \"sheer\", \"shine\", \"shiny\", \"shipping\", \"shipping\", \"shirt\", \"shirt\", \"shock\", \"shoe\", \"short\", \"short\", \"short\", \"shoulder\", \"side\", \"side\", \"side\", \"side\", \"silver\", \"size\", \"sizing\", \"skin\", \"skin\", \"skin\", \"skinny\", \"skirt\", \"slack\", \"sleeve\", \"slipper\", \"small\", \"small\", \"small\", \"smell\", \"sneaker\", \"snug\", \"snug\", \"snug\", \"sock\", \"soft\", \"soft\", \"soft\", \"soft\", \"sol\", \"sole\", \"son\", \"spandex\", \"sparkle\", \"sport\", \"sport\", \"sport\", \"stainless\", \"steel\", \"sterling\", \"stone\", \"store\", \"store\", \"store\", \"store\", \"strap\", \"strap\", \"strap\", \"stretchy\", \"stud\", \"stuff\", \"style\", \"style\", \"style\", \"style\", \"style\", \"subtle\", \"suitcase\", \"summer\", \"summer\", \"sunglass\", \"support\", \"support\", \"supportive\", \"supportive\", \"tall\", \"tank\", \"tee\", \"test\", \"thigh\", \"thin\", \"thin\", \"thin\", \"thin\", \"thin\", \"thing\", \"thing\", \"thing\", \"thing\", \"thing\", \"thing\", \"tight\", \"tight\", \"tight\", \"time\", \"time\", \"time\", \"time\", \"time\", \"time\", \"time\", \"toe\", \"tool\", \"top\", \"top\", \"top\", \"top\", \"torso\", \"travel\", \"trip\", \"trip\", \"true\", \"true\", \"true\", \"underwear\", \"underwire\", \"unique\", \"use\", \"use\", \"use\", \"use\", \"value\", \"value\", \"vest\", \"waist\", \"waist\", \"waistband\", \"walk\", \"wallet\", \"wardrobe\", \"warm\", \"warm\", \"warm\", \"warm\", \"waste\", \"watch\", \"water\", \"water\", \"water\", \"way\", \"way\", \"way\", \"way\", \"way\", \"way\", \"way\", \"wear\", \"wear\", \"wear\", \"wear\", \"wear\", \"weekend\", \"weird\", \"well\", \"well\", \"well\", \"well\", \"well\", \"well\", \"well\", \"white\", \"white\", \"white\", \"white\", \"wide\", \"wide\", \"width\", \"wife\", \"wind\", \"wire\", \"woman\", \"woman\", \"woman\", \"woman\", \"work\", \"work\", \"work\", \"work\", \"work\", \"work\", \"work\", \"worth\", \"worth\", \"worth\", \"wrist\", \"year\", \"year\", \"zipper\", \"zipper\"]}, \"R\": 30, \"lambda.step\": 0.01, \"plot.opts\": {\"xlab\": \"PC1\", \"ylab\": \"PC2\"}, \"topic.order\": [6, 1, 5, 7, 2, 3, 4]};\n",
       "\n",
       "function LDAvis_load_lib(url, callback){\n",
       "  var s = document.createElement('script');\n",
       "  s.src = url;\n",
       "  s.async = true;\n",
       "  s.onreadystatechange = s.onload = callback;\n",
       "  s.onerror = function(){console.warn(\"failed to load library \" + url);};\n",
       "  document.getElementsByTagName(\"head\")[0].appendChild(s);\n",
       "}\n",
       "\n",
       "if(typeof(LDAvis) !== \"undefined\"){\n",
       "   // already loaded: just create the visualization\n",
       "   !function(LDAvis){\n",
       "       new LDAvis(\"#\" + \"ldavis_el7161223382907520807135101569\", ldavis_el7161223382907520807135101569_data);\n",
       "   }(LDAvis);\n",
       "}else if(typeof define === \"function\" && define.amd){\n",
       "   // require.js is available: use it to load d3/LDAvis\n",
       "   require.config({paths: {d3: \"https://cdnjs.cloudflare.com/ajax/libs/d3/3.5.5/d3.min\"}});\n",
       "   require([\"d3\"], function(d3){\n",
       "      window.d3 = d3;\n",
       "      LDAvis_load_lib(\"https://cdn.rawgit.com/bmabey/pyLDAvis/files/ldavis.v1.0.0.js\", function(){\n",
       "        new LDAvis(\"#\" + \"ldavis_el7161223382907520807135101569\", ldavis_el7161223382907520807135101569_data);\n",
       "      });\n",
       "    });\n",
       "}else{\n",
       "    // require.js not available: dynamically load d3 & LDAvis\n",
       "    LDAvis_load_lib(\"https://cdnjs.cloudflare.com/ajax/libs/d3/3.5.5/d3.min.js\", function(){\n",
       "         LDAvis_load_lib(\"https://cdn.rawgit.com/bmabey/pyLDAvis/files/ldavis.v1.0.0.js\", function(){\n",
       "                 new LDAvis(\"#\" + \"ldavis_el7161223382907520807135101569\", ldavis_el7161223382907520807135101569_data);\n",
       "            })\n",
       "         });\n",
       "}\n",
       "</script>"
      ],
      "text/plain": [
       "PreparedData(topic_coordinates=              x         y  topics  cluster       Freq\n",
       "topic                                                \n",
       "5      0.013833 -0.100088       1        1  20.251498\n",
       "0     -0.033863  0.144399       2        1  16.652202\n",
       "4      0.175514 -0.135779       3        1  16.130394\n",
       "6      0.082974 -0.167226       4        1  14.924324\n",
       "1      0.117881  0.079357       5        1  14.775942\n",
       "2      0.051213  0.234794       6        1  10.252329\n",
       "3     -0.407553 -0.055457       7        1   7.013311, topic_info=      Term          Freq         Total Category  logprob  loglift\n",
       "31    size  16069.000000  16069.000000  Default  30.0000  30.0000\n",
       "29    shoe  14792.000000  14792.000000  Default  29.0000  29.0000\n",
       "88   color   8735.000000   8735.000000  Default  28.0000  28.0000\n",
       "14    foot   6676.000000   6676.000000  Default  27.0000  27.0000\n",
       "118  watch   4076.000000   4076.000000  Default  26.0000  26.0000\n",
       "..     ...           ...           ...      ...      ...      ...\n",
       "6    water    342.235521    968.810847   Topic7  -5.1339   1.6168\n",
       "988   next    312.120771    741.742623   Topic7  -5.2260   1.7917\n",
       "52     day    438.757521   5015.975631   Topic7  -4.8854   0.2209\n",
       "69     one    354.180010   2093.500206   Topic7  -5.0996   0.8806\n",
       "474    use    298.923383   1916.258970   Topic7  -5.2692   0.7994\n",
       "\n",
       "[429 rows x 6 columns], token_table=      Topic      Freq       Term\n",
       "term                            \n",
       "1828      5  0.996298  accessory\n",
       "639       7  0.997206      adult\n",
       "79        7  0.997691        age\n",
       "73        1  0.200777     amazon\n",
       "73        2  0.602332     amazon\n",
       "...     ...       ...        ...\n",
       "479       6  0.998457      wrist\n",
       "127       1  0.259939       year\n",
       "127       7  0.739846       year\n",
       "300       2  0.849118     zipper\n",
       "300       4  0.149188     zipper\n",
       "\n",
       "[663 rows x 3 columns], R=30, lambda_step=0.01, plot_opts={'xlab': 'PC1', 'ylab': 'PC2'}, topic_order=[6, 1, 5, 7, 2, 3, 4])"
      ]
     },
     "execution_count": 192,
     "metadata": {},
     "output_type": "execute_result"
    }
   ],
   "source": [
    "# Visualize the topics\n",
    "pyLDAvis.enable_notebook()\n",
    "vis = pyLDAvis.gensim.prepare(lda_model, doc_term_matrix, dictionary)\n",
    "vis"
   ]
  },
  {
   "cell_type": "code",
   "execution_count": 193,
   "metadata": {
    "colab": {},
    "colab_type": "code",
    "id": "2Krd9ndB1S-0"
   },
   "outputs": [
    {
     "data": {
      "text/plain": [
       "[(0,\n",
       "  '0.034*\"good\" + 0.027*\"quality\" + 0.025*\"price\" + 0.023*\"product\" + 0.021*\"bag\" + 0.020*\"great\" + 0.012*\"time\" + 0.011*\"item\" + 0.010*\"cheap\" + 0.009*\"amazon\"'),\n",
       " (1,\n",
       "  '0.071*\"color\" + 0.045*\"great\" + 0.036*\"love\" + 0.029*\"nice\" + 0.028*\"dress\" + 0.024*\"fit\" + 0.021*\"good\" + 0.020*\"perfect\" + 0.019*\"comfortable\" + 0.017*\"black\"'),\n",
       " (2,\n",
       "  '0.048*\"watch\" + 0.023*\"gift\" + 0.018*\"band\" + 0.017*\"nice\" + 0.017*\"earring\" + 0.016*\"time\" + 0.015*\"beautiful\" + 0.013*\"price\" + 0.012*\"great\" + 0.011*\"big\"'),\n",
       " (3,\n",
       "  '0.051*\"year\" + 0.043*\"ring\" + 0.040*\"old\" + 0.026*\"month\" + 0.021*\"son\" + 0.018*\"time\" + 0.015*\"wife\" + 0.014*\"daughter\" + 0.012*\"gold\" + 0.011*\"last\"'),\n",
       " (4,\n",
       "  '0.120*\"size\" + 0.043*\"small\" + 0.037*\"fit\" + 0.035*\"large\" + 0.028*\"big\" + 0.022*\"pant\" + 0.019*\"little\" + 0.014*\"medium\" + 0.014*\"short\" + 0.014*\"bit\"'),\n",
       " (5,\n",
       "  '0.088*\"shoe\" + 0.040*\"foot\" + 0.035*\"pair\" + 0.032*\"comfortable\" + 0.023*\"boot\" + 0.019*\"sock\" + 0.015*\"great\" + 0.014*\"day\" + 0.013*\"toe\" + 0.012*\"good\"'),\n",
       " (6,\n",
       "  '0.032*\"shirt\" + 0.028*\"bra\" + 0.018*\"top\" + 0.013*\"strap\" + 0.011*\"fabric\" + 0.011*\"comfortable\" + 0.009*\"side\" + 0.009*\"pocket\" + 0.009*\"material\" + 0.009*\"little\"')]"
      ]
     },
     "execution_count": 193,
     "metadata": {},
     "output_type": "execute_result"
    }
   ],
   "source": [
    "# Print the Keyword in the 10 topics\n",
    "lda_model.print_topics()"
   ]
  }
 ],
 "metadata": {
  "colab": {
   "collapsed_sections": [],
   "name": "Mining Online Reviews using Topic Modeling (LDA)",
   "provenance": [],
   "version": "0.3.2"
  },
  "kernelspec": {
   "display_name": "Python 3",
   "language": "python",
   "name": "python3"
  },
  "language_info": {
   "codemirror_mode": {
    "name": "ipython",
    "version": 3
   },
   "file_extension": ".py",
   "mimetype": "text/x-python",
   "name": "python",
   "nbconvert_exporter": "python",
   "pygments_lexer": "ipython3",
   "version": "3.8.5"
  }
 },
 "nbformat": 4,
 "nbformat_minor": 1
}
